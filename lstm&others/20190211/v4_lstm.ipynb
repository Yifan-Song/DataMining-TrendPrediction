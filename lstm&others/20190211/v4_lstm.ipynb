{
 "cells": [
  {
   "cell_type": "markdown",
   "metadata": {},
   "source": [
    "# Objective\n",
    "* 20190102: \n",
    "    * Predict stock price in next day using long short term memory(LSTM)\n",
    "    * Given prices for the last N days, we do prediction for day N+1\n",
    "    * Here we split 3 years of data into train(60%), dev(20%) and test(20%)\n",
    "    * Here we use MinMaxScalar to fit_transform the train set, which we then use to transform the test set"
   ]
  },
  {
   "cell_type": "code",
   "execution_count": 1,
   "metadata": {
    "scrolled": true
   },
   "outputs": [
    {
     "name": "stderr",
     "output_type": "stream",
     "text": [
      "Using TensorFlow backend.\n"
     ]
    }
   ],
   "source": [
    "%matplotlib inline\n",
    "\n",
    "import math\n",
    "import matplotlib\n",
    "import numpy as np\n",
    "import pandas as pd\n",
    "import seaborn as sns\n",
    "import time\n",
    "\n",
    "from datetime import date\n",
    "from matplotlib import pyplot as plt\n",
    "from numpy.random import seed\n",
    "from pylab import rcParams\n",
    "from sklearn.metrics import mean_squared_error\n",
    "from tqdm import tqdm_notebook\n",
    "from sklearn.preprocessing import MinMaxScaler\n",
    "from tensorflow import set_random_seed\n",
    "from keras.models import Sequential\n",
    "from keras.layers import Dense, Dropout, LSTM\n",
    "from keras.utils import plot_model\n",
    "\n",
    "#### Input params ##################\n",
    "stk_path = \"./VTI.csv\"\n",
    "test_size = 0.2                # proportion of dataset to be used as test set\n",
    "cv_size = 0.2                  # proportion of dataset to be used as cross-validation set\n",
    "\n",
    "N = 9                          # for feature at day t, we use lags from t-1, t-2, ..., t-N as features. \n",
    "                               # initial value before tuning\n",
    "lstm_units=50                  # lstm param. initial value before tuning.\n",
    "dropout_prob=1                 # lstm param. initial value before tuning.\n",
    "optimizer='adam'               # lstm param. initial value before tuning.\n",
    "epochs=1                       # lstm param. initial value before tuning.\n",
    "batch_size=1                   # lstm param. initial value before tuning.\n",
    "\n",
    "model_seed = 100\n",
    "\n",
    "fontsize = 14\n",
    "ticklabelsize = 14\n",
    "####################################\n",
    "\n",
    "# Set seeds to ensure same output results\n",
    "seed(101)\n",
    "set_random_seed(model_seed)"
   ]
  },
  {
   "cell_type": "markdown",
   "metadata": {},
   "source": [
    "# Common functions"
   ]
  },
  {
   "cell_type": "code",
   "execution_count": 1,
   "metadata": {},
   "outputs": [],
   "source": [
    "def get_mape(y_true, y_pred): \n",
    "    \"\"\"\n",
    "    Compute mean absolute percentage error (MAPE)\n",
    "    \"\"\"\n",
    "    y_true, y_pred = np.array(y_true), np.array(y_pred)\n",
    "    return np.mean(np.abs((y_true - y_pred) / y_true)) * 100\n",
    "\n",
    "def get_x_y(data, N, offset):\n",
    "    \"\"\"\n",
    "    Split data into x (features) and y (target)\n",
    "    \"\"\"\n",
    "    x, y = [], []\n",
    "    for i in range(offset, len(data)):\n",
    "        x.append(data[i-N:i])\n",
    "        y.append(data[i])\n",
    "    x = np.array(x)\n",
    "    y = np.array(y)\n",
    "    \n",
    "    return x, y\n",
    "\n",
    "def train_pred_eval_model(x_train_scaled, \\\n",
    "                          y_train_scaled, \\\n",
    "                          x_cv_scaled, \\\n",
    "                          y_cv_scaled, \\\n",
    "                          scaler, \\\n",
    "                          lstm_units=50, \\\n",
    "                          dropout_prob=0.5, \\\n",
    "                          optimizer='adam', \\\n",
    "                          epochs=1, \\\n",
    "                          batch_size=1):\n",
    "    '''\n",
    "    Train model, do prediction, scale back to original range and do evaluation\n",
    "    Use LSTM here.\n",
    "    Returns rmse, mape and predicted values\n",
    "    Inputs\n",
    "        x_train_scaled  : e.g. x_train_scaled.shape=(451, 9, 1). Here we are using the past 9 values to predict the next value\n",
    "        y_train_scaled  : e.g. y_train_scaled.shape=(451, 1)\n",
    "        x_cv_scaled     : use this to do predictions \n",
    "        y_cv_scaled     : actual value of the predictions (scaled)\n",
    "        scaler          : scaler that is used to fit_transform train set\n",
    "        lstm_units      : lstm param\n",
    "        dropout_prob    : lstm param\n",
    "        optimizer       : lstm param\n",
    "        epochs          : lstm param\n",
    "        batch_size      : lstm param\n",
    "    Outputs\n",
    "        rmse            : root mean square error\n",
    "        mape            : mean absolute percentage error\n",
    "        est             : predictions\n",
    "    '''\n",
    "    # Create the LSTM network\n",
    "    model = Sequential()\n",
    "    model.add(LSTM(units=lstm_units, return_sequences=True, input_shape=(x_train_scaled.shape[1],1)))\n",
    "    model.add(Dropout(dropout_prob)) # Add dropout with a probability of 0.5\n",
    "    model.add(LSTM(units=lstm_units))\n",
    "    model.add(Dropout(dropout_prob)) # Add dropout with a probability of 0.5\n",
    "    model.add(Dense(1))\n",
    "\n",
    "    # Compile and fit the LSTM network\n",
    "    model.compile(loss='mean_squared_error', optimizer=optimizer)\n",
    "    model.fit(x_train_scaled, y_train_scaled, epochs=epochs, batch_size=batch_size, verbose=0)\n",
    "    \n",
    "    # Do prediction\n",
    "    est_scaled = model.predict(x_cv_scaled)\n",
    "    est = scaler.inverse_transform(est_scaled)\n",
    "    \n",
    "    # Get correct scale of y_cv\n",
    "    y_cv = scaler.inverse_transform(y_cv_scaled)\n",
    "\n",
    "    # Calculate RMSE and MAPE\n",
    "    rmse = math.sqrt(mean_squared_error(y_cv, est))\n",
    "    mape = get_mape(y_cv, est)\n",
    "    \n",
    "    return rmse, mape, est"
   ]
  },
  {
   "cell_type": "code",
   "execution_count": null,
   "metadata": {},
   "outputs": [],
   "source": []
  },
  {
   "cell_type": "code",
   "execution_count": null,
   "metadata": {},
   "outputs": [],
   "source": []
  },
  {
   "cell_type": "code",
   "execution_count": null,
   "metadata": {},
   "outputs": [],
   "source": []
  },
  {
   "cell_type": "code",
   "execution_count": null,
   "metadata": {},
   "outputs": [],
   "source": []
  },
  {
   "cell_type": "code",
   "execution_count": null,
   "metadata": {},
   "outputs": [],
   "source": []
  },
  {
   "cell_type": "code",
   "execution_count": null,
   "metadata": {},
   "outputs": [],
   "source": []
  },
  {
   "cell_type": "code",
   "execution_count": null,
   "metadata": {},
   "outputs": [],
   "source": []
  },
  {
   "cell_type": "code",
   "execution_count": null,
   "metadata": {},
   "outputs": [],
   "source": []
  },
  {
   "cell_type": "code",
   "execution_count": null,
   "metadata": {},
   "outputs": [],
   "source": []
  },
  {
   "cell_type": "code",
   "execution_count": null,
   "metadata": {},
   "outputs": [],
   "source": []
  },
  {
   "cell_type": "code",
   "execution_count": 2,
   "metadata": {},
   "outputs": [
    {
     "ename": "SyntaxError",
     "evalue": "invalid character in identifier (<ipython-input-2-079e3ac76a17>, line 1)",
     "output_type": "error",
     "traceback": [
      "\u001b[1;36m  File \u001b[1;32m\"<ipython-input-2-079e3ac76a17>\"\u001b[1;36m, line \u001b[1;32m1\u001b[0m\n\u001b[1;33m    ，\u001b[0m\n\u001b[1;37m    ^\u001b[0m\n\u001b[1;31mSyntaxError\u001b[0m\u001b[1;31m:\u001b[0m invalid character in identifier\n"
     ]
    }
   ],
   "source": []
  },
  {
   "cell_type": "code",
   "execution_count": null,
   "metadata": {},
   "outputs": [],
   "source": []
  },
  {
   "cell_type": "code",
   "execution_count": null,
   "metadata": {},
   "outputs": [],
   "source": []
  },
  {
   "cell_type": "code",
   "execution_count": null,
   "metadata": {},
   "outputs": [],
   "source": []
  },
  {
   "cell_type": "code",
   "execution_count": null,
   "metadata": {},
   "outputs": [],
   "source": []
  },
  {
   "cell_type": "code",
   "execution_count": null,
   "metadata": {},
   "outputs": [],
   "source": []
  },
  {
   "cell_type": "markdown",
   "metadata": {},
   "source": [
    "# Load data"
   ]
  },
  {
   "cell_type": "code",
   "execution_count": 3,
   "metadata": {},
   "outputs": [
    {
     "data": {
      "text/html": [
       "<div>\n",
       "<style scoped>\n",
       "    .dataframe tbody tr th:only-of-type {\n",
       "        vertical-align: middle;\n",
       "    }\n",
       "\n",
       "    .dataframe tbody tr th {\n",
       "        vertical-align: top;\n",
       "    }\n",
       "\n",
       "    .dataframe thead th {\n",
       "        text-align: right;\n",
       "    }\n",
       "</style>\n",
       "<table border=\"1\" class=\"dataframe\">\n",
       "  <thead>\n",
       "    <tr style=\"text-align: right;\">\n",
       "      <th></th>\n",
       "      <th>date</th>\n",
       "      <th>open</th>\n",
       "      <th>high</th>\n",
       "      <th>low</th>\n",
       "      <th>close</th>\n",
       "      <th>adj_close</th>\n",
       "      <th>volume</th>\n",
       "      <th>month</th>\n",
       "    </tr>\n",
       "  </thead>\n",
       "  <tbody>\n",
       "    <tr>\n",
       "      <th>0</th>\n",
       "      <td>2015-11-25</td>\n",
       "      <td>107.510002</td>\n",
       "      <td>107.660004</td>\n",
       "      <td>107.250000</td>\n",
       "      <td>107.470001</td>\n",
       "      <td>101.497200</td>\n",
       "      <td>1820300</td>\n",
       "      <td>11</td>\n",
       "    </tr>\n",
       "    <tr>\n",
       "      <th>1</th>\n",
       "      <td>2015-11-27</td>\n",
       "      <td>107.589996</td>\n",
       "      <td>107.760002</td>\n",
       "      <td>107.220001</td>\n",
       "      <td>107.629997</td>\n",
       "      <td>101.648300</td>\n",
       "      <td>552400</td>\n",
       "      <td>11</td>\n",
       "    </tr>\n",
       "    <tr>\n",
       "      <th>2</th>\n",
       "      <td>2015-11-30</td>\n",
       "      <td>107.779999</td>\n",
       "      <td>107.849998</td>\n",
       "      <td>107.110001</td>\n",
       "      <td>107.169998</td>\n",
       "      <td>101.213867</td>\n",
       "      <td>3618100</td>\n",
       "      <td>11</td>\n",
       "    </tr>\n",
       "    <tr>\n",
       "      <th>3</th>\n",
       "      <td>2015-12-01</td>\n",
       "      <td>107.589996</td>\n",
       "      <td>108.209999</td>\n",
       "      <td>107.370003</td>\n",
       "      <td>108.180000</td>\n",
       "      <td>102.167740</td>\n",
       "      <td>2443600</td>\n",
       "      <td>12</td>\n",
       "    </tr>\n",
       "    <tr>\n",
       "      <th>4</th>\n",
       "      <td>2015-12-02</td>\n",
       "      <td>108.099998</td>\n",
       "      <td>108.269997</td>\n",
       "      <td>106.879997</td>\n",
       "      <td>107.050003</td>\n",
       "      <td>101.100533</td>\n",
       "      <td>2937200</td>\n",
       "      <td>12</td>\n",
       "    </tr>\n",
       "  </tbody>\n",
       "</table>\n",
       "</div>"
      ],
      "text/plain": [
       "        date        open        high         low       close   adj_close  \\\n",
       "0 2015-11-25  107.510002  107.660004  107.250000  107.470001  101.497200   \n",
       "1 2015-11-27  107.589996  107.760002  107.220001  107.629997  101.648300   \n",
       "2 2015-11-30  107.779999  107.849998  107.110001  107.169998  101.213867   \n",
       "3 2015-12-01  107.589996  108.209999  107.370003  108.180000  102.167740   \n",
       "4 2015-12-02  108.099998  108.269997  106.879997  107.050003  101.100533   \n",
       "\n",
       "    volume  month  \n",
       "0  1820300     11  \n",
       "1   552400     11  \n",
       "2  3618100     11  \n",
       "3  2443600     12  \n",
       "4  2937200     12  "
      ]
     },
     "execution_count": 3,
     "metadata": {},
     "output_type": "execute_result"
    }
   ],
   "source": [
    "df = pd.read_csv(stk_path, sep = \",\")\n",
    "\n",
    "# Convert Date column to datetime\n",
    "df.loc[:, 'Date'] = pd.to_datetime(df['Date'],format='%Y-%m-%d')\n",
    "\n",
    "# Change all column headings to be lower case, and remove spacing\n",
    "df.columns = [str(x).lower().replace(' ', '_') for x in df.columns]\n",
    "\n",
    "# Get month of each sample\n",
    "df['month'] = df['date'].dt.month\n",
    "\n",
    "# Sort by datetime\n",
    "df.sort_values(by='date', inplace=True, ascending=True)\n",
    "\n",
    "df.head()"
   ]
  },
  {
   "cell_type": "code",
   "execution_count": 4,
   "metadata": {},
   "outputs": [
    {
     "data": {
      "text/plain": [
       "Text(0, 0.5, 'USD')"
      ]
     },
     "execution_count": 4,
     "metadata": {},
     "output_type": "execute_result"
    },
    {
     "data": {
      "image/png": "[encoded data removed]",
      "text/plain": [
       "<Figure size 720x576 with 1 Axes>"
      ]
     },
     "metadata": {
      "needs_background": "light"
     },
     "output_type": "display_data"
    }
   ],
   "source": [
    "# Plot adjusted close over time\n",
    "rcParams['figure.figsize'] = 10, 8 # width 10, height 8\n",
    "\n",
    "ax = df.plot(x='date', y='adj_close', style='b-', grid=True)\n",
    "ax.set_xlabel(\"date\")\n",
    "ax.set_ylabel(\"USD\")"
   ]
  },
  {
   "cell_type": "markdown",
   "metadata": {},
   "source": [
    "# Split into train, dev and test sets"
   ]
  },
  {
   "cell_type": "markdown",
   "metadata": {},
   "source": [
    "We use lags up to N number of days to use as features."
   ]
  },
  {
   "cell_type": "code",
   "execution_count": 5,
   "metadata": {},
   "outputs": [
    {
     "name": "stdout",
     "output_type": "stream",
     "text": [
      "1\n",
      "2\n",
      "num_train = 453\n",
      "num_cv = 151\n",
      "num_test = 151\n",
      "3\n",
      "4\n",
      "train.shape = (453, 2)\n",
      "cv.shape = (151, 2)\n",
      "train_cv.shape = (604, 2)\n",
      "test.shape = (151, 2)\n"
     ]
    }
   ],
   "source": [
    "print(1)\n",
    "# Get sizes of each of the datasets\n",
    "num_cv = int(cv_size*len(df))\n",
    "num_test = int(test_size*len(df))\n",
    "num_train = len(df) - num_cv - num_test\n",
    "print(2)\n",
    "\n",
    "print(\"num_train = \" + str(num_train))\n",
    "print(\"num_cv = \" + str(num_cv))\n",
    "print(\"num_test = \" + str(num_test))\n",
    "print(3)\n",
    "\n",
    "# Split into train, cv, and test\n",
    "train = df[:num_train][['date', 'adj_close']]\n",
    "cv = df[num_train:num_train+num_cv][['date', 'adj_close']]\n",
    "train_cv = df[:num_train+num_cv][['date', 'adj_close']]\n",
    "test = df[num_train+num_cv:][['date', 'adj_close']]\n",
    "print(4)\n",
    "\n",
    "print(\"train.shape = \" + str(train.shape))\n",
    "print(\"cv.shape = \" + str(cv.shape))\n",
    "print(\"train_cv.shape = \" + str(train_cv.shape))\n",
    "print(\"test.shape = \" + str(test.shape))"
   ]
  },
  {
   "cell_type": "code",
   "execution_count": 6,
   "metadata": {
    "scrolled": true
   },
   "outputs": [
    {
     "name": "stdout",
     "output_type": "stream",
     "text": [
      "scaler.data_min_ = [87.91394]\n",
      "scaler.data_max_ = [125.576111]\n",
      "x_train.shape = (444, 9, 1)\n",
      "y_train.shape = (444, 1)\n"
     ]
    }
   ],
   "source": [
    "# Converting dataset into x_train and y_train\n",
    "# Here we only scale the train dataset, and not the entire dataset to prevent information leak\n",
    "scaler = MinMaxScaler(feature_range=(0, 1))\n",
    "train_scaled = scaler.fit_transform(np.array(train['adj_close']).reshape(-1,1))\n",
    "print(\"scaler.data_min_ = \" + str(scaler.data_min_))\n",
    "print(\"scaler.data_max_ = \" + str(scaler.data_max_))\n",
    "\n",
    "# Split into x and y\n",
    "x_train, y_train = get_x_y(train_scaled, N, N)\n",
    "print(\"x_train.shape = \" + str(x_train.shape)) # (446, 7, 1)\n",
    "print(\"y_train.shape = \" + str(y_train.shape)) # (446, 1)\n",
    "\n",
    "# x_train = np.reshape(x_train, (x_train.shape[0],x_train.shape[1],1)) # (446, 7, 1)\n",
    "# print(\"x_train.shape = \" + str(x_train.shape))"
   ]
  },
  {
   "cell_type": "code",
   "execution_count": 7,
   "metadata": {},
   "outputs": [
    {
     "name": "stdout",
     "output_type": "stream",
     "text": [
      "x_cv.shape = (151, 9, 1)\n",
      "y_cv.shape = (151, 1)\n"
     ]
    }
   ],
   "source": [
    "# Scale the cv dataset according the min and max obtained from train set\n",
    "train_cv_scaled  = scaler.transform(np.array(train_cv['adj_close']).reshape(-1,1))\n",
    "\n",
    "# Split into x and y\n",
    "x_cv, y_cv = get_x_y(train_cv_scaled, N, num_train)\n",
    "print(\"x_cv.shape = \" + str(x_cv.shape))\n",
    "print(\"y_cv.shape = \" + str(y_cv.shape))"
   ]
  },
  {
   "cell_type": "code",
   "execution_count": 8,
   "metadata": {},
   "outputs": [
    {
     "name": "stdout",
     "output_type": "stream",
     "text": [
      "scaler_final.data_min_ = [87.91394]\n",
      "scaler_final.data_max_ = [144.956665]\n"
     ]
    }
   ],
   "source": [
    "# Here we scale the train_cv set, for the final model\n",
    "scaler_final = MinMaxScaler(feature_range=(0, 1))\n",
    "train_cv_scaled_final = scaler_final.fit_transform(np.array(train_cv['adj_close']).reshape(-1,1))\n",
    "print(\"scaler_final.data_min_ = \" + str(scaler_final.data_min_))\n",
    "print(\"scaler_final.data_max_ = \" + str(scaler_final.data_max_))\n",
    "\n",
    "# Scale the test dataset according the min and max obtained from train_cv set\n",
    "test_scaled  = scaler_final.transform(np.array(df['adj_close']).reshape(-1,1))"
   ]
  },
  {
   "cell_type": "markdown",
   "metadata": {},
   "source": [
    "# Create and fit the LSTM network"
   ]
  },
  {
   "cell_type": "code",
   "execution_count": 9,
   "metadata": {},
   "outputs": [
    {
     "name": "stdout",
     "output_type": "stream",
     "text": [
      "WARNING:tensorflow:From c:\\programdata\\miniconda3\\lib\\site-packages\\tensorflow\\python\\framework\\op_def_library.py:263: colocate_with (from tensorflow.python.framework.ops) is deprecated and will be removed in a future version.\n",
      "Instructions for updating:\n",
      "Colocations handled automatically by placer.\n",
      "WARNING:tensorflow:From c:\\programdata\\miniconda3\\lib\\site-packages\\tensorflow\\python\\ops\\math_ops.py:3066: to_int32 (from tensorflow.python.ops.math_ops) is deprecated and will be removed in a future version.\n",
      "Instructions for updating:\n",
      "Use tf.cast instead.\n",
      "Epoch 1/1\n",
      " - 7s - loss: 0.0102\n"
     ]
    },
    {
     "data": {
      "text/plain": [
       "<keras.callbacks.History at 0x1baa01e54e0>"
      ]
     },
     "execution_count": 9,
     "metadata": {},
     "output_type": "execute_result"
    }
   ],
   "source": [
    "# Create the LSTM network\n",
    "model = Sequential()\n",
    "model.add(LSTM(units=lstm_units, return_sequences=True, input_shape=(x_train.shape[1],1)))\n",
    "model.add(Dropout(dropout_prob)) # Add dropout with a probability of 0.5\n",
    "model.add(LSTM(units=lstm_units))\n",
    "model.add(Dropout(dropout_prob)) # Add dropout with a probability of 0.5\n",
    "model.add(Dense(1))\n",
    "\n",
    "model.compile(loss='mean_squared_error', optimizer=optimizer)\n",
    "model.fit(x_train, y_train, epochs=epochs, batch_size=batch_size, verbose=2)"
   ]
  },
  {
   "cell_type": "code",
   "execution_count": 10,
   "metadata": {},
   "outputs": [
    {
     "name": "stdout",
     "output_type": "stream",
     "text": [
      "_________________________________________________________________\n",
      "Layer (type)                 Output Shape              Param #   \n",
      "=================================================================\n",
      "lstm_1 (LSTM)                (None, 9, 50)             10400     \n",
      "_________________________________________________________________\n",
      "dropout_1 (Dropout)          (None, 9, 50)             0         \n",
      "_________________________________________________________________\n",
      "lstm_2 (LSTM)                (None, 50)                20200     \n",
      "_________________________________________________________________\n",
      "dropout_2 (Dropout)          (None, 50)                0         \n",
      "_________________________________________________________________\n",
      "dense_1 (Dense)              (None, 1)                 51        \n",
      "=================================================================\n",
      "Total params: 30,651\n",
      "Trainable params: 30,651\n",
      "Non-trainable params: 0\n",
      "_________________________________________________________________\n"
     ]
    }
   ],
   "source": [
    "# Print model summary\n",
    "model.summary()"
   ]
  },
  {
   "cell_type": "code",
   "execution_count": 11,
   "metadata": {},
   "outputs": [],
   "source": [
    "# Plot model and save to file\n",
    "plot_model(model, to_file='model.png')"
   ]
  },
  {
   "cell_type": "markdown",
   "metadata": {},
   "source": [
    "# Predict on dev set"
   ]
  },
  {
   "cell_type": "code",
   "execution_count": 12,
   "metadata": {},
   "outputs": [
    {
     "name": "stdout",
     "output_type": "stream",
     "text": [
      "RMSE = 2.187\n",
      "MAPE = 1.061%\n"
     ]
    }
   ],
   "source": [
    "# Do prediction\n",
    "est = model.predict(x_cv)\n",
    "est_inv = scaler.inverse_transform(est)\n",
    "\n",
    "# Get correct scale of y_cv\n",
    "y_cv_inv = scaler.inverse_transform(y_cv)\n",
    "# Calculate RMSE\n",
    "rmse_bef_tuning = math.sqrt(mean_squared_error(y_cv_inv, est_inv))\n",
    "print(\"RMSE = %0.3f\" % rmse_bef_tuning)\n",
    "\n",
    "# Calculate MAPE\n",
    "mape_pct_bef_tuning = get_mape(y_cv_inv, est_inv)\n",
    "print(\"MAPE = %0.3f%%\" % mape_pct_bef_tuning)"
   ]
  },
  {
   "cell_type": "code",
   "execution_count": 13,
   "metadata": {},
   "outputs": [
    {
     "data": {
      "text/plain": [
       "Text(0, 0.5, 'USD')"
      ]
     },
     "execution_count": 13,
     "metadata": {},
     "output_type": "execute_result"
    },
    {
     "data": {
      "image/png": "[encoded data removed]",
      "text/plain": [
       "<Figure size 720x576 with 1 Axes>"
      ]
     },
     "metadata": {
      "needs_background": "light"
     },
     "output_type": "display_data"
    }
   ],
   "source": [
    "# Plot adjusted close over time\n",
    "rcParams['figure.figsize'] = 10, 8 # width 10, height 8\n",
    "\n",
    "est_df = pd.DataFrame({'est_inv': est_inv.reshape(-1), \n",
    "                       'y_cv_inv': y_cv_inv.reshape(-1),\n",
    "                       'date': cv['date']})\n",
    "\n",
    "ax = train.plot(x='date', y='adj_close', style='b-', grid=True)\n",
    "ax = cv.plot(x='date', y='adj_close', style='y-', grid=True, ax=ax)\n",
    "ax = test.plot(x='date', y='adj_close', style='g-', grid=True, ax=ax)\n",
    "ax = est_df.plot(x='date', y='est_inv', style='r-', grid=True, ax=ax)\n",
    "ax.legend(['train', 'dev', 'test', 'est'])\n",
    "ax.set_xlabel(\"date\")\n",
    "ax.set_ylabel(\"USD\")"
   ]
  },
  {
   "cell_type": "markdown",
   "metadata": {},
   "source": [
    "# Tuning N (no. of days to use as features)"
   ]
  },
  {
   "cell_type": "code",
   "execution_count": 14,
   "metadata": {
    "scrolled": false
   },
   "outputs": [
    {
     "data": {
      "application/vnd.jupyter.widget-view+json": {
       "model_id": "71b893ec8a194b65a0f84f7d7565577f",
       "version_major": 2,
       "version_minor": 0
      },
      "text/plain": [
       "HBox(children=(IntProgress(value=0, max=58), HTML(value='')))"
      ]
     },
     "metadata": {},
     "output_type": "display_data"
    },
    {
     "name": "stdout",
     "output_type": "stream",
     "text": [
      "\n",
      "Minutes taken = 37.308310564359026\n"
     ]
    },
    {
     "data": {
      "text/html": [
       "<div>\n",
       "<style scoped>\n",
       "    .dataframe tbody tr th:only-of-type {\n",
       "        vertical-align: middle;\n",
       "    }\n",
       "\n",
       "    .dataframe tbody tr th {\n",
       "        vertical-align: top;\n",
       "    }\n",
       "\n",
       "    .dataframe thead th {\n",
       "        text-align: right;\n",
       "    }\n",
       "</style>\n",
       "<table border=\"1\" class=\"dataframe\">\n",
       "  <thead>\n",
       "    <tr style=\"text-align: right;\">\n",
       "      <th></th>\n",
       "      <th>N</th>\n",
       "      <th>rmse</th>\n",
       "      <th>mape_pct</th>\n",
       "    </tr>\n",
       "  </thead>\n",
       "  <tbody>\n",
       "    <tr>\n",
       "      <th>0</th>\n",
       "      <td>2</td>\n",
       "      <td>3.400263</td>\n",
       "      <td>2.064098</td>\n",
       "    </tr>\n",
       "    <tr>\n",
       "      <th>1</th>\n",
       "      <td>3</td>\n",
       "      <td>4.959194</td>\n",
       "      <td>3.346245</td>\n",
       "    </tr>\n",
       "    <tr>\n",
       "      <th>2</th>\n",
       "      <td>4</td>\n",
       "      <td>2.466374</td>\n",
       "      <td>1.221967</td>\n",
       "    </tr>\n",
       "    <tr>\n",
       "      <th>3</th>\n",
       "      <td>5</td>\n",
       "      <td>1.923283</td>\n",
       "      <td>1.012599</td>\n",
       "    </tr>\n",
       "    <tr>\n",
       "      <th>4</th>\n",
       "      <td>6</td>\n",
       "      <td>6.358751</td>\n",
       "      <td>4.454986</td>\n",
       "    </tr>\n",
       "    <tr>\n",
       "      <th>5</th>\n",
       "      <td>7</td>\n",
       "      <td>3.385069</td>\n",
       "      <td>1.976944</td>\n",
       "    </tr>\n",
       "    <tr>\n",
       "      <th>6</th>\n",
       "      <td>8</td>\n",
       "      <td>2.690280</td>\n",
       "      <td>1.654124</td>\n",
       "    </tr>\n",
       "    <tr>\n",
       "      <th>7</th>\n",
       "      <td>9</td>\n",
       "      <td>2.482548</td>\n",
       "      <td>1.507671</td>\n",
       "    </tr>\n",
       "    <tr>\n",
       "      <th>8</th>\n",
       "      <td>10</td>\n",
       "      <td>5.808370</td>\n",
       "      <td>3.923370</td>\n",
       "    </tr>\n",
       "    <tr>\n",
       "      <th>9</th>\n",
       "      <td>11</td>\n",
       "      <td>3.321405</td>\n",
       "      <td>2.185052</td>\n",
       "    </tr>\n",
       "    <tr>\n",
       "      <th>10</th>\n",
       "      <td>12</td>\n",
       "      <td>2.348454</td>\n",
       "      <td>1.152663</td>\n",
       "    </tr>\n",
       "    <tr>\n",
       "      <th>11</th>\n",
       "      <td>13</td>\n",
       "      <td>2.274433</td>\n",
       "      <td>1.212033</td>\n",
       "    </tr>\n",
       "    <tr>\n",
       "      <th>12</th>\n",
       "      <td>14</td>\n",
       "      <td>2.696202</td>\n",
       "      <td>1.638950</td>\n",
       "    </tr>\n",
       "    <tr>\n",
       "      <th>13</th>\n",
       "      <td>15</td>\n",
       "      <td>2.811626</td>\n",
       "      <td>1.725686</td>\n",
       "    </tr>\n",
       "    <tr>\n",
       "      <th>14</th>\n",
       "      <td>16</td>\n",
       "      <td>4.137508</td>\n",
       "      <td>2.841378</td>\n",
       "    </tr>\n",
       "    <tr>\n",
       "      <th>15</th>\n",
       "      <td>17</td>\n",
       "      <td>6.309188</td>\n",
       "      <td>4.438516</td>\n",
       "    </tr>\n",
       "    <tr>\n",
       "      <th>16</th>\n",
       "      <td>18</td>\n",
       "      <td>2.474034</td>\n",
       "      <td>1.455424</td>\n",
       "    </tr>\n",
       "    <tr>\n",
       "      <th>17</th>\n",
       "      <td>19</td>\n",
       "      <td>3.989044</td>\n",
       "      <td>2.718082</td>\n",
       "    </tr>\n",
       "    <tr>\n",
       "      <th>18</th>\n",
       "      <td>20</td>\n",
       "      <td>2.228028</td>\n",
       "      <td>1.138882</td>\n",
       "    </tr>\n",
       "    <tr>\n",
       "      <th>19</th>\n",
       "      <td>21</td>\n",
       "      <td>4.508254</td>\n",
       "      <td>3.006115</td>\n",
       "    </tr>\n",
       "    <tr>\n",
       "      <th>20</th>\n",
       "      <td>22</td>\n",
       "      <td>3.882188</td>\n",
       "      <td>2.642685</td>\n",
       "    </tr>\n",
       "    <tr>\n",
       "      <th>21</th>\n",
       "      <td>23</td>\n",
       "      <td>2.412553</td>\n",
       "      <td>1.285138</td>\n",
       "    </tr>\n",
       "    <tr>\n",
       "      <th>22</th>\n",
       "      <td>24</td>\n",
       "      <td>3.493427</td>\n",
       "      <td>2.306764</td>\n",
       "    </tr>\n",
       "    <tr>\n",
       "      <th>23</th>\n",
       "      <td>25</td>\n",
       "      <td>2.273859</td>\n",
       "      <td>1.105567</td>\n",
       "    </tr>\n",
       "    <tr>\n",
       "      <th>24</th>\n",
       "      <td>26</td>\n",
       "      <td>2.805917</td>\n",
       "      <td>1.751063</td>\n",
       "    </tr>\n",
       "    <tr>\n",
       "      <th>25</th>\n",
       "      <td>27</td>\n",
       "      <td>2.616757</td>\n",
       "      <td>1.611024</td>\n",
       "    </tr>\n",
       "    <tr>\n",
       "      <th>26</th>\n",
       "      <td>28</td>\n",
       "      <td>5.866375</td>\n",
       "      <td>4.081110</td>\n",
       "    </tr>\n",
       "    <tr>\n",
       "      <th>27</th>\n",
       "      <td>29</td>\n",
       "      <td>2.508214</td>\n",
       "      <td>1.515870</td>\n",
       "    </tr>\n",
       "    <tr>\n",
       "      <th>28</th>\n",
       "      <td>30</td>\n",
       "      <td>4.063402</td>\n",
       "      <td>2.672891</td>\n",
       "    </tr>\n",
       "    <tr>\n",
       "      <th>29</th>\n",
       "      <td>31</td>\n",
       "      <td>3.917846</td>\n",
       "      <td>2.590617</td>\n",
       "    </tr>\n",
       "    <tr>\n",
       "      <th>30</th>\n",
       "      <td>32</td>\n",
       "      <td>4.653445</td>\n",
       "      <td>3.173875</td>\n",
       "    </tr>\n",
       "    <tr>\n",
       "      <th>31</th>\n",
       "      <td>33</td>\n",
       "      <td>3.492345</td>\n",
       "      <td>2.283310</td>\n",
       "    </tr>\n",
       "    <tr>\n",
       "      <th>32</th>\n",
       "      <td>34</td>\n",
       "      <td>2.437201</td>\n",
       "      <td>1.315107</td>\n",
       "    </tr>\n",
       "    <tr>\n",
       "      <th>33</th>\n",
       "      <td>35</td>\n",
       "      <td>3.943832</td>\n",
       "      <td>2.593152</td>\n",
       "    </tr>\n",
       "    <tr>\n",
       "      <th>34</th>\n",
       "      <td>36</td>\n",
       "      <td>2.249329</td>\n",
       "      <td>1.141590</td>\n",
       "    </tr>\n",
       "    <tr>\n",
       "      <th>35</th>\n",
       "      <td>37</td>\n",
       "      <td>4.421357</td>\n",
       "      <td>2.992138</td>\n",
       "    </tr>\n",
       "    <tr>\n",
       "      <th>36</th>\n",
       "      <td>38</td>\n",
       "      <td>2.365410</td>\n",
       "      <td>1.090110</td>\n",
       "    </tr>\n",
       "    <tr>\n",
       "      <th>37</th>\n",
       "      <td>39</td>\n",
       "      <td>4.652769</td>\n",
       "      <td>3.174134</td>\n",
       "    </tr>\n",
       "    <tr>\n",
       "      <th>38</th>\n",
       "      <td>40</td>\n",
       "      <td>2.424338</td>\n",
       "      <td>1.387234</td>\n",
       "    </tr>\n",
       "    <tr>\n",
       "      <th>39</th>\n",
       "      <td>41</td>\n",
       "      <td>2.995750</td>\n",
       "      <td>1.665706</td>\n",
       "    </tr>\n",
       "    <tr>\n",
       "      <th>40</th>\n",
       "      <td>42</td>\n",
       "      <td>4.237445</td>\n",
       "      <td>2.839313</td>\n",
       "    </tr>\n",
       "    <tr>\n",
       "      <th>41</th>\n",
       "      <td>43</td>\n",
       "      <td>3.526690</td>\n",
       "      <td>2.261067</td>\n",
       "    </tr>\n",
       "    <tr>\n",
       "      <th>42</th>\n",
       "      <td>44</td>\n",
       "      <td>2.308775</td>\n",
       "      <td>1.165813</td>\n",
       "    </tr>\n",
       "    <tr>\n",
       "      <th>43</th>\n",
       "      <td>45</td>\n",
       "      <td>2.256917</td>\n",
       "      <td>1.202524</td>\n",
       "    </tr>\n",
       "    <tr>\n",
       "      <th>44</th>\n",
       "      <td>46</td>\n",
       "      <td>2.720932</td>\n",
       "      <td>1.660153</td>\n",
       "    </tr>\n",
       "    <tr>\n",
       "      <th>45</th>\n",
       "      <td>47</td>\n",
       "      <td>2.349434</td>\n",
       "      <td>1.243812</td>\n",
       "    </tr>\n",
       "    <tr>\n",
       "      <th>46</th>\n",
       "      <td>48</td>\n",
       "      <td>2.268144</td>\n",
       "      <td>1.097256</td>\n",
       "    </tr>\n",
       "    <tr>\n",
       "      <th>47</th>\n",
       "      <td>49</td>\n",
       "      <td>2.303123</td>\n",
       "      <td>1.142035</td>\n",
       "    </tr>\n",
       "    <tr>\n",
       "      <th>48</th>\n",
       "      <td>50</td>\n",
       "      <td>2.333484</td>\n",
       "      <td>1.257178</td>\n",
       "    </tr>\n",
       "    <tr>\n",
       "      <th>49</th>\n",
       "      <td>51</td>\n",
       "      <td>2.348892</td>\n",
       "      <td>1.088371</td>\n",
       "    </tr>\n",
       "    <tr>\n",
       "      <th>50</th>\n",
       "      <td>52</td>\n",
       "      <td>6.194607</td>\n",
       "      <td>4.264128</td>\n",
       "    </tr>\n",
       "    <tr>\n",
       "      <th>51</th>\n",
       "      <td>53</td>\n",
       "      <td>2.339436</td>\n",
       "      <td>1.270358</td>\n",
       "    </tr>\n",
       "    <tr>\n",
       "      <th>52</th>\n",
       "      <td>54</td>\n",
       "      <td>3.249816</td>\n",
       "      <td>2.169863</td>\n",
       "    </tr>\n",
       "    <tr>\n",
       "      <th>53</th>\n",
       "      <td>55</td>\n",
       "      <td>2.660097</td>\n",
       "      <td>1.597900</td>\n",
       "    </tr>\n",
       "    <tr>\n",
       "      <th>54</th>\n",
       "      <td>56</td>\n",
       "      <td>2.920530</td>\n",
       "      <td>1.588966</td>\n",
       "    </tr>\n",
       "    <tr>\n",
       "      <th>55</th>\n",
       "      <td>57</td>\n",
       "      <td>2.820245</td>\n",
       "      <td>1.774264</td>\n",
       "    </tr>\n",
       "    <tr>\n",
       "      <th>56</th>\n",
       "      <td>58</td>\n",
       "      <td>3.013954</td>\n",
       "      <td>1.987857</td>\n",
       "    </tr>\n",
       "    <tr>\n",
       "      <th>57</th>\n",
       "      <td>59</td>\n",
       "      <td>2.382217</td>\n",
       "      <td>1.254792</td>\n",
       "    </tr>\n",
       "  </tbody>\n",
       "</table>\n",
       "</div>"
      ],
      "text/plain": [
       "     N      rmse  mape_pct\n",
       "0    2  3.400263  2.064098\n",
       "1    3  4.959194  3.346245\n",
       "2    4  2.466374  1.221967\n",
       "3    5  1.923283  1.012599\n",
       "4    6  6.358751  4.454986\n",
       "5    7  3.385069  1.976944\n",
       "6    8  2.690280  1.654124\n",
       "7    9  2.482548  1.507671\n",
       "8   10  5.808370  3.923370\n",
       "9   11  3.321405  2.185052\n",
       "10  12  2.348454  1.152663\n",
       "11  13  2.274433  1.212033\n",
       "12  14  2.696202  1.638950\n",
       "13  15  2.811626  1.725686\n",
       "14  16  4.137508  2.841378\n",
       "15  17  6.309188  4.438516\n",
       "16  18  2.474034  1.455424\n",
       "17  19  3.989044  2.718082\n",
       "18  20  2.228028  1.138882\n",
       "19  21  4.508254  3.006115\n",
       "20  22  3.882188  2.642685\n",
       "21  23  2.412553  1.285138\n",
       "22  24  3.493427  2.306764\n",
       "23  25  2.273859  1.105567\n",
       "24  26  2.805917  1.751063\n",
       "25  27  2.616757  1.611024\n",
       "26  28  5.866375  4.081110\n",
       "27  29  2.508214  1.515870\n",
       "28  30  4.063402  2.672891\n",
       "29  31  3.917846  2.590617\n",
       "30  32  4.653445  3.173875\n",
       "31  33  3.492345  2.283310\n",
       "32  34  2.437201  1.315107\n",
       "33  35  3.943832  2.593152\n",
       "34  36  2.249329  1.141590\n",
       "35  37  4.421357  2.992138\n",
       "36  38  2.365410  1.090110\n",
       "37  39  4.652769  3.174134\n",
       "38  40  2.424338  1.387234\n",
       "39  41  2.995750  1.665706\n",
       "40  42  4.237445  2.839313\n",
       "41  43  3.526690  2.261067\n",
       "42  44  2.308775  1.165813\n",
       "43  45  2.256917  1.202524\n",
       "44  46  2.720932  1.660153\n",
       "45  47  2.349434  1.243812\n",
       "46  48  2.268144  1.097256\n",
       "47  49  2.303123  1.142035\n",
       "48  50  2.333484  1.257178\n",
       "49  51  2.348892  1.088371\n",
       "50  52  6.194607  4.264128\n",
       "51  53  2.339436  1.270358\n",
       "52  54  3.249816  2.169863\n",
       "53  55  2.660097  1.597900\n",
       "54  56  2.920530  1.588966\n",
       "55  57  2.820245  1.774264\n",
       "56  58  3.013954  1.987857\n",
       "57  59  2.382217  1.254792"
      ]
     },
     "execution_count": 14,
     "metadata": {},
     "output_type": "execute_result"
    }
   ],
   "source": [
    "param_label = 'N'\n",
    "param_list = range(2, 60)\n",
    "\n",
    "error_rate = {param_label: [], 'rmse': [], 'mape_pct': []}\n",
    "tic = time.time()\n",
    "for param in tqdm_notebook(param_list):\n",
    "    \n",
    "    # Split train into x and y\n",
    "    x_train_scaled, y_train_scaled = get_x_y(train_scaled, param, param)\n",
    "\n",
    "    # Split cv into x and y\n",
    "    x_cv_scaled, y_cv_scaled = get_x_y(train_cv_scaled, param, num_train)\n",
    "    \n",
    "    # Train, predict and eval model\n",
    "    rmse, mape, _ = train_pred_eval_model(x_train_scaled, \\\n",
    "                                          y_train_scaled, \\\n",
    "                                          x_cv_scaled, \\\n",
    "                                          y_cv_scaled, \\\n",
    "                                          scaler, \\\n",
    "                                          lstm_units=lstm_units, \\\n",
    "                                          dropout_prob=dropout_prob, \\\n",
    "                                          optimizer='adam', \\\n",
    "                                          epochs=epochs, \\\n",
    "                                          batch_size=batch_size)\n",
    "    \n",
    "    # Collect results\n",
    "    error_rate[param_label].append(param)\n",
    "    error_rate['rmse'].append(rmse)\n",
    "    error_rate['mape_pct'].append(mape)\n",
    "    \n",
    "error_rate = pd.DataFrame(error_rate)\n",
    "toc = time.time()\n",
    "print(\"Minutes taken = \" + str((toc-tic)/60.0))\n",
    "error_rate   "
   ]
  },
  {
   "cell_type": "code",
   "execution_count": 15,
   "metadata": {
    "scrolled": false
   },
   "outputs": [
    {
     "data": {
      "text/plain": [
       "Text(0, 0.5, 'RMSE/MAPE(%)')"
      ]
     },
     "execution_count": 15,
     "metadata": {},
     "output_type": "execute_result"
    },
    {
     "data": {
      "image/png": "[encoded data removed]",
      "text/plain": [
       "<Figure size 720x576 with 1 Axes>"
      ]
     },
     "metadata": {
      "needs_background": "light"
     },
     "output_type": "display_data"
    }
   ],
   "source": [
    "# Plot RMSE \n",
    "rcParams['figure.figsize'] = 10, 8 # width 10, height 8\n",
    "\n",
    "ax = error_rate.plot(x='N', y='rmse', style='bx-', grid=True)\n",
    "ax = error_rate.plot(x='N', y='mape_pct', style='rx-', grid=True, ax=ax)\n",
    "ax.set_xlabel(\"N\")\n",
    "ax.set_ylabel(\"RMSE/MAPE(%)\")"
   ]
  },
  {
   "cell_type": "code",
   "execution_count": 16,
   "metadata": {},
   "outputs": [
    {
     "name": "stdout",
     "output_type": "stream",
     "text": [
      "min RMSE = 1.923\n",
      "min MAPE = 1.013%\n",
      "optimum N = 5\n"
     ]
    }
   ],
   "source": [
    "# Get optimum value for param\n",
    "temp = error_rate[error_rate['rmse'] == error_rate['rmse'].min()]\n",
    "N_opt = temp['N'].values[0]\n",
    "print(\"min RMSE = %0.3f\" % error_rate['rmse'].min())\n",
    "print(\"min MAPE = %0.3f%%\" % error_rate['mape_pct'].min())\n",
    "print(\"optimum \" + param_label + \" = \" + str(N_opt))"
   ]
  },
  {
   "cell_type": "markdown",
   "metadata": {},
   "source": [
    "# Tuning model - epochs and batch_size"
   ]
  },
  {
   "cell_type": "code",
   "execution_count": 17,
   "metadata": {
    "scrolled": true
   },
   "outputs": [
    {
     "data": {
      "application/vnd.jupyter.widget-view+json": {
       "model_id": "d51a131e40c74ccb91ae4a7d8bfa793d",
       "version_major": 2,
       "version_minor": 0
      },
      "text/plain": [
       "HBox(children=(IntProgress(value=0, max=6), HTML(value='')))"
      ]
     },
     "metadata": {},
     "output_type": "display_data"
    },
    {
     "data": {
      "application/vnd.jupyter.widget-view+json": {
       "model_id": "32d12c8c1207437690d544a0e9cb6b33",
       "version_major": 2,
       "version_minor": 0
      },
      "text/plain": [
       "HBox(children=(IntProgress(value=0, max=5), HTML(value='')))"
      ]
     },
     "metadata": {},
     "output_type": "display_data"
    },
    {
     "data": {
      "application/vnd.jupyter.widget-view+json": {
       "model_id": "21da27d7dae344f8a7b52df63f21577f",
       "version_major": 2,
       "version_minor": 0
      },
      "text/plain": [
       "HBox(children=(IntProgress(value=0, max=5), HTML(value='')))"
      ]
     },
     "metadata": {},
     "output_type": "display_data"
    },
    {
     "data": {
      "application/vnd.jupyter.widget-view+json": {
       "model_id": "6dca5572d14849899f688ebc7f3481d4",
       "version_major": 2,
       "version_minor": 0
      },
      "text/plain": [
       "HBox(children=(IntProgress(value=0, max=5), HTML(value='')))"
      ]
     },
     "metadata": {},
     "output_type": "display_data"
    },
    {
     "data": {
      "application/vnd.jupyter.widget-view+json": {
       "model_id": "bdb50bb85a94426299bb24d2aa3a294c",
       "version_major": 2,
       "version_minor": 0
      },
      "text/plain": [
       "HBox(children=(IntProgress(value=0, max=5), HTML(value='')))"
      ]
     },
     "metadata": {},
     "output_type": "display_data"
    },
    {
     "data": {
      "application/vnd.jupyter.widget-view+json": {
       "model_id": "30cf058872344a0fb3c8bc22aac1b00c",
       "version_major": 2,
       "version_minor": 0
      },
      "text/plain": [
       "HBox(children=(IntProgress(value=0, max=5), HTML(value='')))"
      ]
     },
     "metadata": {},
     "output_type": "display_data"
    },
    {
     "data": {
      "application/vnd.jupyter.widget-view+json": {
       "model_id": "94f569f9472046979395105500004bdf",
       "version_major": 2,
       "version_minor": 0
      },
      "text/plain": [
       "HBox(children=(IntProgress(value=0, max=5), HTML(value='')))"
      ]
     },
     "metadata": {},
     "output_type": "display_data"
    },
    {
     "name": "stdout",
     "output_type": "stream",
     "text": [
      "\n",
      "Minutes taken = 75.52254137595494\n"
     ]
    },
    {
     "data": {
      "text/html": [
       "<div>\n",
       "<style scoped>\n",
       "    .dataframe tbody tr th:only-of-type {\n",
       "        vertical-align: middle;\n",
       "    }\n",
       "\n",
       "    .dataframe tbody tr th {\n",
       "        vertical-align: top;\n",
       "    }\n",
       "\n",
       "    .dataframe thead th {\n",
       "        text-align: right;\n",
       "    }\n",
       "</style>\n",
       "<table border=\"1\" class=\"dataframe\">\n",
       "  <thead>\n",
       "    <tr style=\"text-align: right;\">\n",
       "      <th></th>\n",
       "      <th>epochs</th>\n",
       "      <th>batch_size</th>\n",
       "      <th>rmse</th>\n",
       "      <th>mape_pct</th>\n",
       "    </tr>\n",
       "  </thead>\n",
       "  <tbody>\n",
       "    <tr>\n",
       "      <th>0</th>\n",
       "      <td>1</td>\n",
       "      <td>8</td>\n",
       "      <td>3.475563</td>\n",
       "      <td>2.302557</td>\n",
       "    </tr>\n",
       "    <tr>\n",
       "      <th>1</th>\n",
       "      <td>1</td>\n",
       "      <td>16</td>\n",
       "      <td>1.897913</td>\n",
       "      <td>1.059061</td>\n",
       "    </tr>\n",
       "    <tr>\n",
       "      <th>2</th>\n",
       "      <td>1</td>\n",
       "      <td>32</td>\n",
       "      <td>13.061261</td>\n",
       "      <td>9.501036</td>\n",
       "    </tr>\n",
       "    <tr>\n",
       "      <th>3</th>\n",
       "      <td>1</td>\n",
       "      <td>64</td>\n",
       "      <td>35.053016</td>\n",
       "      <td>25.875440</td>\n",
       "    </tr>\n",
       "    <tr>\n",
       "      <th>4</th>\n",
       "      <td>1</td>\n",
       "      <td>128</td>\n",
       "      <td>41.932591</td>\n",
       "      <td>30.981785</td>\n",
       "    </tr>\n",
       "    <tr>\n",
       "      <th>5</th>\n",
       "      <td>10</td>\n",
       "      <td>8</td>\n",
       "      <td>1.904582</td>\n",
       "      <td>1.002477</td>\n",
       "    </tr>\n",
       "    <tr>\n",
       "      <th>6</th>\n",
       "      <td>10</td>\n",
       "      <td>16</td>\n",
       "      <td>2.377222</td>\n",
       "      <td>1.157922</td>\n",
       "    </tr>\n",
       "    <tr>\n",
       "      <th>7</th>\n",
       "      <td>10</td>\n",
       "      <td>32</td>\n",
       "      <td>2.988943</td>\n",
       "      <td>1.615738</td>\n",
       "    </tr>\n",
       "    <tr>\n",
       "      <th>8</th>\n",
       "      <td>10</td>\n",
       "      <td>64</td>\n",
       "      <td>3.798084</td>\n",
       "      <td>2.603562</td>\n",
       "    </tr>\n",
       "    <tr>\n",
       "      <th>9</th>\n",
       "      <td>10</td>\n",
       "      <td>128</td>\n",
       "      <td>8.404959</td>\n",
       "      <td>6.028261</td>\n",
       "    </tr>\n",
       "    <tr>\n",
       "      <th>10</th>\n",
       "      <td>20</td>\n",
       "      <td>8</td>\n",
       "      <td>1.872278</td>\n",
       "      <td>0.934919</td>\n",
       "    </tr>\n",
       "    <tr>\n",
       "      <th>11</th>\n",
       "      <td>20</td>\n",
       "      <td>16</td>\n",
       "      <td>2.069396</td>\n",
       "      <td>0.965546</td>\n",
       "    </tr>\n",
       "    <tr>\n",
       "      <th>12</th>\n",
       "      <td>20</td>\n",
       "      <td>32</td>\n",
       "      <td>2.092941</td>\n",
       "      <td>0.938398</td>\n",
       "    </tr>\n",
       "    <tr>\n",
       "      <th>13</th>\n",
       "      <td>20</td>\n",
       "      <td>64</td>\n",
       "      <td>2.665045</td>\n",
       "      <td>1.338988</td>\n",
       "    </tr>\n",
       "    <tr>\n",
       "      <th>14</th>\n",
       "      <td>20</td>\n",
       "      <td>128</td>\n",
       "      <td>1.917076</td>\n",
       "      <td>1.002704</td>\n",
       "    </tr>\n",
       "    <tr>\n",
       "      <th>15</th>\n",
       "      <td>30</td>\n",
       "      <td>8</td>\n",
       "      <td>1.764231</td>\n",
       "      <td>0.911079</td>\n",
       "    </tr>\n",
       "    <tr>\n",
       "      <th>16</th>\n",
       "      <td>30</td>\n",
       "      <td>16</td>\n",
       "      <td>1.959538</td>\n",
       "      <td>1.074091</td>\n",
       "    </tr>\n",
       "    <tr>\n",
       "      <th>17</th>\n",
       "      <td>30</td>\n",
       "      <td>32</td>\n",
       "      <td>1.928624</td>\n",
       "      <td>0.894406</td>\n",
       "    </tr>\n",
       "    <tr>\n",
       "      <th>18</th>\n",
       "      <td>30</td>\n",
       "      <td>64</td>\n",
       "      <td>2.071117</td>\n",
       "      <td>0.944296</td>\n",
       "    </tr>\n",
       "    <tr>\n",
       "      <th>19</th>\n",
       "      <td>30</td>\n",
       "      <td>128</td>\n",
       "      <td>2.802550</td>\n",
       "      <td>1.428999</td>\n",
       "    </tr>\n",
       "    <tr>\n",
       "      <th>20</th>\n",
       "      <td>40</td>\n",
       "      <td>8</td>\n",
       "      <td>2.863997</td>\n",
       "      <td>1.902669</td>\n",
       "    </tr>\n",
       "    <tr>\n",
       "      <th>21</th>\n",
       "      <td>40</td>\n",
       "      <td>16</td>\n",
       "      <td>2.453738</td>\n",
       "      <td>1.551219</td>\n",
       "    </tr>\n",
       "    <tr>\n",
       "      <th>22</th>\n",
       "      <td>40</td>\n",
       "      <td>32</td>\n",
       "      <td>1.842684</td>\n",
       "      <td>0.928094</td>\n",
       "    </tr>\n",
       "    <tr>\n",
       "      <th>23</th>\n",
       "      <td>40</td>\n",
       "      <td>64</td>\n",
       "      <td>2.147552</td>\n",
       "      <td>0.975537</td>\n",
       "    </tr>\n",
       "    <tr>\n",
       "      <th>24</th>\n",
       "      <td>40</td>\n",
       "      <td>128</td>\n",
       "      <td>2.581723</td>\n",
       "      <td>1.281992</td>\n",
       "    </tr>\n",
       "    <tr>\n",
       "      <th>25</th>\n",
       "      <td>50</td>\n",
       "      <td>8</td>\n",
       "      <td>2.053239</td>\n",
       "      <td>1.256125</td>\n",
       "    </tr>\n",
       "    <tr>\n",
       "      <th>26</th>\n",
       "      <td>50</td>\n",
       "      <td>16</td>\n",
       "      <td>1.774018</td>\n",
       "      <td>0.899051</td>\n",
       "    </tr>\n",
       "    <tr>\n",
       "      <th>27</th>\n",
       "      <td>50</td>\n",
       "      <td>32</td>\n",
       "      <td>1.800230</td>\n",
       "      <td>0.885090</td>\n",
       "    </tr>\n",
       "    <tr>\n",
       "      <th>28</th>\n",
       "      <td>50</td>\n",
       "      <td>64</td>\n",
       "      <td>2.246112</td>\n",
       "      <td>1.037732</td>\n",
       "    </tr>\n",
       "    <tr>\n",
       "      <th>29</th>\n",
       "      <td>50</td>\n",
       "      <td>128</td>\n",
       "      <td>2.479260</td>\n",
       "      <td>1.181043</td>\n",
       "    </tr>\n",
       "  </tbody>\n",
       "</table>\n",
       "</div>"
      ],
      "text/plain": [
       "    epochs  batch_size       rmse   mape_pct\n",
       "0        1           8   3.475563   2.302557\n",
       "1        1          16   1.897913   1.059061\n",
       "2        1          32  13.061261   9.501036\n",
       "3        1          64  35.053016  25.875440\n",
       "4        1         128  41.932591  30.981785\n",
       "5       10           8   1.904582   1.002477\n",
       "6       10          16   2.377222   1.157922\n",
       "7       10          32   2.988943   1.615738\n",
       "8       10          64   3.798084   2.603562\n",
       "9       10         128   8.404959   6.028261\n",
       "10      20           8   1.872278   0.934919\n",
       "11      20          16   2.069396   0.965546\n",
       "12      20          32   2.092941   0.938398\n",
       "13      20          64   2.665045   1.338988\n",
       "14      20         128   1.917076   1.002704\n",
       "15      30           8   1.764231   0.911079\n",
       "16      30          16   1.959538   1.074091\n",
       "17      30          32   1.928624   0.894406\n",
       "18      30          64   2.071117   0.944296\n",
       "19      30         128   2.802550   1.428999\n",
       "20      40           8   2.863997   1.902669\n",
       "21      40          16   2.453738   1.551219\n",
       "22      40          32   1.842684   0.928094\n",
       "23      40          64   2.147552   0.975537\n",
       "24      40         128   2.581723   1.281992\n",
       "25      50           8   2.053239   1.256125\n",
       "26      50          16   1.774018   0.899051\n",
       "27      50          32   1.800230   0.885090\n",
       "28      50          64   2.246112   1.037732\n",
       "29      50         128   2.479260   1.181043"
      ]
     },
     "execution_count": 17,
     "metadata": {},
     "output_type": "execute_result"
    }
   ],
   "source": [
    "param_label = 'epochs'\n",
    "param_list = [1, 10, 20, 30, 40, 50]\n",
    "\n",
    "param2_label = 'batch_size'\n",
    "param2_list = [8, 16, 32, 64, 128]\n",
    "\n",
    "# Split train into x and y\n",
    "x_train_scaled, y_train_scaled = get_x_y(train_scaled, N_opt, N_opt)\n",
    "\n",
    "# Split cv into x and y\n",
    "x_cv_scaled, y_cv_scaled = get_x_y(train_cv_scaled, N_opt, num_train)\n",
    "\n",
    "error_rate = {param_label: [], param2_label: [], 'rmse': [], 'mape_pct': []}\n",
    "tic = time.time()\n",
    "for param in tqdm_notebook(param_list):\n",
    "    \n",
    "    for param2 in tqdm_notebook(param2_list):\n",
    "    \n",
    "        # Train, predict and eval model\n",
    "        rmse, mape, _ = train_pred_eval_model(x_train_scaled, \\\n",
    "                                              y_train_scaled, \\\n",
    "                                              x_cv_scaled, \\\n",
    "                                              y_cv_scaled, \\\n",
    "                                              scaler, \\\n",
    "                                              lstm_units=lstm_units, \\\n",
    "                                              dropout_prob=dropout_prob, \\\n",
    "                                              optimizer='adam', \\\n",
    "                                              epochs=param, \\\n",
    "                                              batch_size=param2)\n",
    "    \n",
    "        # Collect results\n",
    "        error_rate[param_label].append(param)\n",
    "        error_rate[param2_label].append(param2)\n",
    "        error_rate['rmse'].append(rmse)\n",
    "        error_rate['mape_pct'].append(mape)\n",
    "    \n",
    "error_rate = pd.DataFrame(error_rate)\n",
    "toc = time.time()\n",
    "print(\"Minutes taken = \" + str((toc-tic)/60.0))\n",
    "error_rate   "
   ]
  },
  {
   "cell_type": "code",
   "execution_count": 18,
   "metadata": {},
   "outputs": [
    {
     "data": {
      "text/plain": [
       "<matplotlib.legend.Legend at 0x1bc0051c7f0>"
      ]
     },
     "execution_count": 18,
     "metadata": {},
     "output_type": "execute_result"
    },
    {
     "data": {
      "image/png": "[encoded data removed]",
      "text/plain": [
       "<Figure size 720x576 with 1 Axes>"
      ]
     },
     "metadata": {
      "needs_background": "light"
     },
     "output_type": "display_data"
    }
   ],
   "source": [
    "# Plot performance versus params\n",
    "rcParams['figure.figsize'] = 10, 8 # width 10, height 8\n",
    "temp = error_rate[error_rate[param2_label]==param2_list[0]]\n",
    "ax = temp.plot(x=param_label, y='rmse', style='bs-', grid=True)\n",
    "legend_list = [param2_label + '_' + str(param2_list[0])]\n",
    "\n",
    "color_list = ['r', 'g', 'k', 'y', 'm', 'c', '0.75']\n",
    "for i in range(1,len(param2_list)):\n",
    "    temp = error_rate[error_rate[param2_label]==param2_list[i]]\n",
    "    ax = temp.plot(x=param_label, y='rmse', color=color_list[i%len(color_list)], marker='s', grid=True, ax=ax)\n",
    "    legend_list.append(param2_label + '_' + str(param2_list[i]))\n",
    "\n",
    "ax.set_xlabel(param_label)\n",
    "ax.set_ylabel(\"RMSE\")\n",
    "matplotlib.rcParams.update({'font.size': 14})\n",
    "plt.legend(legend_list, loc='center left', bbox_to_anchor=(1.0, 0.5)) # positions legend outside figure\n",
    "# ax.set_xlim([10, 50])\n",
    "# ax.set_ylim([0, 5])"
   ]
  },
  {
   "cell_type": "code",
   "execution_count": 19,
   "metadata": {},
   "outputs": [
    {
     "name": "stdout",
     "output_type": "stream",
     "text": [
      "min RMSE = 1.764\n",
      "min MAPE = 0.885%\n",
      "optimum epochs = 30\n",
      "optimum batch_size = 8\n"
     ]
    }
   ],
   "source": [
    "# Get optimum value for param and param2\n",
    "temp = error_rate[error_rate['rmse'] == error_rate['rmse'].min()]\n",
    "epochs_opt = temp[param_label].values[0]\n",
    "batch_size_opt = temp[param2_label].values[0]\n",
    "print(\"min RMSE = %0.3f\" % error_rate['rmse'].min())\n",
    "print(\"min MAPE = %0.3f%%\" % error_rate['mape_pct'].min())\n",
    "print(\"optimum \" + param_label + \" = \" + str(epochs_opt))\n",
    "print(\"optimum \" + param2_label + \" = \" + str(batch_size_opt))"
   ]
  },
  {
   "cell_type": "markdown",
   "metadata": {},
   "source": [
    "# Tuning model - LSTM units and dropout prob"
   ]
  },
  {
   "cell_type": "code",
   "execution_count": 20,
   "metadata": {},
   "outputs": [
    {
     "data": {
      "application/vnd.jupyter.widget-view+json": {
       "model_id": "035198c197ec4a338e644d2ed09ebd3a",
       "version_major": 2,
       "version_minor": 0
      },
      "text/plain": [
       "HBox(children=(IntProgress(value=0, max=4), HTML(value='')))"
      ]
     },
     "metadata": {},
     "output_type": "display_data"
    },
    {
     "data": {
      "application/vnd.jupyter.widget-view+json": {
       "model_id": "136029f387b94a16bdef507c14472eaf",
       "version_major": 2,
       "version_minor": 0
      },
      "text/plain": [
       "HBox(children=(IntProgress(value=0, max=6), HTML(value='')))"
      ]
     },
     "metadata": {},
     "output_type": "display_data"
    },
    {
     "name": "stdout",
     "output_type": "stream",
     "text": [
      "WARNING:tensorflow:From c:\\programdata\\miniconda3\\lib\\site-packages\\keras\\backend\\tensorflow_backend.py:3445: calling dropout (from tensorflow.python.ops.nn_ops) with keep_prob is deprecated and will be removed in a future version.\n",
      "Instructions for updating:\n",
      "Please use `rate` instead of `keep_prob`. Rate should be set to `rate = 1 - keep_prob`.\n"
     ]
    },
    {
     "data": {
      "application/vnd.jupyter.widget-view+json": {
       "model_id": "eb411e7a25194680866c59a5af0dc897",
       "version_major": 2,
       "version_minor": 0
      },
      "text/plain": [
       "HBox(children=(IntProgress(value=0, max=6), HTML(value='')))"
      ]
     },
     "metadata": {},
     "output_type": "display_data"
    },
    {
     "data": {
      "application/vnd.jupyter.widget-view+json": {
       "model_id": "c04389d67b5f4bfc94bc7dfe8318456c",
       "version_major": 2,
       "version_minor": 0
      },
      "text/plain": [
       "HBox(children=(IntProgress(value=0, max=6), HTML(value='')))"
      ]
     },
     "metadata": {},
     "output_type": "display_data"
    },
    {
     "data": {
      "application/vnd.jupyter.widget-view+json": {
       "model_id": "bafcefa04b654875854419c357d4b370",
       "version_major": 2,
       "version_minor": 0
      },
      "text/plain": [
       "HBox(children=(IntProgress(value=0, max=6), HTML(value='')))"
      ]
     },
     "metadata": {},
     "output_type": "display_data"
    },
    {
     "name": "stdout",
     "output_type": "stream",
     "text": [
      "\n",
      "Minutes taken = 1152.114910320441\n"
     ]
    },
    {
     "data": {
      "text/html": [
       "<div>\n",
       "<style scoped>\n",
       "    .dataframe tbody tr th:only-of-type {\n",
       "        vertical-align: middle;\n",
       "    }\n",
       "\n",
       "    .dataframe tbody tr th {\n",
       "        vertical-align: top;\n",
       "    }\n",
       "\n",
       "    .dataframe thead th {\n",
       "        text-align: right;\n",
       "    }\n",
       "</style>\n",
       "<table border=\"1\" class=\"dataframe\">\n",
       "  <thead>\n",
       "    <tr style=\"text-align: right;\">\n",
       "      <th></th>\n",
       "      <th>lstm_units</th>\n",
       "      <th>dropout_prob</th>\n",
       "      <th>rmse</th>\n",
       "      <th>mape_pct</th>\n",
       "    </tr>\n",
       "  </thead>\n",
       "  <tbody>\n",
       "    <tr>\n",
       "      <th>0</th>\n",
       "      <td>10</td>\n",
       "      <td>0.5</td>\n",
       "      <td>3.666756</td>\n",
       "      <td>2.506646</td>\n",
       "    </tr>\n",
       "    <tr>\n",
       "      <th>1</th>\n",
       "      <td>10</td>\n",
       "      <td>0.6</td>\n",
       "      <td>4.421422</td>\n",
       "      <td>2.991757</td>\n",
       "    </tr>\n",
       "    <tr>\n",
       "      <th>2</th>\n",
       "      <td>10</td>\n",
       "      <td>0.7</td>\n",
       "      <td>6.542300</td>\n",
       "      <td>4.612238</td>\n",
       "    </tr>\n",
       "    <tr>\n",
       "      <th>3</th>\n",
       "      <td>10</td>\n",
       "      <td>0.8</td>\n",
       "      <td>7.832423</td>\n",
       "      <td>5.608776</td>\n",
       "    </tr>\n",
       "    <tr>\n",
       "      <th>4</th>\n",
       "      <td>10</td>\n",
       "      <td>0.9</td>\n",
       "      <td>16.279120</td>\n",
       "      <td>11.815458</td>\n",
       "    </tr>\n",
       "    <tr>\n",
       "      <th>5</th>\n",
       "      <td>10</td>\n",
       "      <td>1.0</td>\n",
       "      <td>3.435536</td>\n",
       "      <td>2.125523</td>\n",
       "    </tr>\n",
       "    <tr>\n",
       "      <th>6</th>\n",
       "      <td>50</td>\n",
       "      <td>0.5</td>\n",
       "      <td>3.396740</td>\n",
       "      <td>2.244762</td>\n",
       "    </tr>\n",
       "    <tr>\n",
       "      <th>7</th>\n",
       "      <td>50</td>\n",
       "      <td>0.6</td>\n",
       "      <td>3.671521</td>\n",
       "      <td>2.460263</td>\n",
       "    </tr>\n",
       "    <tr>\n",
       "      <th>8</th>\n",
       "      <td>50</td>\n",
       "      <td>0.7</td>\n",
       "      <td>1.925026</td>\n",
       "      <td>1.013891</td>\n",
       "    </tr>\n",
       "    <tr>\n",
       "      <th>9</th>\n",
       "      <td>50</td>\n",
       "      <td>0.8</td>\n",
       "      <td>3.828452</td>\n",
       "      <td>2.577045</td>\n",
       "    </tr>\n",
       "    <tr>\n",
       "      <th>10</th>\n",
       "      <td>50</td>\n",
       "      <td>0.9</td>\n",
       "      <td>4.781627</td>\n",
       "      <td>3.324312</td>\n",
       "    </tr>\n",
       "    <tr>\n",
       "      <th>11</th>\n",
       "      <td>50</td>\n",
       "      <td>1.0</td>\n",
       "      <td>2.009242</td>\n",
       "      <td>1.172644</td>\n",
       "    </tr>\n",
       "    <tr>\n",
       "      <th>12</th>\n",
       "      <td>64</td>\n",
       "      <td>0.5</td>\n",
       "      <td>3.676979</td>\n",
       "      <td>2.489937</td>\n",
       "    </tr>\n",
       "    <tr>\n",
       "      <th>13</th>\n",
       "      <td>64</td>\n",
       "      <td>0.6</td>\n",
       "      <td>4.333182</td>\n",
       "      <td>2.934935</td>\n",
       "    </tr>\n",
       "    <tr>\n",
       "      <th>14</th>\n",
       "      <td>64</td>\n",
       "      <td>0.7</td>\n",
       "      <td>1.812418</td>\n",
       "      <td>0.924611</td>\n",
       "    </tr>\n",
       "    <tr>\n",
       "      <th>15</th>\n",
       "      <td>64</td>\n",
       "      <td>0.8</td>\n",
       "      <td>5.245998</td>\n",
       "      <td>3.667831</td>\n",
       "    </tr>\n",
       "    <tr>\n",
       "      <th>16</th>\n",
       "      <td>64</td>\n",
       "      <td>0.9</td>\n",
       "      <td>7.286658</td>\n",
       "      <td>5.180875</td>\n",
       "    </tr>\n",
       "    <tr>\n",
       "      <th>17</th>\n",
       "      <td>64</td>\n",
       "      <td>1.0</td>\n",
       "      <td>1.710183</td>\n",
       "      <td>0.829642</td>\n",
       "    </tr>\n",
       "    <tr>\n",
       "      <th>18</th>\n",
       "      <td>128</td>\n",
       "      <td>0.5</td>\n",
       "      <td>1.894733</td>\n",
       "      <td>1.031536</td>\n",
       "    </tr>\n",
       "    <tr>\n",
       "      <th>19</th>\n",
       "      <td>128</td>\n",
       "      <td>0.6</td>\n",
       "      <td>3.896208</td>\n",
       "      <td>2.672120</td>\n",
       "    </tr>\n",
       "    <tr>\n",
       "      <th>20</th>\n",
       "      <td>128</td>\n",
       "      <td>0.7</td>\n",
       "      <td>2.049715</td>\n",
       "      <td>1.186331</td>\n",
       "    </tr>\n",
       "    <tr>\n",
       "      <th>21</th>\n",
       "      <td>128</td>\n",
       "      <td>0.8</td>\n",
       "      <td>4.055428</td>\n",
       "      <td>2.771974</td>\n",
       "    </tr>\n",
       "    <tr>\n",
       "      <th>22</th>\n",
       "      <td>128</td>\n",
       "      <td>0.9</td>\n",
       "      <td>7.503853</td>\n",
       "      <td>5.352155</td>\n",
       "    </tr>\n",
       "    <tr>\n",
       "      <th>23</th>\n",
       "      <td>128</td>\n",
       "      <td>1.0</td>\n",
       "      <td>1.604667</td>\n",
       "      <td>0.761683</td>\n",
       "    </tr>\n",
       "  </tbody>\n",
       "</table>\n",
       "</div>"
      ],
      "text/plain": [
       "    lstm_units  dropout_prob       rmse   mape_pct\n",
       "0           10           0.5   3.666756   2.506646\n",
       "1           10           0.6   4.421422   2.991757\n",
       "2           10           0.7   6.542300   4.612238\n",
       "3           10           0.8   7.832423   5.608776\n",
       "4           10           0.9  16.279120  11.815458\n",
       "5           10           1.0   3.435536   2.125523\n",
       "6           50           0.5   3.396740   2.244762\n",
       "7           50           0.6   3.671521   2.460263\n",
       "8           50           0.7   1.925026   1.013891\n",
       "9           50           0.8   3.828452   2.577045\n",
       "10          50           0.9   4.781627   3.324312\n",
       "11          50           1.0   2.009242   1.172644\n",
       "12          64           0.5   3.676979   2.489937\n",
       "13          64           0.6   4.333182   2.934935\n",
       "14          64           0.7   1.812418   0.924611\n",
       "15          64           0.8   5.245998   3.667831\n",
       "16          64           0.9   7.286658   5.180875\n",
       "17          64           1.0   1.710183   0.829642\n",
       "18         128           0.5   1.894733   1.031536\n",
       "19         128           0.6   3.896208   2.672120\n",
       "20         128           0.7   2.049715   1.186331\n",
       "21         128           0.8   4.055428   2.771974\n",
       "22         128           0.9   7.503853   5.352155\n",
       "23         128           1.0   1.604667   0.761683"
      ]
     },
     "execution_count": 20,
     "metadata": {},
     "output_type": "execute_result"
    }
   ],
   "source": [
    "param_label = 'lstm_units'\n",
    "param_list = [10, 50, 64, 128]\n",
    "\n",
    "param2_label = 'dropout_prob'\n",
    "param2_list = [0.5, 0.6, 0.7, 0.8, 0.9, 1]\n",
    "\n",
    "error_rate = {param_label: [], param2_label: [], 'rmse': [], 'mape_pct': []}\n",
    "tic = time.time()\n",
    "for param in tqdm_notebook(param_list):\n",
    "    \n",
    "    for param2 in tqdm_notebook(param2_list):\n",
    "    \n",
    "        # Train, predict and eval model\n",
    "        rmse, mape, _ = train_pred_eval_model(x_train_scaled, \\\n",
    "                                              y_train_scaled, \\\n",
    "                                              x_cv_scaled, \\\n",
    "                                              y_cv_scaled, \\\n",
    "                                              scaler, \\\n",
    "                                              lstm_units=param, \\\n",
    "                                              dropout_prob=param2, \\\n",
    "                                              optimizer='adam', \\\n",
    "                                              epochs=epochs_opt, \\\n",
    "                                              batch_size=batch_size_opt)\n",
    "    \n",
    "        # Collect results\n",
    "        error_rate[param_label].append(param)\n",
    "        error_rate[param2_label].append(param2)\n",
    "        error_rate['rmse'].append(rmse)\n",
    "        error_rate['mape_pct'].append(mape)\n",
    "    \n",
    "error_rate = pd.DataFrame(error_rate)\n",
    "toc = time.time()\n",
    "print(\"Minutes taken = \" + str((toc-tic)/60.0))\n",
    "error_rate   "
   ]
  },
  {
   "cell_type": "code",
   "execution_count": 21,
   "metadata": {},
   "outputs": [
    {
     "data": {
      "text/plain": [
       "<matplotlib.legend.Legend at 0x1bc5f2d37f0>"
      ]
     },
     "execution_count": 21,
     "metadata": {},
     "output_type": "execute_result"
    },
    {
     "data": {
      "image/png": "[encoded data removed]",
      "text/plain": [
       "<Figure size 720x576 with 1 Axes>"
      ]
     },
     "metadata": {
      "needs_background": "light"
     },
     "output_type": "display_data"
    }
   ],
   "source": [
    "# Plot performance versus params\n",
    "rcParams['figure.figsize'] = 10, 8 # width 10, height 8\n",
    "temp = error_rate[error_rate[param2_label]==param2_list[0]]\n",
    "ax = temp.plot(x=param_label, y='rmse', style='bs-', grid=True)\n",
    "legend_list = [param2_label + '_' + str(param2_list[0])]\n",
    "\n",
    "color_list = ['r', 'g', 'k', 'y', 'm', 'c', '0.75']\n",
    "for i in range(1,len(param2_list)):\n",
    "    temp = error_rate[error_rate[param2_label]==param2_list[i]]\n",
    "    ax = temp.plot(x=param_label, y='rmse', color=color_list[i%len(color_list)], marker='s', grid=True, ax=ax)\n",
    "    legend_list.append(param2_label + '_' + str(param2_list[i]))\n",
    "\n",
    "ax.set_xlabel(param_label)\n",
    "ax.set_ylabel(\"RMSE\")\n",
    "matplotlib.rcParams.update({'font.size': 14})\n",
    "plt.legend(legend_list, loc='center left', bbox_to_anchor=(1.0, 0.5)) # positions legend outside figure"
   ]
  },
  {
   "cell_type": "code",
   "execution_count": 22,
   "metadata": {},
   "outputs": [
    {
     "name": "stdout",
     "output_type": "stream",
     "text": [
      "min RMSE = 1.605\n",
      "min MAPE = 0.762%\n",
      "optimum lstm_units = 128\n",
      "optimum dropout_prob = 1.0\n"
     ]
    }
   ],
   "source": [
    "# Get optimum value for param and param2\n",
    "temp = error_rate[error_rate['rmse'] == error_rate['rmse'].min()]\n",
    "lstm_units_opt = temp[param_label].values[0]\n",
    "dropout_prob_opt = temp[param2_label].values[0]\n",
    "print(\"min RMSE = %0.3f\" % error_rate['rmse'].min())\n",
    "print(\"min MAPE = %0.3f%%\" % error_rate['mape_pct'].min())\n",
    "print(\"optimum \" + param_label + \" = \" + str(lstm_units_opt))\n",
    "print(\"optimum \" + param2_label + \" = \" + str(dropout_prob_opt))"
   ]
  },
  {
   "cell_type": "markdown",
   "metadata": {},
   "source": [
    "# Tuning model - optimizer"
   ]
  },
  {
   "cell_type": "code",
   "execution_count": 23,
   "metadata": {},
   "outputs": [
    {
     "data": {
      "application/vnd.jupyter.widget-view+json": {
       "model_id": "f301c753f9ff40a8be310b99915f35f4",
       "version_major": 2,
       "version_minor": 0
      },
      "text/plain": [
       "HBox(children=(IntProgress(value=0, max=7), HTML(value='')))"
      ]
     },
     "metadata": {},
     "output_type": "display_data"
    },
    {
     "name": "stdout",
     "output_type": "stream",
     "text": [
      "\n",
      "Minutes taken = 112.42090430657069\n"
     ]
    },
    {
     "data": {
      "text/html": [
       "<div>\n",
       "<style scoped>\n",
       "    .dataframe tbody tr th:only-of-type {\n",
       "        vertical-align: middle;\n",
       "    }\n",
       "\n",
       "    .dataframe tbody tr th {\n",
       "        vertical-align: top;\n",
       "    }\n",
       "\n",
       "    .dataframe thead th {\n",
       "        text-align: right;\n",
       "    }\n",
       "</style>\n",
       "<table border=\"1\" class=\"dataframe\">\n",
       "  <thead>\n",
       "    <tr style=\"text-align: right;\">\n",
       "      <th></th>\n",
       "      <th>optimizer</th>\n",
       "      <th>rmse</th>\n",
       "      <th>mape_pct</th>\n",
       "    </tr>\n",
       "  </thead>\n",
       "  <tbody>\n",
       "    <tr>\n",
       "      <th>0</th>\n",
       "      <td>adam</td>\n",
       "      <td>1.777586</td>\n",
       "      <td>0.852693</td>\n",
       "    </tr>\n",
       "    <tr>\n",
       "      <th>1</th>\n",
       "      <td>sgd</td>\n",
       "      <td>3.534637</td>\n",
       "      <td>2.362496</td>\n",
       "    </tr>\n",
       "    <tr>\n",
       "      <th>2</th>\n",
       "      <td>rmsprop</td>\n",
       "      <td>1.662953</td>\n",
       "      <td>0.876862</td>\n",
       "    </tr>\n",
       "    <tr>\n",
       "      <th>3</th>\n",
       "      <td>adagrad</td>\n",
       "      <td>1.800829</td>\n",
       "      <td>0.846261</td>\n",
       "    </tr>\n",
       "    <tr>\n",
       "      <th>4</th>\n",
       "      <td>adadelta</td>\n",
       "      <td>3.857993</td>\n",
       "      <td>2.674329</td>\n",
       "    </tr>\n",
       "    <tr>\n",
       "      <th>5</th>\n",
       "      <td>adamax</td>\n",
       "      <td>2.018271</td>\n",
       "      <td>1.206715</td>\n",
       "    </tr>\n",
       "    <tr>\n",
       "      <th>6</th>\n",
       "      <td>nadam</td>\n",
       "      <td>1.500715</td>\n",
       "      <td>0.738217</td>\n",
       "    </tr>\n",
       "  </tbody>\n",
       "</table>\n",
       "</div>"
      ],
      "text/plain": [
       "  optimizer      rmse  mape_pct\n",
       "0      adam  1.777586  0.852693\n",
       "1       sgd  3.534637  2.362496\n",
       "2   rmsprop  1.662953  0.876862\n",
       "3   adagrad  1.800829  0.846261\n",
       "4  adadelta  3.857993  2.674329\n",
       "5    adamax  2.018271  1.206715\n",
       "6     nadam  1.500715  0.738217"
      ]
     },
     "execution_count": 23,
     "metadata": {},
     "output_type": "execute_result"
    }
   ],
   "source": [
    "param_label = 'optimizer'\n",
    "param_list = ['adam', 'sgd', 'rmsprop', 'adagrad', 'adadelta', 'adamax', 'nadam']\n",
    "\n",
    "error_rate = {param_label: [], 'rmse': [], 'mape_pct': []}\n",
    "tic = time.time()\n",
    "for param in tqdm_notebook(param_list):\n",
    "   \n",
    "    # Train, predict and eval model\n",
    "    rmse, mape, _ = train_pred_eval_model(x_train_scaled, \\\n",
    "                                              y_train_scaled, \\\n",
    "                                              x_cv_scaled, \\\n",
    "                                              y_cv_scaled, \\\n",
    "                                              scaler, \\\n",
    "                                              lstm_units=lstm_units_opt, \\\n",
    "                                              dropout_prob=dropout_prob_opt, \\\n",
    "                                              optimizer=param, \\\n",
    "                                              epochs=epochs_opt, \\\n",
    "                                              batch_size=batch_size_opt)\n",
    "    \n",
    "    # Collect results\n",
    "    error_rate[param_label].append(param)\n",
    "    error_rate['rmse'].append(rmse)\n",
    "    error_rate['mape_pct'].append(mape)\n",
    "    \n",
    "error_rate = pd.DataFrame(error_rate)\n",
    "toc = time.time()\n",
    "print(\"Minutes taken = \" + str((toc-tic)/60.0))\n",
    "error_rate   "
   ]
  },
  {
   "cell_type": "code",
   "execution_count": 24,
   "metadata": {},
   "outputs": [
    {
     "data": {
      "text/plain": [
       "Text(0, 0.5, 'RMSE/MAPE(%)')"
      ]
     },
     "execution_count": 24,
     "metadata": {},
     "output_type": "execute_result"
    },
    {
     "data": {
      "image/png": "[encoded data removed]",
      "text/plain": [
       "<Figure size 720x576 with 1 Axes>"
      ]
     },
     "metadata": {
      "needs_background": "light"
     },
     "output_type": "display_data"
    }
   ],
   "source": [
    "# Plot RMSE \n",
    "rcParams['figure.figsize'] = 10, 8 # width 10, height 8\n",
    "\n",
    "ax = error_rate.plot(x='optimizer', y='rmse', style='bx-', grid=True)\n",
    "ax = error_rate.plot(x='optimizer', y='mape_pct', style='rx-', grid=True, ax=ax)\n",
    "ax.set_xticklabels(param_list)\n",
    "ax.set_xlabel(\"Optimizer\")\n",
    "ax.set_ylabel(\"RMSE/MAPE(%)\")"
   ]
  },
  {
   "cell_type": "code",
   "execution_count": 25,
   "metadata": {},
   "outputs": [
    {
     "name": "stdout",
     "output_type": "stream",
     "text": [
      "min RMSE = 1.501\n",
      "min MAPE = 0.738%\n",
      "optimum optimizer = nadam\n"
     ]
    }
   ],
   "source": [
    "# Get optimum value for param and param2\n",
    "temp = error_rate[error_rate['rmse'] == error_rate['rmse'].min()]\n",
    "optimizer_opt = temp[param_label].values[0]\n",
    "print(\"min RMSE = %0.3f\" % error_rate['rmse'].min())\n",
    "print(\"min MAPE = %0.3f%%\" % error_rate['mape_pct'].min())\n",
    "print(\"optimum \" + param_label + \" = \" + str(optimizer_opt))"
   ]
  },
  {
   "cell_type": "markdown",
   "metadata": {},
   "source": [
    "# Tuned params"
   ]
  },
  {
   "cell_type": "code",
   "execution_count": 26,
   "metadata": {},
   "outputs": [
    {
     "data": {
      "text/html": [
       "<div>\n",
       "<style scoped>\n",
       "    .dataframe tbody tr th:only-of-type {\n",
       "        vertical-align: middle;\n",
       "    }\n",
       "\n",
       "    .dataframe tbody tr th {\n",
       "        vertical-align: top;\n",
       "    }\n",
       "\n",
       "    .dataframe thead th {\n",
       "        text-align: right;\n",
       "    }\n",
       "</style>\n",
       "<table border=\"1\" class=\"dataframe\">\n",
       "  <thead>\n",
       "    <tr style=\"text-align: right;\">\n",
       "      <th></th>\n",
       "      <th>param</th>\n",
       "      <th>original</th>\n",
       "      <th>after_tuning</th>\n",
       "    </tr>\n",
       "  </thead>\n",
       "  <tbody>\n",
       "    <tr>\n",
       "      <th>0</th>\n",
       "      <td>N</td>\n",
       "      <td>9</td>\n",
       "      <td>5</td>\n",
       "    </tr>\n",
       "    <tr>\n",
       "      <th>1</th>\n",
       "      <td>lstm_units</td>\n",
       "      <td>50</td>\n",
       "      <td>128</td>\n",
       "    </tr>\n",
       "    <tr>\n",
       "      <th>2</th>\n",
       "      <td>dropout_prob</td>\n",
       "      <td>1</td>\n",
       "      <td>1</td>\n",
       "    </tr>\n",
       "    <tr>\n",
       "      <th>3</th>\n",
       "      <td>optimizer</td>\n",
       "      <td>adam</td>\n",
       "      <td>nadam</td>\n",
       "    </tr>\n",
       "    <tr>\n",
       "      <th>4</th>\n",
       "      <td>epochs</td>\n",
       "      <td>1</td>\n",
       "      <td>30</td>\n",
       "    </tr>\n",
       "    <tr>\n",
       "      <th>5</th>\n",
       "      <td>batch_size</td>\n",
       "      <td>1</td>\n",
       "      <td>8</td>\n",
       "    </tr>\n",
       "    <tr>\n",
       "      <th>6</th>\n",
       "      <td>rmse</td>\n",
       "      <td>2.18661</td>\n",
       "      <td>1.50072</td>\n",
       "    </tr>\n",
       "    <tr>\n",
       "      <th>7</th>\n",
       "      <td>mape_pct</td>\n",
       "      <td>1.06131</td>\n",
       "      <td>0.738217</td>\n",
       "    </tr>\n",
       "  </tbody>\n",
       "</table>\n",
       "</div>"
      ],
      "text/plain": [
       "          param original after_tuning\n",
       "0             N        9            5\n",
       "1    lstm_units       50          128\n",
       "2  dropout_prob        1            1\n",
       "3     optimizer     adam        nadam\n",
       "4        epochs        1           30\n",
       "5    batch_size        1            8\n",
       "6          rmse  2.18661      1.50072\n",
       "7      mape_pct  1.06131     0.738217"
      ]
     },
     "execution_count": 26,
     "metadata": {},
     "output_type": "execute_result"
    }
   ],
   "source": [
    "d = {'param': ['N', 'lstm_units', 'dropout_prob', 'optimizer', 'epochs', 'batch_size', 'rmse', 'mape_pct'],\n",
    "     'original': [N, lstm_units, dropout_prob, optimizer, epochs, batch_size, rmse_bef_tuning, mape_pct_bef_tuning],\n",
    "     'after_tuning': [N_opt, lstm_units_opt, dropout_prob_opt, optimizer_opt, epochs_opt, batch_size_opt, error_rate['rmse'].min(), error_rate['mape_pct'].min()]}\n",
    "tuned_params = pd.DataFrame(d)\n",
    "tuned_params"
   ]
  },
  {
   "cell_type": "markdown",
   "metadata": {},
   "source": [
    "# Final model"
   ]
  },
  {
   "cell_type": "code",
   "execution_count": 27,
   "metadata": {},
   "outputs": [
    {
     "name": "stdout",
     "output_type": "stream",
     "text": [
      "RMSE on test set = 2.102\n",
      "MAPE on test set = 1.293%\n"
     ]
    }
   ],
   "source": [
    "# Split train_cv into x and y\n",
    "x_train_cv_scaled, y_train_cv_scaled = get_x_y(train_cv_scaled_final, N_opt, N_opt)\n",
    "\n",
    "# Split test into x and y\n",
    "x_test_scaled, y_test_scaled = get_x_y(test_scaled, N_opt, num_train+num_cv)\n",
    "\n",
    "# Train, predict and eval model\n",
    "rmse, mape, est = train_pred_eval_model(x_train_cv_scaled, \\\n",
    "                                        y_train_cv_scaled, \\\n",
    "                                        x_test_scaled, \\\n",
    "                                        y_test_scaled, \\\n",
    "                                        scaler_final, \\\n",
    "                                        lstm_units=lstm_units_opt, \\\n",
    "                                        dropout_prob=dropout_prob_opt, \\\n",
    "                                        optimizer=optimizer_opt, \\\n",
    "                                        epochs=epochs_opt, \\\n",
    "                                        batch_size=batch_size_opt)\n",
    "\n",
    "# Calculate RMSE\n",
    "print(\"RMSE on test set = %0.3f\" % rmse)\n",
    "\n",
    "# Calculate MAPE\n",
    "print(\"MAPE on test set = %0.3f%%\" % mape)"
   ]
  },
  {
   "cell_type": "code",
   "execution_count": 28,
   "metadata": {},
   "outputs": [
    {
     "data": {
      "text/plain": [
       "Text(0, 0.5, 'USD')"
      ]
     },
     "execution_count": 28,
     "metadata": {},
     "output_type": "execute_result"
    },
    {
     "data": {
      "image/png": "[encoded data removed]",
      "text/plain": [
       "<Figure size 720x576 with 1 Axes>"
      ]
     },
     "metadata": {
      "needs_background": "light"
     },
     "output_type": "display_data"
    }
   ],
   "source": [
    "# Plot adjusted close over time\n",
    "rcParams['figure.figsize'] = 10, 8 # width 10, height 8\n",
    "\n",
    "est_df = pd.DataFrame({'est': est.reshape(-1), \n",
    "                       'date': df[num_train+num_cv:]['date']})\n",
    "\n",
    "ax = train.plot(x='date', y='adj_close', style='b-', grid=True)\n",
    "ax = cv.plot(x='date', y='adj_close', style='y-', grid=True, ax=ax)\n",
    "ax = test.plot(x='date', y='adj_close', style='g-', grid=True, ax=ax)\n",
    "ax = est_df.plot(x='date', y='est', style='r-', grid=True, ax=ax)\n",
    "ax.legend(['train', 'dev', 'test', 'predictions'])\n",
    "ax.set_xlabel(\"date\")\n",
    "ax.set_ylabel(\"USD\")"
   ]
  },
  {
   "cell_type": "code",
   "execution_count": 29,
   "metadata": {},
   "outputs": [
    {
     "data": {
      "text/plain": [
       "Text(0.5, 1.0, 'Zoom in to test set')"
      ]
     },
     "execution_count": 29,
     "metadata": {},
     "output_type": "execute_result"
    },
    {
     "data": {
      "image/png": "[encoded data removed]",
      "text/plain": [
       "<Figure size 720x576 with 1 Axes>"
      ]
     },
     "metadata": {
      "needs_background": "light"
     },
     "output_type": "display_data"
    }
   ],
   "source": [
    "# Plot adjusted close over time, for test set only\n",
    "rcParams['figure.figsize'] = 10, 8 # width 10, height 8\n",
    "ax = train.plot(x='date', y='adj_close', style='b-', grid=True)\n",
    "ax = cv.plot(x='date', y='adj_close', style='y-', grid=True, ax=ax)\n",
    "ax = test.plot(x='date', y='adj_close', style='g-', grid=True, ax=ax)\n",
    "ax = est_df.plot(x='date', y='est', style='r-', grid=True, ax=ax)\n",
    "ax.legend(['train', 'dev', 'test', 'predictions'])\n",
    "ax.set_xlabel(\"date\")\n",
    "ax.set_ylabel(\"USD\")\n",
    "ax.set_xlim([date(2018, 4, 1), date(2018, 11, 30)])\n",
    "ax.set_ylim([130, 155])\n",
    "ax.set_title(\"Zoom in to test set\")"
   ]
  },
  {
   "cell_type": "markdown",
   "metadata": {
    "collapsed": true
   },
   "source": [
    "# Findings\n",
    "* On the test set, the RMSE is 2.988 and MAPE is 1.886% using N_opt=5"
   ]
  },
  {
   "cell_type": "code",
   "execution_count": null,
   "metadata": {},
   "outputs": [],
   "source": []
  }
 ],
 "metadata": {
  "kernelspec": {
   "display_name": "Python 3",
   "language": "python",
   "name": "python3"
  },
  "language_info": {
   "codemirror_mode": {
    "name": "ipython",
    "version": 3
   },
   "file_extension": ".py",
   "mimetype": "text/x-python",
   "name": "python",
   "nbconvert_exporter": "python",
   "pygments_lexer": "ipython3",
   "version": "3.7.1"
  }
 },
 "nbformat": 4,
 "nbformat_minor": 2
}
