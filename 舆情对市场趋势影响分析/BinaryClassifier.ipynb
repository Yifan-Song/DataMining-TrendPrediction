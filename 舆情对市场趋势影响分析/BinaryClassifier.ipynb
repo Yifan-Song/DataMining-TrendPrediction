{
 "cells": [
  {
   "cell_type": "code",
   "execution_count": 1,
   "metadata": {
    "colab": {},
    "colab_type": "code",
    "id": "3ivrckCKgPrK"
   },
   "outputs": [],
   "source": [
    "%matplotlib inline\n",
    "import matplotlib as mpl\n",
    "import matplotlib.pyplot as plt\n",
    "import numpy as np\n",
    "import pandas as pd\n",
    "import seaborn as sns\n",
    "import os\n",
    "from sklearn.model_selection import train_test_split\n",
    "from sklearn.neighbors import KNeighborsClassifier\n",
    "from sklearn.linear_model import LogisticRegression\n",
    "from sklearn.svm import SVC\n",
    "from sklearn.naive_bayes import MultinomialNB\n",
    "from sklearn.preprocessing import MinMaxScaler\n",
    "from sklearn import tree\n",
    "import pydotplus\n",
    "from sklearn.externals.six import StringIO  \n",
    "from IPython.display import Image\n",
    "from sklearn.ensemble import RandomForestClassifier \n",
    "from sklearn.model_selection import cross_val_score\n",
    "import xlsxwriter\n",
    "import os"
   ]
  },
  {
   "cell_type": "code",
   "execution_count": 4,
   "metadata": {
    "colab": {},
    "colab_type": "code",
    "id": "fHl69pDxgPrf"
   },
   "outputs": [],
   "source": [
    "xls = pd.ExcelFile(r'C:\\Users\\thinkpad\\Desktop\\$AAL.xlsx')\n",
    "all_data = pd.read_excel(xls, header = 0,encoding='latin-1')"
   ]
  },
  {
   "cell_type": "markdown",
   "metadata": {
    "colab_type": "text",
    "id": "TqQPGDpUgPrj"
   },
   "source": [
    "### Remove the last row for each cashtag, since its 'Predicted_change' is  NaN"
   ]
  },
  {
   "cell_type": "code",
   "execution_count": 5,
   "metadata": {
    "colab": {},
    "colab_type": "code",
    "id": "ui1DHjq2gPrl"
   },
   "outputs": [],
   "source": [
    "all_data = all_data[np.isfinite(all_data['Predicted_change_stock'])]\n",
    "all_data = all_data[np.isfinite(all_data['Buy/Sell'])]"
   ]
  },
  {
   "cell_type": "code",
   "execution_count": 6,
   "metadata": {
    "colab": {},
    "colab_type": "code",
    "id": "jUpmuG3WgPrp",
    "outputId": "0ae4a999-ce35-4859-ca77-21a897bbf8f4",
    "scrolled": true
   },
   "outputs": [
    {
     "data": {
      "text/html": [
       "<div>\n",
       "<style scoped>\n",
       "    .dataframe tbody tr th:only-of-type {\n",
       "        vertical-align: middle;\n",
       "    }\n",
       "\n",
       "    .dataframe tbody tr th {\n",
       "        vertical-align: top;\n",
       "    }\n",
       "\n",
       "    .dataframe thead th {\n",
       "        text-align: right;\n",
       "    }\n",
       "</style>\n",
       "<table border=\"1\" class=\"dataframe\">\n",
       "  <thead>\n",
       "    <tr style=\"text-align: right;\">\n",
       "      <th></th>\n",
       "      <th>Volume_stock</th>\n",
       "      <th>Adj_Close_stock</th>\n",
       "      <th>HiLo_vola_stock</th>\n",
       "      <th>Pct_change_stock</th>\n",
       "      <th>Pct_change_stock_scaled</th>\n",
       "      <th>Favs</th>\n",
       "      <th>RTs</th>\n",
       "      <th>Followers</th>\n",
       "      <th>Following</th>\n",
       "      <th>Is a RT</th>\n",
       "      <th>compound</th>\n",
       "      <th>neg</th>\n",
       "      <th>pos</th>\n",
       "      <th>Compound_multiplied</th>\n",
       "      <th>Compound_multiplied_scaled</th>\n",
       "      <th>Predicted_change_stock</th>\n",
       "      <th>Buy/Sell</th>\n",
       "    </tr>\n",
       "  </thead>\n",
       "  <tbody>\n",
       "  </tbody>\n",
       "</table>\n",
       "</div>"
      ],
      "text/plain": [
       "Empty DataFrame\n",
       "Columns: [Volume_stock, Adj_Close_stock, HiLo_vola_stock, Pct_change_stock, Pct_change_stock_scaled, Favs, RTs, Followers, Following, Is a RT, compound, neg, pos, Compound_multiplied, Compound_multiplied_scaled, Predicted_change_stock, Buy/Sell]\n",
       "Index: []"
      ]
     },
     "execution_count": 6,
     "metadata": {},
     "output_type": "execute_result"
    }
   ],
   "source": [
    "nan_rows = all_data[all_data['Predicted_change_stock'].isnull()]\n",
    "nan_rows"
   ]
  },
  {
   "cell_type": "code",
   "execution_count": 7,
   "metadata": {
    "colab": {},
    "colab_type": "code",
    "id": "iQzoPE5agPrw",
    "outputId": "cdb85ecd-9729-48ef-db26-ce362cf3b5cf"
   },
   "outputs": [
    {
     "data": {
      "text/plain": [
       "74"
      ]
     },
     "execution_count": 7,
     "metadata": {},
     "output_type": "execute_result"
    }
   ],
   "source": [
    "len(all_data)"
   ]
  },
  {
   "cell_type": "code",
   "execution_count": 8,
   "metadata": {
    "colab": {},
    "colab_type": "code",
    "id": "eC6U5J6wgPr0",
    "outputId": "6a96bcd4-22ae-453f-c2bb-66c5096732b1",
    "scrolled": true
   },
   "outputs": [
    {
     "data": {
      "text/html": [
       "<div>\n",
       "<style scoped>\n",
       "    .dataframe tbody tr th:only-of-type {\n",
       "        vertical-align: middle;\n",
       "    }\n",
       "\n",
       "    .dataframe tbody tr th {\n",
       "        vertical-align: top;\n",
       "    }\n",
       "\n",
       "    .dataframe thead th {\n",
       "        text-align: right;\n",
       "    }\n",
       "</style>\n",
       "<table border=\"1\" class=\"dataframe\">\n",
       "  <thead>\n",
       "    <tr style=\"text-align: right;\">\n",
       "      <th></th>\n",
       "      <th>Volume_stock</th>\n",
       "      <th>Adj_Close_stock</th>\n",
       "      <th>HiLo_vola_stock</th>\n",
       "      <th>Pct_change_stock</th>\n",
       "      <th>Pct_change_stock_scaled</th>\n",
       "      <th>Favs</th>\n",
       "      <th>RTs</th>\n",
       "      <th>Followers</th>\n",
       "      <th>Following</th>\n",
       "      <th>Is a RT</th>\n",
       "      <th>compound</th>\n",
       "      <th>neg</th>\n",
       "      <th>pos</th>\n",
       "      <th>Compound_multiplied</th>\n",
       "      <th>Compound_multiplied_scaled</th>\n",
       "      <th>Predicted_change_stock</th>\n",
       "      <th>Buy/Sell</th>\n",
       "    </tr>\n",
       "  </thead>\n",
       "  <tbody>\n",
       "    <tr>\n",
       "      <th>count</th>\n",
       "      <td>7.400000e+01</td>\n",
       "      <td>74.000000</td>\n",
       "      <td>74.000000</td>\n",
       "      <td>74.000000</td>\n",
       "      <td>74.000000</td>\n",
       "      <td>74.000000</td>\n",
       "      <td>74.000000</td>\n",
       "      <td>74.000000</td>\n",
       "      <td>74.000000</td>\n",
       "      <td>74.000000</td>\n",
       "      <td>74.000000</td>\n",
       "      <td>74.000000</td>\n",
       "      <td>74.000000</td>\n",
       "      <td>74.000000</td>\n",
       "      <td>74.000000</td>\n",
       "      <td>74.000000</td>\n",
       "      <td>74.000000</td>\n",
       "    </tr>\n",
       "    <tr>\n",
       "      <th>mean</th>\n",
       "      <td>9.740346e+06</td>\n",
       "      <td>33.899230</td>\n",
       "      <td>2.874843</td>\n",
       "      <td>-0.447087</td>\n",
       "      <td>0.022178</td>\n",
       "      <td>1.862668</td>\n",
       "      <td>2.952834</td>\n",
       "      <td>4150.431300</td>\n",
       "      <td>1448.351406</td>\n",
       "      <td>0.142377</td>\n",
       "      <td>0.020247</td>\n",
       "      <td>0.489876</td>\n",
       "      <td>0.510124</td>\n",
       "      <td>298.226792</td>\n",
       "      <td>-0.007523</td>\n",
       "      <td>-0.488144</td>\n",
       "      <td>-0.243243</td>\n",
       "    </tr>\n",
       "    <tr>\n",
       "      <th>std</th>\n",
       "      <td>3.134140e+06</td>\n",
       "      <td>3.327322</td>\n",
       "      <td>1.002155</td>\n",
       "      <td>1.512450</td>\n",
       "      <td>0.860596</td>\n",
       "      <td>1.370148</td>\n",
       "      <td>3.562513</td>\n",
       "      <td>4441.916823</td>\n",
       "      <td>1505.466243</td>\n",
       "      <td>0.112095</td>\n",
       "      <td>0.122702</td>\n",
       "      <td>0.061351</td>\n",
       "      <td>0.061351</td>\n",
       "      <td>2456.107859</td>\n",
       "      <td>0.063413</td>\n",
       "      <td>1.581633</td>\n",
       "      <td>0.976586</td>\n",
       "    </tr>\n",
       "    <tr>\n",
       "      <th>min</th>\n",
       "      <td>5.018200e+06</td>\n",
       "      <td>29.919750</td>\n",
       "      <td>1.377271</td>\n",
       "      <td>-5.089362</td>\n",
       "      <td>-2.619312</td>\n",
       "      <td>1.000000</td>\n",
       "      <td>1.000000</td>\n",
       "      <td>708.542857</td>\n",
       "      <td>323.734375</td>\n",
       "      <td>0.000000</td>\n",
       "      <td>-0.258298</td>\n",
       "      <td>0.357660</td>\n",
       "      <td>0.370851</td>\n",
       "      <td>-5828.232189</td>\n",
       "      <td>-0.165698</td>\n",
       "      <td>-5.089362</td>\n",
       "      <td>-1.000000</td>\n",
       "    </tr>\n",
       "    <tr>\n",
       "      <th>25%</th>\n",
       "      <td>7.338450e+06</td>\n",
       "      <td>31.002536</td>\n",
       "      <td>2.066362</td>\n",
       "      <td>-1.211461</td>\n",
       "      <td>-0.412757</td>\n",
       "      <td>1.031250</td>\n",
       "      <td>1.175000</td>\n",
       "      <td>1954.245830</td>\n",
       "      <td>694.388824</td>\n",
       "      <td>0.062500</td>\n",
       "      <td>-0.080477</td>\n",
       "      <td>0.444980</td>\n",
       "      <td>0.459762</td>\n",
       "      <td>-731.846659</td>\n",
       "      <td>-0.034118</td>\n",
       "      <td>-1.211461</td>\n",
       "      <td>-1.000000</td>\n",
       "    </tr>\n",
       "    <tr>\n",
       "      <th>50%</th>\n",
       "      <td>9.032517e+06</td>\n",
       "      <td>32.129019</td>\n",
       "      <td>2.778289</td>\n",
       "      <td>-0.418915</td>\n",
       "      <td>0.038208</td>\n",
       "      <td>1.527778</td>\n",
       "      <td>1.884034</td>\n",
       "      <td>2978.044151</td>\n",
       "      <td>1025.941311</td>\n",
       "      <td>0.115348</td>\n",
       "      <td>0.028730</td>\n",
       "      <td>0.485635</td>\n",
       "      <td>0.514365</td>\n",
       "      <td>52.550113</td>\n",
       "      <td>-0.013866</td>\n",
       "      <td>-0.418915</td>\n",
       "      <td>-1.000000</td>\n",
       "    </tr>\n",
       "    <tr>\n",
       "      <th>75%</th>\n",
       "      <td>1.160547e+07</td>\n",
       "      <td>37.335455</td>\n",
       "      <td>3.514020</td>\n",
       "      <td>0.482330</td>\n",
       "      <td>0.551023</td>\n",
       "      <td>2.110417</td>\n",
       "      <td>2.966336</td>\n",
       "      <td>4399.806767</td>\n",
       "      <td>1465.167749</td>\n",
       "      <td>0.189153</td>\n",
       "      <td>0.110040</td>\n",
       "      <td>0.540238</td>\n",
       "      <td>0.555020</td>\n",
       "      <td>516.272916</td>\n",
       "      <td>-0.001894</td>\n",
       "      <td>0.482330</td>\n",
       "      <td>1.000000</td>\n",
       "    </tr>\n",
       "    <tr>\n",
       "      <th>max</th>\n",
       "      <td>2.093950e+07</td>\n",
       "      <td>40.029770</td>\n",
       "      <td>5.686162</td>\n",
       "      <td>3.565896</td>\n",
       "      <td>2.305596</td>\n",
       "      <td>10.125000</td>\n",
       "      <td>25.835616</td>\n",
       "      <td>29033.316129</td>\n",
       "      <td>10707.666667</td>\n",
       "      <td>0.500000</td>\n",
       "      <td>0.284681</td>\n",
       "      <td>0.629149</td>\n",
       "      <td>0.642340</td>\n",
       "      <td>15064.395659</td>\n",
       "      <td>0.373714</td>\n",
       "      <td>3.565896</td>\n",
       "      <td>1.000000</td>\n",
       "    </tr>\n",
       "  </tbody>\n",
       "</table>\n",
       "</div>"
      ],
      "text/plain": [
       "       Volume_stock  Adj_Close_stock  HiLo_vola_stock  Pct_change_stock  \\\n",
       "count  7.400000e+01        74.000000        74.000000         74.000000   \n",
       "mean   9.740346e+06        33.899230         2.874843         -0.447087   \n",
       "std    3.134140e+06         3.327322         1.002155          1.512450   \n",
       "min    5.018200e+06        29.919750         1.377271         -5.089362   \n",
       "25%    7.338450e+06        31.002536         2.066362         -1.211461   \n",
       "50%    9.032517e+06        32.129019         2.778289         -0.418915   \n",
       "75%    1.160547e+07        37.335455         3.514020          0.482330   \n",
       "max    2.093950e+07        40.029770         5.686162          3.565896   \n",
       "\n",
       "       Pct_change_stock_scaled       Favs        RTs     Followers  \\\n",
       "count                74.000000  74.000000  74.000000     74.000000   \n",
       "mean                  0.022178   1.862668   2.952834   4150.431300   \n",
       "std                   0.860596   1.370148   3.562513   4441.916823   \n",
       "min                  -2.619312   1.000000   1.000000    708.542857   \n",
       "25%                  -0.412757   1.031250   1.175000   1954.245830   \n",
       "50%                   0.038208   1.527778   1.884034   2978.044151   \n",
       "75%                   0.551023   2.110417   2.966336   4399.806767   \n",
       "max                   2.305596  10.125000  25.835616  29033.316129   \n",
       "\n",
       "          Following    Is a RT   compound        neg        pos  \\\n",
       "count     74.000000  74.000000  74.000000  74.000000  74.000000   \n",
       "mean    1448.351406   0.142377   0.020247   0.489876   0.510124   \n",
       "std     1505.466243   0.112095   0.122702   0.061351   0.061351   \n",
       "min      323.734375   0.000000  -0.258298   0.357660   0.370851   \n",
       "25%      694.388824   0.062500  -0.080477   0.444980   0.459762   \n",
       "50%     1025.941311   0.115348   0.028730   0.485635   0.514365   \n",
       "75%     1465.167749   0.189153   0.110040   0.540238   0.555020   \n",
       "max    10707.666667   0.500000   0.284681   0.629149   0.642340   \n",
       "\n",
       "       Compound_multiplied  Compound_multiplied_scaled  \\\n",
       "count            74.000000                   74.000000   \n",
       "mean            298.226792                   -0.007523   \n",
       "std            2456.107859                    0.063413   \n",
       "min           -5828.232189                   -0.165698   \n",
       "25%            -731.846659                   -0.034118   \n",
       "50%              52.550113                   -0.013866   \n",
       "75%             516.272916                   -0.001894   \n",
       "max           15064.395659                    0.373714   \n",
       "\n",
       "       Predicted_change_stock   Buy/Sell  \n",
       "count               74.000000  74.000000  \n",
       "mean                -0.488144  -0.243243  \n",
       "std                  1.581633   0.976586  \n",
       "min                 -5.089362  -1.000000  \n",
       "25%                 -1.211461  -1.000000  \n",
       "50%                 -0.418915  -1.000000  \n",
       "75%                  0.482330   1.000000  \n",
       "max                  3.565896   1.000000  "
      ]
     },
     "execution_count": 8,
     "metadata": {},
     "output_type": "execute_result"
    }
   ],
   "source": [
    "all_data.describe()"
   ]
  },
  {
   "cell_type": "code",
   "execution_count": 9,
   "metadata": {
    "colab": {},
    "colab_type": "code",
    "id": "oR7xVSKLgPr4",
    "outputId": "0bcd617f-4c4c-4c87-8cb5-c7eaf5cca441"
   },
   "outputs": [
    {
     "name": "stdout",
     "output_type": "stream",
     "text": [
      "<class 'pandas.core.frame.DataFrame'>\n",
      "DatetimeIndex: 74 entries, 2016-04-01 to 2016-06-13\n",
      "Data columns (total 17 columns):\n",
      "Volume_stock                  74 non-null float64\n",
      "Adj_Close_stock               74 non-null float64\n",
      "HiLo_vola_stock               74 non-null float64\n",
      "Pct_change_stock              74 non-null float64\n",
      "Pct_change_stock_scaled       74 non-null float64\n",
      "Favs                          74 non-null float64\n",
      "RTs                           74 non-null float64\n",
      "Followers                     74 non-null float64\n",
      "Following                     74 non-null float64\n",
      "Is a RT                       74 non-null float64\n",
      "compound                      74 non-null float64\n",
      "neg                           74 non-null float64\n",
      "pos                           74 non-null float64\n",
      "Compound_multiplied           74 non-null float64\n",
      "Compound_multiplied_scaled    74 non-null float64\n",
      "Predicted_change_stock        74 non-null float64\n",
      "Buy/Sell                      74 non-null float64\n",
      "dtypes: float64(17)\n",
      "memory usage: 10.4 KB\n"
     ]
    }
   ],
   "source": [
    "all_data.info()"
   ]
  },
  {
   "cell_type": "code",
   "execution_count": 10,
   "metadata": {
    "colab": {},
    "colab_type": "code",
    "id": "9bHp8d5dgPr8",
    "outputId": "75bbfe11-5307-4e67-d328-1b1fdb76b6d1"
   },
   "outputs": [
    {
     "name": "stderr",
     "output_type": "stream",
     "text": [
      "E:\\Anacod\\lib\\site-packages\\matplotlib\\axes\\_axes.py:6571: UserWarning: The 'normed' kwarg is deprecated, and has been replaced by the 'density' kwarg.\n",
      "  warnings.warn(\"The 'normed' kwarg is deprecated, and has been \"\n"
     ]
    },
    {
     "data": {
      "image/png": "[encoded data removed]",
      "text/plain": [
       "<Figure size 1152x288 with 1 Axes>"
      ]
     },
     "metadata": {
      "needs_background": "light"
     },
     "output_type": "display_data"
    }
   ],
   "source": [
    "fig_size = plt.rcParams[\"figure.figsize\"]\n",
    "fig_size[0] =16.0\n",
    "fig_size[1] = 4.0\n",
    "x = all_data['Compound_multiplied_scaled'] \n",
    "plt.hist(x, normed=True, bins=250)\n",
    "plt.ylabel('Compound_multiplied_scaled'); \n"
   ]
  },
  {
   "cell_type": "markdown",
   "metadata": {
    "colab_type": "text",
    "id": "nnxT-m_IgPsA"
   },
   "source": [
    "### Train - Test split and Multiple Input Test split"
   ]
  },
  {
   "cell_type": "code",
   "execution_count": 11,
   "metadata": {
    "colab": {},
    "colab_type": "code",
    "id": "WgBZJt5igPsB",
    "outputId": "1d9b9ac2-aaab-49db-d646-bc2e7b6cd3c9"
   },
   "outputs": [
    {
     "name": "stdout",
     "output_type": "stream",
     "text": [
      "[[ 0.          0.         -0.02749721]\n",
      " [ 0.         -0.02749721 -0.02317717]\n",
      " [-0.02749721 -0.02317717 -0.00043858]\n",
      " [-0.02317717 -0.00043858 -0.04335019]\n",
      " [-0.00043858 -0.04335019 -0.03665198]\n",
      " [-0.04335019 -0.03665198 -0.00444333]\n",
      " [-0.03665198 -0.00444333 -0.01205141]\n",
      " [-0.00444333 -0.01205141 -0.00322023]\n",
      " [-0.01205141 -0.00322023  0.0247702 ]\n",
      " [-0.00322023  0.0247702   0.00361424]\n",
      " [ 0.0247702   0.00361424 -0.01818925]\n",
      " [ 0.00361424 -0.01818925 -0.01972978]\n",
      " [-0.01818925 -0.01972978  0.01341419]\n",
      " [-0.01972978  0.01341419  0.05723851]\n",
      " [ 0.01341419  0.05723851 -0.00186356]\n",
      " [ 0.05723851 -0.00186356  0.05750155]\n",
      " [-0.00186356  0.05750155 -0.01504023]\n",
      " [ 0.05750155 -0.01504023 -0.00788606]\n",
      " [-0.01504023 -0.00788606 -0.04978568]\n",
      " [-0.00788606 -0.04978568 -0.01842428]\n",
      " [-0.04978568 -0.01842428 -0.0361076 ]\n",
      " [-0.01842428 -0.0361076  -0.0341711 ]\n",
      " [-0.0361076  -0.0341711  -0.03546208]\n",
      " [-0.0341711  -0.03546208 -0.03588885]\n",
      " [-0.03546208 -0.03588885 -0.00721294]\n",
      " [-0.03588885 -0.00721294 -0.05656005]\n",
      " [-0.00721294 -0.05656005 -0.0106421 ]\n",
      " [-0.05656005 -0.0106421  -0.00712354]\n",
      " [-0.0106421  -0.00712354  0.00375513]\n",
      " [-0.00712354  0.00375513 -0.16569813]\n",
      " [ 0.00375513 -0.16569813 -0.00982527]\n",
      " [-0.16569813 -0.00982527 -0.01334872]\n",
      " [-0.00982527 -0.01334872  0.0133025 ]\n",
      " [-0.01334872  0.0133025  -0.02162852]\n",
      " [ 0.0133025  -0.02162852 -0.00482267]\n",
      " [-0.02162852 -0.00482267  0.0357827 ]\n",
      " [-0.00482267  0.0357827  -0.02158377]\n",
      " [ 0.0357827  -0.02158377  0.37371428]\n",
      " [-0.02158377  0.37371428 -0.01408184]\n",
      " [ 0.37371428 -0.01408184  0.0058092 ]\n",
      " [-0.01408184  0.0058092  -0.01365065]\n",
      " [ 0.0058092  -0.01365065 -0.01287381]\n",
      " [-0.01365065 -0.01287381 -0.02009884]\n",
      " [-0.01287381 -0.02009884  0.00766742]\n",
      " [-0.02009884  0.00766742 -0.02208857]\n",
      " [ 0.00766742 -0.02208857 -0.00814555]\n",
      " [-0.02208857 -0.00814555 -0.0404203 ]\n",
      " [-0.00814555 -0.0404203   0.04566365]\n",
      " [-0.0404203   0.04566365 -0.02029056]\n",
      " [ 0.04566365 -0.02029056 -0.04313768]\n",
      " [-0.02029056 -0.04313768 -0.03483644]\n",
      " [-0.04313768 -0.03483644  0.23458234]\n",
      " [-0.03483644  0.23458234  0.08935636]\n",
      " [ 0.23458234  0.08935636 -0.0361414 ]\n",
      " [ 0.08935636 -0.0361414  -0.03420705]\n",
      " [-0.0361414  -0.03420705 -0.00478703]\n",
      " [-0.03420705 -0.00478703 -0.02465472]\n",
      " [-0.00478703 -0.02465472  0.00930498]\n",
      " [-0.02465472  0.00930498 -0.0361932 ]]\n"
     ]
    }
   ],
   "source": [
    "x = np.array(all_data[['Compound_multiplied_scaled']]) \n",
    "y = np.array(all_data['Buy/Sell'])\n",
    "\n",
    "x_train, x_test, y_train, y_test = train_test_split(x, y, test_size = 0.2, random_state = 42)\n",
    "\n",
    "def to_multiple_input_data_set(data_set, k):\n",
    "    result = []\n",
    "    for i in range(k-1):\n",
    "        tmp = data_set[0:i+1]\n",
    "        for j in range(k-i-1):\n",
    "            tmp = np.insert(tmp, 0, 0, 0)\n",
    "        result.append(tmp.reshape(k))\n",
    "    for i in range(len(data_set)-k+1):\n",
    "        tmp = data_set[i:i+k]\n",
    "        result.append(tmp.reshape(k))\n",
    "    return np.array(result)\n",
    "\n",
    "x_train_multiple_input = to_multiple_input_data_set(x_train, 3)\n",
    "x_test_multiple_input = to_multiple_input_data_set(x_test, 3)\n",
    "print x_train_multiple_input   "
   ]
  },
  {
   "cell_type": "markdown",
   "metadata": {
    "colab_type": "text",
    "collapsed": true,
    "id": "tYvJ1Gb5gPsE"
   },
   "source": [
    "### KNN - K-Nearest-Neighbors"
   ]
  },
  {
   "cell_type": "code",
   "execution_count": 12,
   "metadata": {
    "colab": {},
    "colab_type": "code",
    "id": "0_ESZRuegPsF",
    "outputId": "0fa0eeb4-2113-4122-ee3a-17163abde6d0"
   },
   "outputs": [
    {
     "name": "stdout",
     "output_type": "stream",
     "text": [
      "0.8\n",
      "0.4\n"
     ]
    }
   ],
   "source": [
    "neigh = KNeighborsClassifier(n_neighbors=5)\n",
    "neigh.fit(x_train, y_train) \n",
    "print neigh.score( x_test, y_test)\n",
    "\n",
    "neigh_multiple_input = KNeighborsClassifier(n_neighbors=5)\n",
    "neigh_multiple_input.fit(x_train_multiple_input, y_train) \n",
    "print neigh_multiple_input.score( x_test_multiple_input, y_test)"
   ]
  },
  {
   "cell_type": "markdown",
   "metadata": {
    "colab_type": "text",
    "collapsed": true,
    "id": "Mww_ZU24gPsJ"
   },
   "source": [
    "#### Accuracy after cross validation "
   ]
  },
  {
   "cell_type": "code",
   "execution_count": 13,
   "metadata": {
    "colab": {},
    "colab_type": "code",
    "id": "65bLem5igPsK",
    "outputId": "c4313a6a-bb4b-4743-b93c-402c3f2b23b6"
   },
   "outputs": [
    {
     "name": "stdout",
     "output_type": "stream",
     "text": [
      "0.44238095238095243\n",
      "0.5933333333333333\n"
     ]
    }
   ],
   "source": [
    "neigh_cv = cross_val_score(neigh, x_train, y_train, cv=10) \n",
    "print(neigh_cv.mean()) \n",
    "\n",
    "neigh_cv_multiple_input = cross_val_score(neigh_multiple_input, x_train_multiple_input, y_train, cv=10) \n",
    "print(neigh_cv_multiple_input.mean()) "
   ]
  },
  {
   "cell_type": "markdown",
   "metadata": {
    "colab_type": "text",
    "id": "v3SrpomSgPsN"
   },
   "source": [
    "### Logistic Regression"
   ]
  },
  {
   "cell_type": "code",
   "execution_count": 14,
   "metadata": {
    "colab": {},
    "colab_type": "code",
    "id": "ztBiRObjgPsN",
    "outputId": "5b0e3fb2-b9c9-470a-9d5f-f491aae994a8"
   },
   "outputs": [
    {
     "name": "stdout",
     "output_type": "stream",
     "text": [
      "0.6\n",
      "0.6\n"
     ]
    },
    {
     "name": "stderr",
     "output_type": "stream",
     "text": [
      "E:\\Anacod\\lib\\site-packages\\sklearn\\linear_model\\logistic.py:433: FutureWarning: Default solver will be changed to 'lbfgs' in 0.22. Specify a solver to silence this warning.\n",
      "  FutureWarning)\n"
     ]
    }
   ],
   "source": [
    "logreg = LogisticRegression(random_state=42)\n",
    "logreg.fit(x_train, y_train)\n",
    "print logreg.score( x_test, y_test)\n",
    "\n",
    "logreg_multiple_input = LogisticRegression(random_state=42)\n",
    "logreg_multiple_input.fit(x_train_multiple_input, y_train)\n",
    "print logreg_multiple_input.score( x_test_multiple_input, y_test)"
   ]
  },
  {
   "cell_type": "markdown",
   "metadata": {
    "colab_type": "text",
    "id": "VBymiNjUgPsR"
   },
   "source": [
    "#### Accuracy after cross validation "
   ]
  },
  {
   "cell_type": "code",
   "execution_count": 15,
   "metadata": {
    "colab": {},
    "colab_type": "code",
    "id": "p5fOJDA3gPsR",
    "outputId": "1893e4df-7d78-4cc2-abb4-8968747d7d41"
   },
   "outputs": [
    {
     "name": "stdout",
     "output_type": "stream",
     "text": [
      "0.6276190476190475\n",
      "0.6276190476190475\n"
     ]
    }
   ],
   "source": [
    "logreg_cv = cross_val_score(logreg, x_train, y_train, cv=10)\n",
    "print(logreg_cv.mean())\n",
    "\n",
    "logreg_cv_multiple_input = cross_val_score(logreg_multiple_input, x_train_multiple_input, y_train, cv=10)\n",
    "print(logreg_cv_multiple_input.mean())"
   ]
  },
  {
   "cell_type": "markdown",
   "metadata": {
    "colab_type": "text",
    "id": "6pqgemtcgPsV"
   },
   "source": [
    "### Support Vector Machines (SVM) with linear kernel\n",
    "#### kernel = 'linear'"
   ]
  },
  {
   "cell_type": "code",
   "execution_count": 16,
   "metadata": {
    "colab": {},
    "colab_type": "code",
    "id": "QHydwm5qgPsW",
    "outputId": "f9fd93c3-a668-4d51-f768-d03aa227669e"
   },
   "outputs": [
    {
     "name": "stdout",
     "output_type": "stream",
     "text": [
      "0.6\n",
      "0.6\n"
     ]
    }
   ],
   "source": [
    "svm_linear = SVC( kernel = 'linear')\n",
    "svm_linear.fit(x_train, y_train)\n",
    "print svm_linear.score(x_test, y_test)\n",
    "\n",
    "svm_linear_multiple_input = SVC( kernel = 'linear')\n",
    "svm_linear_multiple_input.fit(x_train_multiple_input, y_train)\n",
    "print svm_linear_multiple_input.score(x_test_multiple_input, y_test)"
   ]
  },
  {
   "cell_type": "markdown",
   "metadata": {
    "colab_type": "text",
    "id": "AvRmS0axgPsc"
   },
   "source": [
    "#### Accuracy for 'linear' after cross validation"
   ]
  },
  {
   "cell_type": "code",
   "execution_count": 17,
   "metadata": {
    "colab": {},
    "colab_type": "code",
    "id": "UIrWkP-5gPsc",
    "outputId": "29e90a50-0fcf-4b5b-f647-47771b229ce7"
   },
   "outputs": [
    {
     "name": "stdout",
     "output_type": "stream",
     "text": [
      "0.6276190476190475\n",
      "0.6276190476190475\n"
     ]
    }
   ],
   "source": [
    "svm_linear_cv = cross_val_score(svm_linear, x_train, y_train, cv=10)\n",
    "print(svm_linear_cv.mean())\n",
    "\n",
    "svm_linear_cv_multiple_input = cross_val_score(svm_linear_multiple_input, x_train_multiple_input, y_train, cv=10)\n",
    "print(svm_linear_cv_multiple_input.mean())"
   ]
  },
  {
   "cell_type": "markdown",
   "metadata": {
    "colab_type": "text",
    "id": "x5fLCQlhgPsi"
   },
   "source": [
    "### Naive Bayes"
   ]
  },
  {
   "cell_type": "code",
   "execution_count": 18,
   "metadata": {
    "colab": {},
    "colab_type": "code",
    "id": "OoFv3YOsgPsj"
   },
   "outputs": [],
   "source": [
    "scaler = MinMaxScaler() \n",
    "X_minmax = scaler.fit_transform(x_train)\n",
    "\n",
    "mnb = MultinomialNB()"
   ]
  },
  {
   "cell_type": "markdown",
   "metadata": {
    "colab_type": "text",
    "id": "Jl3vfrVkgPsk"
   },
   "source": [
    "#### Accuracy after cross validation"
   ]
  },
  {
   "cell_type": "code",
   "execution_count": 19,
   "metadata": {
    "colab": {},
    "colab_type": "code",
    "id": "XIALhQ39gPsl",
    "outputId": "2724aedd-8885-479a-eb37-6197c6fa9139"
   },
   "outputs": [
    {
     "name": "stdout",
     "output_type": "stream",
     "text": [
      "0.6276190476190475\n"
     ]
    }
   ],
   "source": [
    "mnb_cv = cross_val_score(mnb, X_minmax, y_train, cv=10) # uscaled data accuracy same;  6588046192259676\n",
    "print(mnb_cv.mean())"
   ]
  },
  {
   "cell_type": "markdown",
   "metadata": {
    "colab_type": "text",
    "id": "Cqjw_QUXgPsn"
   },
   "source": [
    "### Decision Tree"
   ]
  },
  {
   "cell_type": "code",
   "execution_count": 20,
   "metadata": {
    "colab": {},
    "colab_type": "code",
    "id": "LCLa3oN1gPsn",
    "outputId": "9a36f74a-55c9-410c-f224-b231a45dd563"
   },
   "outputs": [
    {
     "name": "stdout",
     "output_type": "stream",
     "text": [
      "0.5333333333333333\n",
      "0.3333333333333333\n"
     ]
    }
   ],
   "source": [
    "dtc = tree.DecisionTreeClassifier(random_state=42)\n",
    "dtc.fit(x_train, y_train) \n",
    "print dtc.score(x_test, y_test)\n",
    "\n",
    "dtc_multiple_input = tree.DecisionTreeClassifier()\n",
    "dtc_multiple_input.fit(x_train_multiple_input, y_train) \n",
    "print dtc_multiple_input.score(x_test_multiple_input, y_test)"
   ]
  },
  {
   "cell_type": "markdown",
   "metadata": {
    "colab_type": "text",
    "id": "2L7caOs3gPsu"
   },
   "source": [
    "#### Accuracy after cross validation"
   ]
  },
  {
   "cell_type": "code",
   "execution_count": 21,
   "metadata": {
    "colab": {},
    "colab_type": "code",
    "id": "n9Edy4scgPsu",
    "outputId": "d9ab0e2d-2b43-4053-f5d8-983a806fdf0d"
   },
   "outputs": [
    {
     "name": "stdout",
     "output_type": "stream",
     "text": [
      "0.4852380952380952\n",
      "0.5109523809523809\n"
     ]
    }
   ],
   "source": [
    "dtc_cv = cross_val_score(dtc, x_train, y_train, cv=10) \n",
    "print(dtc_cv.mean())\n",
    "\n",
    "dtc_cv_multiple_input = cross_val_score(dtc_multiple_input, x_train_multiple_input, y_train, cv=10) \n",
    "print(dtc_cv_multiple_input.mean())"
   ]
  },
  {
   "cell_type": "markdown",
   "metadata": {
    "colab_type": "text",
    "id": "9pvVAheJgPsx"
   },
   "source": [
    "### Random Forest\n"
   ]
  },
  {
   "cell_type": "code",
   "execution_count": 22,
   "metadata": {
    "colab": {},
    "colab_type": "code",
    "id": "2JOuQo_cgPsy",
    "outputId": "24988808-5807-4ab1-af4d-1be0414faf6c"
   },
   "outputs": [
    {
     "name": "stdout",
     "output_type": "stream",
     "text": [
      "0.5333333333333333\n",
      "0.6\n"
     ]
    },
    {
     "name": "stderr",
     "output_type": "stream",
     "text": [
      "E:\\Anacod\\lib\\site-packages\\sklearn\\ensemble\\forest.py:246: FutureWarning: The default value of n_estimators will change from 10 in version 0.20 to 100 in 0.22.\n",
      "  \"10 in version 0.20 to 100 in 0.22.\", FutureWarning)\n"
     ]
    }
   ],
   "source": [
    "forest_reg = RandomForestClassifier(random_state=42)\n",
    "forest_reg.fit(x_train, y_train)\n",
    "print forest_reg.score(x_test, y_test)\n",
    "\n",
    "forest_reg_multiple_input = RandomForestClassifier(random_state=42)\n",
    "forest_reg_multiple_input.fit(x_train_multiple_input, y_train)\n",
    "print forest_reg_multiple_input.score(x_test_multiple_input, y_test)"
   ]
  },
  {
   "cell_type": "markdown",
   "metadata": {
    "colab_type": "text",
    "id": "zGvduji0gPs1"
   },
   "source": [
    "#### Accuracy after cross validation"
   ]
  },
  {
   "cell_type": "code",
   "execution_count": 23,
   "metadata": {
    "colab": {},
    "colab_type": "code",
    "id": "yaWSskg8gPs1",
    "outputId": "cbc219e2-665f-40c6-f34d-937f11f5f426"
   },
   "outputs": [
    {
     "name": "stdout",
     "output_type": "stream",
     "text": [
      "0.47095238095238096\n",
      "0.5257142857142857\n"
     ]
    }
   ],
   "source": [
    "forest_reg_cv = cross_val_score(forest_reg, x_train, y_train, cv=10) \n",
    "print(forest_reg_cv.mean()) \n",
    "\n",
    "forest_reg_cv_multiple_input = cross_val_score(forest_reg_multiple_input, x_train_multiple_input, y_train, cv=10) \n",
    "print(forest_reg_cv_multiple_input.mean())  "
   ]
  },
  {
   "cell_type": "markdown",
   "metadata": {
    "colab_type": "text",
    "collapsed": true,
    "id": "eTv3Mxi7gPs4"
   },
   "source": [
    "## Results Summary"
   ]
  },
  {
   "cell_type": "code",
   "execution_count": 24,
   "metadata": {
    "colab": {},
    "colab_type": "code",
    "id": "p2Qj9kQhgPs4",
    "outputId": "e75a4026-253e-440b-8491-5de5a8dc09ca"
   },
   "outputs": [
    {
     "name": "stdout",
     "output_type": "stream",
     "text": [
      "('KNN: \\t\\t\\t', 0.44238095238095243)\n",
      "('Logistic Regression: \\t', 0.6276190476190475)\n",
      "('SVM linear: \\t\\t', 0.6276190476190475)\n",
      "('Naive Bayes: \\t\\t', 0.6276190476190475)\n",
      "('Decision Tree: \\t\\t', 0.4852380952380952)\n",
      "('Random Forest: \\t\\t', 0.47095238095238096)\n",
      "\n",
      "\n",
      "('KNN(Multiple Input): \\t\\t\\t', 0.5933333333333333)\n",
      "('Logistic Regression(Multiple Input): \\t', 0.6276190476190475)\n",
      "('SVM linear(Multiple Input): \\t\\t', 0.6276190476190475)\n",
      "('Decision Tree(Multiple Input): \\t\\t', 0.5109523809523809)\n",
      "('Random Forest(Multiple Input): \\t\\t', 0.5257142857142857)\n"
     ]
    }
   ],
   "source": [
    "print(\"KNN: \\t\\t\\t\", neigh_cv.mean())\n",
    "print(\"Logistic Regression: \\t\", logreg_cv.mean())\n",
    "print(\"SVM linear: \\t\\t\", svm_linear_cv.mean())\n",
    "print(\"Naive Bayes: \\t\\t\", mnb_cv.mean())\n",
    "print(\"Decision Tree: \\t\\t\", dtc_cv.mean())\n",
    "print(\"Random Forest: \\t\\t\", forest_reg_cv.mean())\n",
    "print(\"\\n\")\n",
    "print(\"KNN(Multiple Input): \\t\\t\\t\", neigh_cv_multiple_input.mean())\n",
    "print(\"Logistic Regression(Multiple Input): \\t\", logreg_cv_multiple_input.mean())\n",
    "print(\"SVM linear(Multiple Input): \\t\\t\", svm_linear_cv_multiple_input.mean())\n",
    "print(\"Decision Tree(Multiple Input): \\t\\t\", dtc_cv_multiple_input.mean())\n",
    "print(\"Random Forest(Multiple Input): \\t\\t\", forest_reg_cv_multiple_input.mean())"
   ]
  },
  {
   "cell_type": "code",
   "execution_count": 25,
   "metadata": {
    "colab": {},
    "colab_type": "code",
    "id": "DfeeqrLmgPs6",
    "outputId": "cc71bb67-bcb0-4bab-cbe6-94ec47f31ec0"
   },
   "outputs": [
    {
     "name": "stdout",
     "output_type": "stream",
     "text": [
      "[0.44238095238095243, 0.6276190476190475, 0.6276190476190475, 0.6276190476190475, 0.4852380952380952, 0.47095238095238096, 0.5933333333333333, 0.6276190476190475, 0.6276190476190475, 0.5109523809523809, 0.5257142857142857]\n"
     ]
    }
   ],
   "source": [
    "mean_result = [neigh_cv.mean(), logreg_cv.mean(), svm_linear_cv.mean(),mnb_cv.mean(),dtc_cv.mean(), forest_reg_cv.mean(),neigh_cv_multiple_input.mean(), logreg_cv_multiple_input.mean(), svm_linear_cv_multiple_input.mean(),dtc_cv_multiple_input.mean(), forest_reg_cv_multiple_input.mean()]\n",
    "print mean_result"
   ]
  },
  {
   "cell_type": "code",
   "execution_count": 26,
   "metadata": {
    "colab": {},
    "colab_type": "code",
    "id": "A4rbkBchgPs-",
    "outputId": "391cfdeb-70c5-4750-a6f1-3a05156889bc"
   },
   "outputs": [
    {
     "name": "stdout",
     "output_type": "stream",
     "text": [
      "11\n",
      "11\n"
     ]
    }
   ],
   "source": [
    "results = {'0': ['KNN', 'LogReg', 'SVM linear', 'Naive Bayes', 'Decision Tree', 'Random Forest','KNN(Multiple Input)', 'LogReg(Multiple Input)', 'SVM linear(Multiple Input)','Decision Tree(Multiple Input)', 'Random Forest(Multiple Input)'],\n",
    "          '1':mean_result}\n",
    "print len(results['0'])\n",
    "print len(results['1'])\n"
   ]
  },
  {
   "cell_type": "code",
   "execution_count": 27,
   "metadata": {
    "colab": {},
    "colab_type": "code",
    "id": "Rqyo4Q8zgPtB",
    "scrolled": true
   },
   "outputs": [],
   "source": [
    "summary = pd.DataFrame.from_dict(results)\n",
    "summary = summary.transpose()\n",
    "summary = summary.rename(index = {'0':'Model', '1':'AAL'}) # Update cashtag!"
   ]
  },
  {
   "cell_type": "code",
   "execution_count": 28,
   "metadata": {
    "colab": {},
    "colab_type": "code",
    "id": "QLz6wueEgPtC",
    "outputId": "7194455f-3c76-4ac7-818a-cc3905cbdf84"
   },
   "outputs": [
    {
     "data": {
      "text/html": [
       "<div>\n",
       "<style scoped>\n",
       "    .dataframe tbody tr th:only-of-type {\n",
       "        vertical-align: middle;\n",
       "    }\n",
       "\n",
       "    .dataframe tbody tr th {\n",
       "        vertical-align: top;\n",
       "    }\n",
       "\n",
       "    .dataframe thead th {\n",
       "        text-align: right;\n",
       "    }\n",
       "</style>\n",
       "<table border=\"1\" class=\"dataframe\">\n",
       "  <thead>\n",
       "    <tr style=\"text-align: right;\">\n",
       "      <th></th>\n",
       "      <th>0</th>\n",
       "      <th>1</th>\n",
       "      <th>2</th>\n",
       "      <th>3</th>\n",
       "      <th>4</th>\n",
       "      <th>5</th>\n",
       "      <th>6</th>\n",
       "      <th>7</th>\n",
       "      <th>8</th>\n",
       "      <th>9</th>\n",
       "      <th>10</th>\n",
       "    </tr>\n",
       "  </thead>\n",
       "  <tbody>\n",
       "    <tr>\n",
       "      <th>Model</th>\n",
       "      <td>KNN</td>\n",
       "      <td>LogReg</td>\n",
       "      <td>SVM linear</td>\n",
       "      <td>Naive Bayes</td>\n",
       "      <td>Decision Tree</td>\n",
       "      <td>Random Forest</td>\n",
       "      <td>KNN(Multiple Input)</td>\n",
       "      <td>LogReg(Multiple Input)</td>\n",
       "      <td>SVM linear(Multiple Input)</td>\n",
       "      <td>Decision Tree(Multiple Input)</td>\n",
       "      <td>Random Forest(Multiple Input)</td>\n",
       "    </tr>\n",
       "    <tr>\n",
       "      <th>AAL</th>\n",
       "      <td>0.442381</td>\n",
       "      <td>0.627619</td>\n",
       "      <td>0.627619</td>\n",
       "      <td>0.627619</td>\n",
       "      <td>0.485238</td>\n",
       "      <td>0.470952</td>\n",
       "      <td>0.593333</td>\n",
       "      <td>0.627619</td>\n",
       "      <td>0.627619</td>\n",
       "      <td>0.510952</td>\n",
       "      <td>0.525714</td>\n",
       "    </tr>\n",
       "  </tbody>\n",
       "</table>\n",
       "</div>"
      ],
      "text/plain": [
       "             0         1           2            3              4   \\\n",
       "Model       KNN    LogReg  SVM linear  Naive Bayes  Decision Tree   \n",
       "AAL    0.442381  0.627619    0.627619     0.627619       0.485238   \n",
       "\n",
       "                  5                    6                       7   \\\n",
       "Model  Random Forest  KNN(Multiple Input)  LogReg(Multiple Input)   \n",
       "AAL         0.470952             0.593333                0.627619   \n",
       "\n",
       "                               8                              9   \\\n",
       "Model  SVM linear(Multiple Input)  Decision Tree(Multiple Input)   \n",
       "AAL                      0.627619                       0.510952   \n",
       "\n",
       "                                  10  \n",
       "Model  Random Forest(Multiple Input)  \n",
       "AAL                         0.525714  "
      ]
     },
     "execution_count": 28,
     "metadata": {},
     "output_type": "execute_result"
    }
   ],
   "source": [
    "summary"
   ]
  },
  {
   "cell_type": "markdown",
   "metadata": {
    "colab_type": "text",
    "id": "sbtbhH7sgPtE"
   },
   "source": [
    "### Save the result from each classifier for this cashtag  in an excel\n",
    "The results are used for creating an overall summary for each cashtag and classifier."
   ]
  },
  {
   "cell_type": "code",
   "execution_count": 29,
   "metadata": {
    "colab": {},
    "colab_type": "code",
    "id": "W6ZCqh4-gPtF"
   },
   "outputs": [],
   "source": [
    "# import xlsxwriter\n",
    "# import os\n",
    "\n",
    "writer_df = pd.ExcelWriter('summary.xlsx', engine='xlsxwriter')\n",
    "summary.to_excel(writer_df)\n",
    "writer_df.save()\n",
    "\n",
    "os.rename('summary.xlsx', 'AAL_summary.xlsx') # Update cashtag!"
   ]
  },
  {
   "cell_type": "markdown",
   "metadata": {
    "colab_type": "text",
    "id": "uxUfHHVGgPtG"
   },
   "source": [
    "### Add Prediction"
   ]
  },
  {
   "cell_type": "code",
   "execution_count": 35,
   "metadata": {
    "colab": {},
    "colab_type": "code",
    "id": "Kfz3-zEjgPtI",
    "outputId": "8a742fd1-c9c2-46e2-d6d8-0f27b604905e"
   },
   "outputs": [
    {
     "data": {
      "text/html": [
       "<div>\n",
       "<style scoped>\n",
       "    .dataframe tbody tr th:only-of-type {\n",
       "        vertical-align: middle;\n",
       "    }\n",
       "\n",
       "    .dataframe tbody tr th {\n",
       "        vertical-align: top;\n",
       "    }\n",
       "\n",
       "    .dataframe thead th {\n",
       "        text-align: right;\n",
       "    }\n",
       "</style>\n",
       "<table border=\"1\" class=\"dataframe\">\n",
       "  <thead>\n",
       "    <tr style=\"text-align: right;\">\n",
       "      <th></th>\n",
       "      <th>Compound_multiplied_scaled</th>\n",
       "      <th>Buy/Sell</th>\n",
       "      <th>KNN</th>\n",
       "      <th>LogReg</th>\n",
       "      <th>SVM linear</th>\n",
       "      <th>Decision Tree</th>\n",
       "      <th>Random Forest</th>\n",
       "      <th>KNN(Multiple Input)</th>\n",
       "      <th>LogReg(Multiple Input)</th>\n",
       "      <th>SVM linear(Multiple Input)</th>\n",
       "      <th>Decision Tree(Multiple Input)</th>\n",
       "      <th>Random Forest(Multiple Input)</th>\n",
       "    </tr>\n",
       "  </thead>\n",
       "  <tbody>\n",
       "    <tr>\n",
       "      <th>2016-04-01</th>\n",
       "      <td>-0.033959</td>\n",
       "      <td>-1.0</td>\n",
       "      <td>1.0</td>\n",
       "      <td>-1.0</td>\n",
       "      <td>-1.0</td>\n",
       "      <td>-1.0</td>\n",
       "      <td>-1.0</td>\n",
       "      <td>-1.0</td>\n",
       "      <td>-1.0</td>\n",
       "      <td>-1.0</td>\n",
       "      <td>-1.0</td>\n",
       "      <td>-1.0</td>\n",
       "    </tr>\n",
       "    <tr>\n",
       "      <th>2016-04-02</th>\n",
       "      <td>-0.043138</td>\n",
       "      <td>-1.0</td>\n",
       "      <td>-1.0</td>\n",
       "      <td>-1.0</td>\n",
       "      <td>-1.0</td>\n",
       "      <td>-1.0</td>\n",
       "      <td>-1.0</td>\n",
       "      <td>1.0</td>\n",
       "      <td>-1.0</td>\n",
       "      <td>-1.0</td>\n",
       "      <td>-1.0</td>\n",
       "      <td>-1.0</td>\n",
       "    </tr>\n",
       "    <tr>\n",
       "      <th>2016-04-03</th>\n",
       "      <td>0.089356</td>\n",
       "      <td>-1.0</td>\n",
       "      <td>-1.0</td>\n",
       "      <td>-1.0</td>\n",
       "      <td>-1.0</td>\n",
       "      <td>-1.0</td>\n",
       "      <td>-1.0</td>\n",
       "      <td>1.0</td>\n",
       "      <td>-1.0</td>\n",
       "      <td>-1.0</td>\n",
       "      <td>-1.0</td>\n",
       "      <td>-1.0</td>\n",
       "    </tr>\n",
       "    <tr>\n",
       "      <th>2016-04-04</th>\n",
       "      <td>-0.035462</td>\n",
       "      <td>-1.0</td>\n",
       "      <td>-1.0</td>\n",
       "      <td>-1.0</td>\n",
       "      <td>-1.0</td>\n",
       "      <td>-1.0</td>\n",
       "      <td>-1.0</td>\n",
       "      <td>-1.0</td>\n",
       "      <td>-1.0</td>\n",
       "      <td>-1.0</td>\n",
       "      <td>-1.0</td>\n",
       "      <td>-1.0</td>\n",
       "    </tr>\n",
       "    <tr>\n",
       "      <th>2016-04-05</th>\n",
       "      <td>0.000702</td>\n",
       "      <td>-1.0</td>\n",
       "      <td>1.0</td>\n",
       "      <td>-1.0</td>\n",
       "      <td>-1.0</td>\n",
       "      <td>-1.0</td>\n",
       "      <td>-1.0</td>\n",
       "      <td>-1.0</td>\n",
       "      <td>-1.0</td>\n",
       "      <td>-1.0</td>\n",
       "      <td>1.0</td>\n",
       "      <td>-1.0</td>\n",
       "    </tr>\n",
       "    <tr>\n",
       "      <th>2016-04-06</th>\n",
       "      <td>-0.001984</td>\n",
       "      <td>-1.0</td>\n",
       "      <td>-1.0</td>\n",
       "      <td>-1.0</td>\n",
       "      <td>-1.0</td>\n",
       "      <td>-1.0</td>\n",
       "      <td>-1.0</td>\n",
       "      <td>-1.0</td>\n",
       "      <td>-1.0</td>\n",
       "      <td>-1.0</td>\n",
       "      <td>-1.0</td>\n",
       "      <td>-1.0</td>\n",
       "    </tr>\n",
       "    <tr>\n",
       "      <th>2016-04-07</th>\n",
       "      <td>-0.007124</td>\n",
       "      <td>-1.0</td>\n",
       "      <td>-1.0</td>\n",
       "      <td>-1.0</td>\n",
       "      <td>-1.0</td>\n",
       "      <td>-1.0</td>\n",
       "      <td>-1.0</td>\n",
       "      <td>1.0</td>\n",
       "      <td>-1.0</td>\n",
       "      <td>-1.0</td>\n",
       "      <td>1.0</td>\n",
       "      <td>-1.0</td>\n",
       "    </tr>\n",
       "    <tr>\n",
       "      <th>2016-04-08</th>\n",
       "      <td>-0.018189</td>\n",
       "      <td>-1.0</td>\n",
       "      <td>-1.0</td>\n",
       "      <td>-1.0</td>\n",
       "      <td>-1.0</td>\n",
       "      <td>-1.0</td>\n",
       "      <td>-1.0</td>\n",
       "      <td>1.0</td>\n",
       "      <td>-1.0</td>\n",
       "      <td>-1.0</td>\n",
       "      <td>1.0</td>\n",
       "      <td>1.0</td>\n",
       "    </tr>\n",
       "    <tr>\n",
       "      <th>2016-04-09</th>\n",
       "      <td>-0.056560</td>\n",
       "      <td>-1.0</td>\n",
       "      <td>-1.0</td>\n",
       "      <td>-1.0</td>\n",
       "      <td>-1.0</td>\n",
       "      <td>-1.0</td>\n",
       "      <td>-1.0</td>\n",
       "      <td>-1.0</td>\n",
       "      <td>-1.0</td>\n",
       "      <td>-1.0</td>\n",
       "      <td>-1.0</td>\n",
       "      <td>-1.0</td>\n",
       "    </tr>\n",
       "    <tr>\n",
       "      <th>2016-04-10</th>\n",
       "      <td>0.002535</td>\n",
       "      <td>-1.0</td>\n",
       "      <td>-1.0</td>\n",
       "      <td>-1.0</td>\n",
       "      <td>-1.0</td>\n",
       "      <td>1.0</td>\n",
       "      <td>1.0</td>\n",
       "      <td>1.0</td>\n",
       "      <td>-1.0</td>\n",
       "      <td>-1.0</td>\n",
       "      <td>1.0</td>\n",
       "      <td>1.0</td>\n",
       "    </tr>\n",
       "  </tbody>\n",
       "</table>\n",
       "</div>"
      ],
      "text/plain": [
       "            Compound_multiplied_scaled  Buy/Sell  KNN  LogReg  SVM linear  \\\n",
       "2016-04-01                   -0.033959      -1.0  1.0    -1.0        -1.0   \n",
       "2016-04-02                   -0.043138      -1.0 -1.0    -1.0        -1.0   \n",
       "2016-04-03                    0.089356      -1.0 -1.0    -1.0        -1.0   \n",
       "2016-04-04                   -0.035462      -1.0 -1.0    -1.0        -1.0   \n",
       "2016-04-05                    0.000702      -1.0  1.0    -1.0        -1.0   \n",
       "2016-04-06                   -0.001984      -1.0 -1.0    -1.0        -1.0   \n",
       "2016-04-07                   -0.007124      -1.0 -1.0    -1.0        -1.0   \n",
       "2016-04-08                   -0.018189      -1.0 -1.0    -1.0        -1.0   \n",
       "2016-04-09                   -0.056560      -1.0 -1.0    -1.0        -1.0   \n",
       "2016-04-10                    0.002535      -1.0 -1.0    -1.0        -1.0   \n",
       "\n",
       "            Decision Tree  Random Forest  KNN(Multiple Input)  \\\n",
       "2016-04-01           -1.0           -1.0                 -1.0   \n",
       "2016-04-02           -1.0           -1.0                  1.0   \n",
       "2016-04-03           -1.0           -1.0                  1.0   \n",
       "2016-04-04           -1.0           -1.0                 -1.0   \n",
       "2016-04-05           -1.0           -1.0                 -1.0   \n",
       "2016-04-06           -1.0           -1.0                 -1.0   \n",
       "2016-04-07           -1.0           -1.0                  1.0   \n",
       "2016-04-08           -1.0           -1.0                  1.0   \n",
       "2016-04-09           -1.0           -1.0                 -1.0   \n",
       "2016-04-10            1.0            1.0                  1.0   \n",
       "\n",
       "            LogReg(Multiple Input)  SVM linear(Multiple Input)  \\\n",
       "2016-04-01                    -1.0                        -1.0   \n",
       "2016-04-02                    -1.0                        -1.0   \n",
       "2016-04-03                    -1.0                        -1.0   \n",
       "2016-04-04                    -1.0                        -1.0   \n",
       "2016-04-05                    -1.0                        -1.0   \n",
       "2016-04-06                    -1.0                        -1.0   \n",
       "2016-04-07                    -1.0                        -1.0   \n",
       "2016-04-08                    -1.0                        -1.0   \n",
       "2016-04-09                    -1.0                        -1.0   \n",
       "2016-04-10                    -1.0                        -1.0   \n",
       "\n",
       "            Decision Tree(Multiple Input)  Random Forest(Multiple Input)  \n",
       "2016-04-01                           -1.0                           -1.0  \n",
       "2016-04-02                           -1.0                           -1.0  \n",
       "2016-04-03                           -1.0                           -1.0  \n",
       "2016-04-04                           -1.0                           -1.0  \n",
       "2016-04-05                            1.0                           -1.0  \n",
       "2016-04-06                           -1.0                           -1.0  \n",
       "2016-04-07                            1.0                           -1.0  \n",
       "2016-04-08                            1.0                            1.0  \n",
       "2016-04-09                           -1.0                           -1.0  \n",
       "2016-04-10                            1.0                            1.0  "
      ]
     },
     "execution_count": 35,
     "metadata": {},
     "output_type": "execute_result"
    }
   ],
   "source": [
    "all_data = pd.read_excel(xls, header = 0,encoding='latin-1')\n",
    "x1 = np.array(all_data['Compound_multiplied_scaled'])\n",
    "x = x1.reshape((len(x1), 1))\n",
    "x_multiple_input = to_multiple_input_data_set(x1, 3)\n",
    "all_data['KNN'] = neigh.predict(x)\n",
    "all_data['LogReg'] = logreg.predict(x)\n",
    "all_data['SVM linear'] = svm_linear.predict(x)\n",
    "all_data['Decision Tree'] = dtc.predict(x)\n",
    "all_data['Random Forest'] = forest_reg.predict(x)\n",
    "all_data['KNN(Multiple Input)'] = neigh_multiple_input.predict(x_multiple_input)\n",
    "all_data['LogReg(Multiple Input)'] = logreg_multiple_input.predict(x_multiple_input)\n",
    "all_data['SVM linear(Multiple Input)'] = svm_linear_multiple_input.predict(x_multiple_input)\n",
    "all_data['Decision Tree(Multiple Input)'] = dtc_multiple_input.predict(x_multiple_input)\n",
    "all_data['Random Forest(Multiple Input)'] = forest_reg_multiple_input.predict(x_multiple_input)\n",
    "all_data = all_data[['Compound_multiplied_scaled', 'Buy/Sell', 'KNN', 'LogReg', 'SVM linear', 'Decision Tree','Random Forest', 'KNN(Multiple Input)', 'LogReg(Multiple Input)', 'SVM linear(Multiple Input)', 'Decision Tree(Multiple Input)','Random Forest(Multiple Input)' ]]\n",
    "all_data.head(10)"
   ]
  },
  {
   "cell_type": "code",
   "execution_count": null,
   "metadata": {},
   "outputs": [],
   "source": []
  },
  {
   "cell_type": "code",
   "execution_count": null,
   "metadata": {},
   "outputs": [],
   "source": []
  }
 ],
 "metadata": {
  "colab": {
   "collapsed_sections": [
    "Jl3vfrVkgPsk",
    "2L7caOs3gPsu",
    "zGvduji0gPs1"
   ],
   "name": "Part_2_Training_the_binary_classifiers.ipynb",
   "provenance": [],
   "version": "0.3.2"
  },
  "kernelspec": {
   "display_name": "Python 2",
   "language": "python",
   "name": "python2"
  },
  "language_info": {
   "codemirror_mode": {
    "name": "ipython",
    "version": 2
   },
   "file_extension": ".py",
   "mimetype": "text/x-python",
   "name": "python",
   "nbconvert_exporter": "python",
   "pygments_lexer": "ipython2",
   "version": "2.7.15"
  }
 },
 "nbformat": 4,
 "nbformat_minor": 1
}
