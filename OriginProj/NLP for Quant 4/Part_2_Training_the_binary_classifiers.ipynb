{
 "cells": [
  {
   "cell_type": "markdown",
   "metadata": {},
   "source": [
    "## Downloading and combining all data, applying various algorithms for predictions\n",
    "This notebook is used per cashtag to dowload its combined data of tweets and stock data, then applying each of the six binary classifiers to it. The result is an overview of the accuracy of the classifiers on each cashtag, using an 80/20 Train/Test split and 10-fold cross validation."
   ]
  },
  {
   "cell_type": "code",
   "execution_count": 29,
   "metadata": {},
   "outputs": [],
   "source": [
    "%matplotlib inline\n",
    "import matplotlib as mpl\n",
    "import matplotlib.pyplot as plt\n",
    "import numpy as np\n",
    "import pandas as pd\n",
    "import seaborn as sns\n",
    "import os\n",
    "from sklearn.model_selection import train_test_split\n",
    "from sklearn.neighbors import KNeighborsClassifier\n",
    "from sklearn.linear_model import LogisticRegression\n",
    "from sklearn.svm import SVC\n",
    "from sklearn.naive_bayes import MultinomialNB\n",
    "from sklearn.preprocessing import MinMaxScaler\n",
    "from sklearn import tree\n",
    "import pydotplus\n",
    "from sklearn.externals.six import StringIO  \n",
    "from IPython.display import Image\n",
    "from sklearn.ensemble import RandomForestClassifier \n",
    "from sklearn.model_selection import cross_val_score\n",
    "import xlsxwriter\n",
    "import os"
   ]
  },
  {
   "cell_type": "markdown",
   "metadata": {},
   "source": [
    "### List all files in the folder"
   ]
  },
  {
   "cell_type": "code",
   "execution_count": 30,
   "metadata": {},
   "outputs": [],
   "source": [
    "# import glob\n",
    "\n",
    "# glob.glob(\"C:/Users/jangn/OneDrive/CODE/Stock_markets/Cashtags/*.xlsx\")"
   ]
  },
  {
   "cell_type": "markdown",
   "metadata": {
    "collapsed": true
   },
   "source": [
    "#### The code snippet below will initialize a blank DataFrame then append all of the individual files into the all_data DataFrame. The resulting dataframe contains all the combined data created with the first notebook (Part 1) for each cashtag;  c. 6800 rows = 74 days * 92 companies. \n",
    "https://pbpython.com/excel-file-combine.html"
   ]
  },
  {
   "cell_type": "code",
   "execution_count": 31,
   "metadata": {},
   "outputs": [],
   "source": [
    "# all_data = pd.DataFrame()\n",
    "# for f in glob.glob(\"C:/Users/jangn/OneDrive/CODE/Stock_markets/Cashtags/*.xlsx\"):\n",
    "#     df = pd.read_excel(f)\n",
    "#     all_data = all_data.append(df,ignore_index=True)"
   ]
  },
  {
   "cell_type": "markdown",
   "metadata": {},
   "source": [
    "### Reading only one excel at a time\n",
    "The binary classifiers are trained on each cashtag's twitter and stock data individually."
   ]
  },
  {
   "cell_type": "code",
   "execution_count": 32,
   "metadata": {},
   "outputs": [],
   "source": [
    "xls = pd.ExcelFile(r'C:\\Users\\thinkpad\\Desktop\\AAL_minusones.xlsx') # Update cashtag; separate for each run.\n",
    "all_data = pd.read_excel(xls, header = 0,encoding='latin-1')"
   ]
  },
  {
   "cell_type": "markdown",
   "metadata": {},
   "source": [
    "### Remove the last row for each cashtag, since its 'Predicted_change' is  NaN"
   ]
  },
  {
   "cell_type": "code",
   "execution_count": 33,
   "metadata": {},
   "outputs": [],
   "source": [
    "all_data = all_data[np.isfinite(all_data['Predicted_change_stock'])]\n",
    "all_data = all_data[np.isfinite(all_data['Buy/Sell'])]"
   ]
  },
  {
   "cell_type": "code",
   "execution_count": 34,
   "metadata": {
    "scrolled": true
   },
   "outputs": [
    {
     "data": {
      "text/html": [
       "<div>\n",
       "<style scoped>\n",
       "    .dataframe tbody tr th:only-of-type {\n",
       "        vertical-align: middle;\n",
       "    }\n",
       "\n",
       "    .dataframe tbody tr th {\n",
       "        vertical-align: top;\n",
       "    }\n",
       "\n",
       "    .dataframe thead th {\n",
       "        text-align: right;\n",
       "    }\n",
       "</style>\n",
       "<table border=\"1\" class=\"dataframe\">\n",
       "  <thead>\n",
       "    <tr style=\"text-align: right;\">\n",
       "      <th></th>\n",
       "      <th>Volume_stock</th>\n",
       "      <th>Adj_Close_stock</th>\n",
       "      <th>HiLo_vola_stock</th>\n",
       "      <th>Pct_change_stock</th>\n",
       "      <th>Pct_change_stock_scaled</th>\n",
       "      <th>Favs</th>\n",
       "      <th>RTs</th>\n",
       "      <th>Followers</th>\n",
       "      <th>Following</th>\n",
       "      <th>Is a RT</th>\n",
       "      <th>compound</th>\n",
       "      <th>neg</th>\n",
       "      <th>neu</th>\n",
       "      <th>pos</th>\n",
       "      <th>Compound_multiplied</th>\n",
       "      <th>Compound_multiplied_scaled</th>\n",
       "      <th>Predicted_change_stock</th>\n",
       "      <th>Buy/Sell</th>\n",
       "    </tr>\n",
       "  </thead>\n",
       "  <tbody>\n",
       "  </tbody>\n",
       "</table>\n",
       "</div>"
      ],
      "text/plain": [
       "Empty DataFrame\n",
       "Columns: [Volume_stock, Adj_Close_stock, HiLo_vola_stock, Pct_change_stock, Pct_change_stock_scaled, Favs, RTs, Followers, Following, Is a RT, compound, neg, neu, pos, Compound_multiplied, Compound_multiplied_scaled, Predicted_change_stock, Buy/Sell]\n",
       "Index: []"
      ]
     },
     "execution_count": 34,
     "metadata": {},
     "output_type": "execute_result"
    }
   ],
   "source": [
    "nan_rows = all_data[all_data['Predicted_change_stock'].isnull()]\n",
    "nan_rows"
   ]
  },
  {
   "cell_type": "code",
   "execution_count": 35,
   "metadata": {},
   "outputs": [
    {
     "data": {
      "text/plain": [
       "74"
      ]
     },
     "execution_count": 35,
     "metadata": {},
     "output_type": "execute_result"
    }
   ],
   "source": [
    "len(all_data)"
   ]
  },
  {
   "cell_type": "code",
   "execution_count": 36,
   "metadata": {
    "scrolled": true
   },
   "outputs": [
    {
     "data": {
      "text/html": [
       "<div>\n",
       "<style scoped>\n",
       "    .dataframe tbody tr th:only-of-type {\n",
       "        vertical-align: middle;\n",
       "    }\n",
       "\n",
       "    .dataframe tbody tr th {\n",
       "        vertical-align: top;\n",
       "    }\n",
       "\n",
       "    .dataframe thead th {\n",
       "        text-align: right;\n",
       "    }\n",
       "</style>\n",
       "<table border=\"1\" class=\"dataframe\">\n",
       "  <thead>\n",
       "    <tr style=\"text-align: right;\">\n",
       "      <th></th>\n",
       "      <th>Volume_stock</th>\n",
       "      <th>Adj_Close_stock</th>\n",
       "      <th>HiLo_vola_stock</th>\n",
       "      <th>Pct_change_stock</th>\n",
       "      <th>Pct_change_stock_scaled</th>\n",
       "      <th>Favs</th>\n",
       "      <th>RTs</th>\n",
       "      <th>Followers</th>\n",
       "      <th>Following</th>\n",
       "      <th>Is a RT</th>\n",
       "      <th>compound</th>\n",
       "      <th>neg</th>\n",
       "      <th>neu</th>\n",
       "      <th>pos</th>\n",
       "      <th>Compound_multiplied</th>\n",
       "      <th>Compound_multiplied_scaled</th>\n",
       "      <th>Predicted_change_stock</th>\n",
       "      <th>Buy/Sell</th>\n",
       "    </tr>\n",
       "  </thead>\n",
       "  <tbody>\n",
       "    <tr>\n",
       "      <th>count</th>\n",
       "      <td>7.400000e+01</td>\n",
       "      <td>74.000000</td>\n",
       "      <td>74.000000</td>\n",
       "      <td>74.000000</td>\n",
       "      <td>74.000000</td>\n",
       "      <td>74.000000</td>\n",
       "      <td>74.000000</td>\n",
       "      <td>74.000000</td>\n",
       "      <td>74.000000</td>\n",
       "      <td>74.000000</td>\n",
       "      <td>74.000000</td>\n",
       "      <td>74.000000</td>\n",
       "      <td>74.000000</td>\n",
       "      <td>74.000000</td>\n",
       "      <td>74.000000</td>\n",
       "      <td>74.000000</td>\n",
       "      <td>74.000000</td>\n",
       "      <td>74.000000</td>\n",
       "    </tr>\n",
       "    <tr>\n",
       "      <th>mean</th>\n",
       "      <td>9.731227e+06</td>\n",
       "      <td>33.997063</td>\n",
       "      <td>2.866570</td>\n",
       "      <td>-0.447087</td>\n",
       "      <td>0.022178</td>\n",
       "      <td>1.873590</td>\n",
       "      <td>2.362778</td>\n",
       "      <td>4158.740790</td>\n",
       "      <td>1047.781398</td>\n",
       "      <td>0.136907</td>\n",
       "      <td>0.218461</td>\n",
       "      <td>0.055512</td>\n",
       "      <td>0.796866</td>\n",
       "      <td>0.147624</td>\n",
       "      <td>442.440350</td>\n",
       "      <td>0.022435</td>\n",
       "      <td>-0.488144</td>\n",
       "      <td>-0.243243</td>\n",
       "    </tr>\n",
       "    <tr>\n",
       "      <th>std</th>\n",
       "      <td>3.143877e+06</td>\n",
       "      <td>3.336924</td>\n",
       "      <td>0.999271</td>\n",
       "      <td>1.512450</td>\n",
       "      <td>0.860596</td>\n",
       "      <td>1.489856</td>\n",
       "      <td>1.779835</td>\n",
       "      <td>6194.575281</td>\n",
       "      <td>1178.949550</td>\n",
       "      <td>0.143181</td>\n",
       "      <td>0.130938</td>\n",
       "      <td>0.027647</td>\n",
       "      <td>0.036900</td>\n",
       "      <td>0.040814</td>\n",
       "      <td>3204.139740</td>\n",
       "      <td>0.091246</td>\n",
       "      <td>1.581633</td>\n",
       "      <td>0.976586</td>\n",
       "    </tr>\n",
       "    <tr>\n",
       "      <th>min</th>\n",
       "      <td>5.018200e+06</td>\n",
       "      <td>30.006098</td>\n",
       "      <td>1.373308</td>\n",
       "      <td>-5.089362</td>\n",
       "      <td>-2.619312</td>\n",
       "      <td>1.000000</td>\n",
       "      <td>1.000000</td>\n",
       "      <td>28.000000</td>\n",
       "      <td>11.000000</td>\n",
       "      <td>0.000000</td>\n",
       "      <td>-0.042245</td>\n",
       "      <td>0.000000</td>\n",
       "      <td>0.695500</td>\n",
       "      <td>0.063667</td>\n",
       "      <td>-24255.853656</td>\n",
       "      <td>-0.680912</td>\n",
       "      <td>-5.089362</td>\n",
       "      <td>-1.000000</td>\n",
       "    </tr>\n",
       "    <tr>\n",
       "      <th>25%</th>\n",
       "      <td>7.338450e+06</td>\n",
       "      <td>31.092009</td>\n",
       "      <td>2.060415</td>\n",
       "      <td>-1.211461</td>\n",
       "      <td>-0.412757</td>\n",
       "      <td>1.000000</td>\n",
       "      <td>1.000000</td>\n",
       "      <td>1367.875962</td>\n",
       "      <td>395.832358</td>\n",
       "      <td>0.034483</td>\n",
       "      <td>0.121496</td>\n",
       "      <td>0.038277</td>\n",
       "      <td>0.780541</td>\n",
       "      <td>0.126429</td>\n",
       "      <td>124.810639</td>\n",
       "      <td>0.013390</td>\n",
       "      <td>-1.211461</td>\n",
       "      <td>-1.000000</td>\n",
       "    </tr>\n",
       "    <tr>\n",
       "      <th>50%</th>\n",
       "      <td>9.032517e+06</td>\n",
       "      <td>32.221743</td>\n",
       "      <td>2.770293</td>\n",
       "      <td>-0.418915</td>\n",
       "      <td>0.038208</td>\n",
       "      <td>1.450000</td>\n",
       "      <td>2.305556</td>\n",
       "      <td>2583.105392</td>\n",
       "      <td>723.038462</td>\n",
       "      <td>0.099408</td>\n",
       "      <td>0.214772</td>\n",
       "      <td>0.056847</td>\n",
       "      <td>0.797208</td>\n",
       "      <td>0.137407</td>\n",
       "      <td>407.177512</td>\n",
       "      <td>0.021431</td>\n",
       "      <td>-0.418915</td>\n",
       "      <td>-1.000000</td>\n",
       "    </tr>\n",
       "    <tr>\n",
       "      <th>75%</th>\n",
       "      <td>1.160547e+07</td>\n",
       "      <td>37.443207</td>\n",
       "      <td>3.503908</td>\n",
       "      <td>0.482330</td>\n",
       "      <td>0.551023</td>\n",
       "      <td>1.968597</td>\n",
       "      <td>2.501522</td>\n",
       "      <td>4460.559091</td>\n",
       "      <td>1371.403125</td>\n",
       "      <td>0.200000</td>\n",
       "      <td>0.269424</td>\n",
       "      <td>0.073731</td>\n",
       "      <td>0.816801</td>\n",
       "      <td>0.161935</td>\n",
       "      <td>1124.456466</td>\n",
       "      <td>0.041857</td>\n",
       "      <td>0.482330</td>\n",
       "      <td>1.000000</td>\n",
       "    </tr>\n",
       "    <tr>\n",
       "      <th>max</th>\n",
       "      <td>2.093950e+07</td>\n",
       "      <td>40.145294</td>\n",
       "      <td>5.669799</td>\n",
       "      <td>3.565896</td>\n",
       "      <td>2.305596</td>\n",
       "      <td>10.666667</td>\n",
       "      <td>12.428571</td>\n",
       "      <td>37904.563380</td>\n",
       "      <td>8271.600000</td>\n",
       "      <td>0.600000</td>\n",
       "      <td>0.851300</td>\n",
       "      <td>0.139414</td>\n",
       "      <td>0.865750</td>\n",
       "      <td>0.304500</td>\n",
       "      <td>7057.999731</td>\n",
       "      <td>0.210830</td>\n",
       "      <td>3.565896</td>\n",
       "      <td>1.000000</td>\n",
       "    </tr>\n",
       "  </tbody>\n",
       "</table>\n",
       "</div>"
      ],
      "text/plain": [
       "       Volume_stock  Adj_Close_stock  HiLo_vola_stock  Pct_change_stock  \\\n",
       "count  7.400000e+01        74.000000        74.000000         74.000000   \n",
       "mean   9.731227e+06        33.997063         2.866570         -0.447087   \n",
       "std    3.143877e+06         3.336924         0.999271          1.512450   \n",
       "min    5.018200e+06        30.006098         1.373308         -5.089362   \n",
       "25%    7.338450e+06        31.092009         2.060415         -1.211461   \n",
       "50%    9.032517e+06        32.221743         2.770293         -0.418915   \n",
       "75%    1.160547e+07        37.443207         3.503908          0.482330   \n",
       "max    2.093950e+07        40.145294         5.669799          3.565896   \n",
       "\n",
       "       Pct_change_stock_scaled       Favs        RTs     Followers  \\\n",
       "count                74.000000  74.000000  74.000000     74.000000   \n",
       "mean                  0.022178   1.873590   2.362778   4158.740790   \n",
       "std                   0.860596   1.489856   1.779835   6194.575281   \n",
       "min                  -2.619312   1.000000   1.000000     28.000000   \n",
       "25%                  -0.412757   1.000000   1.000000   1367.875962   \n",
       "50%                   0.038208   1.450000   2.305556   2583.105392   \n",
       "75%                   0.551023   1.968597   2.501522   4460.559091   \n",
       "max                   2.305596  10.666667  12.428571  37904.563380   \n",
       "\n",
       "         Following    Is a RT   compound        neg        neu        pos  \\\n",
       "count    74.000000  74.000000  74.000000  74.000000  74.000000  74.000000   \n",
       "mean   1047.781398   0.136907   0.218461   0.055512   0.796866   0.147624   \n",
       "std    1178.949550   0.143181   0.130938   0.027647   0.036900   0.040814   \n",
       "min      11.000000   0.000000  -0.042245   0.000000   0.695500   0.063667   \n",
       "25%     395.832358   0.034483   0.121496   0.038277   0.780541   0.126429   \n",
       "50%     723.038462   0.099408   0.214772   0.056847   0.797208   0.137407   \n",
       "75%    1371.403125   0.200000   0.269424   0.073731   0.816801   0.161935   \n",
       "max    8271.600000   0.600000   0.851300   0.139414   0.865750   0.304500   \n",
       "\n",
       "       Compound_multiplied  Compound_multiplied_scaled  \\\n",
       "count            74.000000                   74.000000   \n",
       "mean            442.440350                    0.022435   \n",
       "std            3204.139740                    0.091246   \n",
       "min          -24255.853656                   -0.680912   \n",
       "25%             124.810639                    0.013390   \n",
       "50%             407.177512                    0.021431   \n",
       "75%            1124.456466                    0.041857   \n",
       "max            7057.999731                    0.210830   \n",
       "\n",
       "       Predicted_change_stock   Buy/Sell  \n",
       "count               74.000000  74.000000  \n",
       "mean                -0.488144  -0.243243  \n",
       "std                  1.581633   0.976586  \n",
       "min                 -5.089362  -1.000000  \n",
       "25%                 -1.211461  -1.000000  \n",
       "50%                 -0.418915  -1.000000  \n",
       "75%                  0.482330   1.000000  \n",
       "max                  3.565896   1.000000  "
      ]
     },
     "execution_count": 36,
     "metadata": {},
     "output_type": "execute_result"
    }
   ],
   "source": [
    "all_data.describe()"
   ]
  },
  {
   "cell_type": "code",
   "execution_count": 37,
   "metadata": {},
   "outputs": [
    {
     "name": "stdout",
     "output_type": "stream",
     "text": [
      "<class 'pandas.core.frame.DataFrame'>\n",
      "DatetimeIndex: 74 entries, 2016-04-01 to 2016-06-13\n",
      "Data columns (total 18 columns):\n",
      "Volume_stock                  74 non-null float64\n",
      "Adj_Close_stock               74 non-null float64\n",
      "HiLo_vola_stock               74 non-null float64\n",
      "Pct_change_stock              74 non-null float64\n",
      "Pct_change_stock_scaled       74 non-null float64\n",
      "Favs                          74 non-null float64\n",
      "RTs                           74 non-null float64\n",
      "Followers                     74 non-null float64\n",
      "Following                     74 non-null float64\n",
      "Is a RT                       74 non-null float64\n",
      "compound                      74 non-null float64\n",
      "neg                           74 non-null float64\n",
      "neu                           74 non-null float64\n",
      "pos                           74 non-null float64\n",
      "Compound_multiplied           74 non-null float64\n",
      "Compound_multiplied_scaled    74 non-null float64\n",
      "Predicted_change_stock        74 non-null float64\n",
      "Buy/Sell                      74 non-null float64\n",
      "dtypes: float64(18)\n",
      "memory usage: 11.0 KB\n"
     ]
    }
   ],
   "source": [
    "all_data.info()"
   ]
  },
  {
   "cell_type": "markdown",
   "metadata": {},
   "source": [
    "### How are the 'Compound_multiplied_scaled' -features distributed"
   ]
  },
  {
   "cell_type": "code",
   "execution_count": 38,
   "metadata": {},
   "outputs": [
    {
     "name": "stderr",
     "output_type": "stream",
     "text": [
      "E:\\Anacod\\lib\\site-packages\\matplotlib\\axes\\_axes.py:6571: UserWarning: The 'normed' kwarg is deprecated, and has been replaced by the 'density' kwarg.\n",
      "  warnings.warn(\"The 'normed' kwarg is deprecated, and has been \"\n"
     ]
    },
    {
     "data": {
      "image/png": "[encoded data removed]",
      "text/plain": [
       "<Figure size 1152x288 with 1 Axes>"
      ]
     },
     "metadata": {
      "needs_background": "light"
     },
     "output_type": "display_data"
    }
   ],
   "source": [
    "fig_size = plt.rcParams[\"figure.figsize\"]\n",
    "fig_size[0] =16.0\n",
    "fig_size[1] = 4.0\n",
    "x = all_data['Compound_multiplied_scaled'] \n",
    "plt.hist(x, normed=True, bins=250)\n",
    "plt.ylabel('Compound_multiplied_scaled'); \n"
   ]
  },
  {
   "cell_type": "markdown",
   "metadata": {},
   "source": [
    "### Train - Test split"
   ]
  },
  {
   "cell_type": "code",
   "execution_count": 39,
   "metadata": {},
   "outputs": [
    {
     "name": "stdout",
     "output_type": "stream",
     "text": [
      "[[ 0.          0.          0.03013982]\n",
      " [ 0.          0.03013982  0.02171325]\n",
      " [ 0.03013982  0.02171325  0.01450137]\n",
      " [ 0.02171325  0.01450137 -0.00929781]\n",
      " [ 0.01450137 -0.00929781  0.16351091]\n",
      " [-0.00929781  0.16351091  0.02569417]\n",
      " [ 0.16351091  0.02569417  0.01551957]\n",
      " [ 0.02569417  0.01551957  0.0108981 ]\n",
      " [ 0.01551957  0.0108981   0.08534813]\n",
      " [ 0.0108981   0.08534813  0.02064675]\n",
      " [ 0.08534813  0.02064675  0.01330145]\n",
      " [ 0.02064675  0.01330145  0.00577442]\n",
      " [ 0.01330145  0.00577442  0.02962548]\n",
      " [ 0.00577442  0.02962548  0.05866122]\n",
      " [ 0.02962548  0.05866122  0.02105814]\n",
      " [ 0.05866122  0.02105814  0.10356587]\n",
      " [ 0.02105814  0.10356587  0.01782465]\n",
      " [ 0.10356587  0.01782465  0.02203516]\n",
      " [ 0.01782465  0.02203516  0.00347181]\n",
      " [ 0.02203516  0.00347181  0.00362918]\n",
      " [ 0.00347181  0.00362918  0.05494012]\n",
      " [ 0.00362918  0.05494012 -0.01899746]\n",
      " [ 0.05494012 -0.01899746 -0.00986446]\n",
      " [-0.01899746 -0.00986446  0.0211486 ]\n",
      " [-0.00986446  0.0211486   0.02412024]\n",
      " [ 0.0211486   0.02412024  0.03331091]\n",
      " [ 0.02412024  0.03331091  0.00547204]\n",
      " [ 0.03331091  0.00547204  0.02488324]\n",
      " [ 0.00547204  0.02488324  0.11194529]\n",
      " [ 0.02488324  0.11194529 -0.68091179]\n",
      " [ 0.11194529 -0.68091179  0.04849521]\n",
      " [-0.68091179  0.04849521  0.01839298]\n",
      " [ 0.04849521  0.01839298  0.03439693]\n",
      " [ 0.01839298  0.03439693  0.01518356]\n",
      " [ 0.03439693  0.01518356  0.04317644]\n",
      " [ 0.01518356  0.04317644  0.03171125]\n",
      " [ 0.04317644  0.03171125  0.0179053 ]\n",
      " [ 0.03171125  0.0179053   0.0367217 ]\n",
      " [ 0.0179053   0.0367217   0.01754394]\n",
      " [ 0.0367217   0.01754394  0.04398992]\n",
      " [ 0.01754394  0.04398992  0.00867576]\n",
      " [ 0.04398992  0.00867576  0.01743907]\n",
      " [ 0.00867576  0.01743907  0.03817539]\n",
      " [ 0.01743907  0.03817539  0.01686973]\n",
      " [ 0.03817539  0.01686973  0.06366169]\n",
      " [ 0.01686973  0.06366169  0.00875844]\n",
      " [ 0.06366169  0.00875844  0.06742833]\n",
      " [ 0.00875844  0.06742833  0.00754412]\n",
      " [ 0.06742833  0.00754412  0.02081167]\n",
      " [ 0.00754412  0.02081167  0.07297706]\n",
      " [ 0.02081167  0.07297706  0.1144048 ]\n",
      " [ 0.07297706  0.1144048   0.06276501]\n",
      " [ 0.1144048   0.06276501  0.21083005]\n",
      " [ 0.06276501  0.21083005  0.04275183]\n",
      " [ 0.21083005  0.04275183  0.01813135]\n",
      " [ 0.04275183  0.01813135  0.02794459]\n",
      " [ 0.01813135  0.02794459  0.01365488]\n",
      " [ 0.02794459  0.01365488  0.04880556]\n",
      " [ 0.01365488  0.04880556  0.01051431]]\n"
     ]
    }
   ],
   "source": [
    "x = np.array(all_data[['Compound_multiplied_scaled']]) #\n",
    "y = np.array(all_data['Buy/Sell'])\n",
    "\n",
    "# from sklearn.model_selection import train_test_split\n",
    "\n",
    "x_train, x_test, y_train, y_test = train_test_split(x, y, test_size = 0.2, random_state = 42)\n",
    "\n",
    "def to_multiple_input_data_set(data_set, k):\n",
    "    result = []\n",
    "    for i in range(k-1):\n",
    "        tmp = data_set[0:i+1]\n",
    "        for j in range(k-i-1):\n",
    "            tmp = np.insert(tmp, 0, 0, 0)\n",
    "        result.append(tmp.reshape(k))\n",
    "    for i in range(len(data_set)-k+1):\n",
    "        tmp = data_set[i:i+k]\n",
    "        result.append(tmp.reshape(k))\n",
    "    return np.array(result)\n",
    "\n",
    "x_train_multiple_input = to_multiple_input_data_set(x_train, 3)\n",
    "x_test_multiple_input = to_multiple_input_data_set(x_test, 3)\n",
    "print x_train_multiple_input   "
   ]
  },
  {
   "cell_type": "markdown",
   "metadata": {
    "collapsed": true
   },
   "source": [
    "### KNN - K-Nearest-Neighbors\n",
    "Accuracy from running only 20% Testing data against 80% Training data."
   ]
  },
  {
   "cell_type": "code",
   "execution_count": 40,
   "metadata": {},
   "outputs": [
    {
     "name": "stdout",
     "output_type": "stream",
     "text": [
      "0.6\n",
      "0.4666666666666667\n"
     ]
    }
   ],
   "source": [
    "# from sklearn.neighbors import KNeighborsClassifier\n",
    "# from sklearn.model_selection import cross_val_score\n",
    "\n",
    "neigh = KNeighborsClassifier(n_neighbors=5)\n",
    "neigh.fit(x_train, y_train) \n",
    "print neigh.score( x_test, y_test)\n",
    "\n",
    "neigh_multiple_input = KNeighborsClassifier(n_neighbors=5)\n",
    "neigh_multiple_input.fit(x_train_multiple_input, y_train) \n",
    "print neigh_multiple_input.score( x_test_multiple_input, y_test)"
   ]
  },
  {
   "cell_type": "markdown",
   "metadata": {
    "collapsed": true
   },
   "source": [
    "#### Accuracy after cross validation "
   ]
  },
  {
   "cell_type": "code",
   "execution_count": 41,
   "metadata": {},
   "outputs": [
    {
     "name": "stdout",
     "output_type": "stream",
     "text": [
      "0.5752380952380952\n",
      "0.43380952380952376\n"
     ]
    }
   ],
   "source": [
    "neigh_cv = cross_val_score(neigh, x_train, y_train, cv=10) \n",
    "print(neigh_cv.mean()) \n",
    "\n",
    "neigh_cv_multiple_input = cross_val_score(neigh_multiple_input, x_train_multiple_input, y_train, cv=10) \n",
    "print(neigh_cv_multiple_input.mean()) "
   ]
  },
  {
   "cell_type": "markdown",
   "metadata": {},
   "source": [
    "### Logistic Regression\n",
    "Accuracy from running only 20% Testing data against 80% Training data."
   ]
  },
  {
   "cell_type": "code",
   "execution_count": 42,
   "metadata": {},
   "outputs": [
    {
     "name": "stdout",
     "output_type": "stream",
     "text": [
      "0.6\n",
      "0.6\n"
     ]
    }
   ],
   "source": [
    "# from sklearn.linear_model import LogisticRegression\n",
    "\n",
    "logreg = LogisticRegression(random_state=42)\n",
    "logreg.fit(x_train, y_train)\n",
    "print logreg.score( x_test, y_test)\n",
    "\n",
    "logreg_multiple_input = LogisticRegression(random_state=42)\n",
    "logreg_multiple_input.fit(x_train_multiple_input, y_train)\n",
    "print logreg_multiple_input.score( x_test_multiple_input, y_test)"
   ]
  },
  {
   "cell_type": "markdown",
   "metadata": {},
   "source": [
    "#### Accuracy after cross validation "
   ]
  },
  {
   "cell_type": "code",
   "execution_count": 43,
   "metadata": {},
   "outputs": [
    {
     "name": "stdout",
     "output_type": "stream",
     "text": [
      "0.6276190476190475\n",
      "0.6276190476190475\n"
     ]
    }
   ],
   "source": [
    "logreg_cv = cross_val_score(logreg, x_train, y_train, cv=10)\n",
    "print(logreg_cv.mean())\n",
    "\n",
    "logreg_cv_multiple_input = cross_val_score(logreg_multiple_input, x_train_multiple_input, y_train, cv=10)\n",
    "print(logreg_cv_multiple_input.mean())"
   ]
  },
  {
   "cell_type": "markdown",
   "metadata": {},
   "source": [
    "### Support Vector Machines (SVM) with linear kernel\n",
    "Accuracy from running only 20% Testing data against 80% Training data.\n",
    "#### kernel = 'linear'"
   ]
  },
  {
   "cell_type": "code",
   "execution_count": 44,
   "metadata": {},
   "outputs": [
    {
     "name": "stdout",
     "output_type": "stream",
     "text": [
      "0.6\n",
      "0.6\n"
     ]
    }
   ],
   "source": [
    "# from sklearn.svm import SVC\n",
    "\n",
    "svm_linear = SVC( kernel = 'linear')\n",
    "svm_linear.fit(x_train, y_train)\n",
    "print svm_linear.score(x_test, y_test)\n",
    "\n",
    "svm_linear_multiple_input = SVC( kernel = 'linear')\n",
    "svm_linear_multiple_input.fit(x_train_multiple_input, y_train)\n",
    "print svm_linear_multiple_input.score(x_test_multiple_input, y_test)"
   ]
  },
  {
   "cell_type": "markdown",
   "metadata": {},
   "source": [
    "#### Accuracy for 'linear' after cross validation"
   ]
  },
  {
   "cell_type": "code",
   "execution_count": 45,
   "metadata": {},
   "outputs": [
    {
     "name": "stdout",
     "output_type": "stream",
     "text": [
      "0.6276190476190475\n",
      "0.6276190476190475\n"
     ]
    }
   ],
   "source": [
    "svm_linear_cv = cross_val_score(svm_linear, x_train, y_train, cv=10)\n",
    "print(svm_linear_cv.mean())\n",
    "\n",
    "svm_linear_cv_multiple_input = cross_val_score(svm_linear_multiple_input, x_train_multiple_input, y_train, cv=10)\n",
    "print(svm_linear_cv_multiple_input.mean())"
   ]
  },
  {
   "cell_type": "markdown",
   "metadata": {},
   "source": [
    "#### kernel = 'rbf' - NOT USED"
   ]
  },
  {
   "cell_type": "code",
   "execution_count": 46,
   "metadata": {},
   "outputs": [],
   "source": [
    "# svm_rbf = SVC( kernel = 'rbf')\n",
    "# svm_rbf.fit(x_train, y_train) "
   ]
  },
  {
   "cell_type": "markdown",
   "metadata": {},
   "source": [
    "#### Accuracy for 'rbf' after cross validation"
   ]
  },
  {
   "cell_type": "code",
   "execution_count": 47,
   "metadata": {},
   "outputs": [],
   "source": [
    "# svm_rbf_cv = cross_val_score(svm_rbf, x_train, y_train, cv=10) \n",
    "# print(svm_rbf_cv.mean())"
   ]
  },
  {
   "cell_type": "markdown",
   "metadata": {},
   "source": [
    "### Naive Bayes\n",
    "\n",
    "Please note! A MinMaxScaler is needed to get the features in the range MultinomialNB requires. No 20/80 testing was done, only cross-validation."
   ]
  },
  {
   "cell_type": "code",
   "execution_count": 48,
   "metadata": {},
   "outputs": [],
   "source": [
    "# from sklearn.naive_bayes import MultinomialNB\n",
    "\n",
    "# from sklearn.preprocessing import MinMaxScaler\n",
    "scaler = MinMaxScaler() \n",
    "X_minmax = scaler.fit_transform(x_train)\n",
    "\n",
    "mnb = MultinomialNB()"
   ]
  },
  {
   "cell_type": "markdown",
   "metadata": {},
   "source": [
    "#### Accuracy after cross validation"
   ]
  },
  {
   "cell_type": "code",
   "execution_count": 49,
   "metadata": {},
   "outputs": [
    {
     "name": "stdout",
     "output_type": "stream",
     "text": [
      "0.6276190476190475\n"
     ]
    }
   ],
   "source": [
    "mnb_cv = cross_val_score(mnb, X_minmax, y_train, cv=10) # uscaled data accuracy same;  6588046192259676\n",
    "print(mnb_cv.mean())"
   ]
  },
  {
   "cell_type": "markdown",
   "metadata": {},
   "source": [
    "### Decision Tree\n",
    "Accuracy from running only 20% Testing data against 80% Training data. Probably overfitting, a typical problem with Decistion Trees."
   ]
  },
  {
   "cell_type": "code",
   "execution_count": 50,
   "metadata": {},
   "outputs": [
    {
     "name": "stdout",
     "output_type": "stream",
     "text": [
      "0.7333333333333333\n",
      "0.7333333333333333\n"
     ]
    }
   ],
   "source": [
    "# from sklearn import tree\n",
    "dtc = tree.DecisionTreeClassifier(random_state=42)\n",
    "dtc.fit(x_train, y_train) \n",
    "print dtc.score(x_test, y_test)\n",
    "\n",
    "dtc_multiple_input = tree.DecisionTreeClassifier()\n",
    "dtc_multiple_input.fit(x_train_multiple_input, y_train) \n",
    "print dtc_multiple_input.score(x_test_multiple_input, y_test)"
   ]
  },
  {
   "cell_type": "markdown",
   "metadata": {},
   "source": [
    "### Decision Tree as an image"
   ]
  },
  {
   "cell_type": "code",
   "execution_count": 51,
   "metadata": {},
   "outputs": [
    {
     "ename": "InvocationException",
     "evalue": "GraphViz's executables not found",
     "output_type": "error",
     "traceback": [
      "\u001b[1;31m---------------------------------------------------------------------------\u001b[0m",
      "\u001b[1;31mInvocationException\u001b[0m                       Traceback (most recent call last)",
      "\u001b[1;32m<ipython-input-51-8de97b9c43f1>\u001b[0m in \u001b[0;36m<module>\u001b[1;34m()\u001b[0m\n\u001b[0;32m      8\u001b[0m                          feature_names=features)  \n\u001b[0;32m      9\u001b[0m \u001b[0mgraph\u001b[0m \u001b[1;33m=\u001b[0m \u001b[0mpydotplus\u001b[0m\u001b[1;33m.\u001b[0m\u001b[0mgraph_from_dot_data\u001b[0m\u001b[1;33m(\u001b[0m\u001b[0mdot_data\u001b[0m\u001b[1;33m.\u001b[0m\u001b[0mgetvalue\u001b[0m\u001b[1;33m(\u001b[0m\u001b[1;33m)\u001b[0m\u001b[1;33m)\u001b[0m\u001b[1;33m\u001b[0m\u001b[0m\n\u001b[1;32m---> 10\u001b[1;33m \u001b[0mImage\u001b[0m\u001b[1;33m(\u001b[0m\u001b[0mgraph\u001b[0m\u001b[1;33m.\u001b[0m\u001b[0mcreate_png\u001b[0m\u001b[1;33m(\u001b[0m\u001b[1;33m)\u001b[0m\u001b[1;33m)\u001b[0m\u001b[1;33m\u001b[0m\u001b[0m\n\u001b[0m",
      "\u001b[1;32mE:\\Anacod\\lib\\site-packages\\pydotplus\\graphviz.pyc\u001b[0m in \u001b[0;36m<lambda>\u001b[1;34m(f, prog)\u001b[0m\n\u001b[0;32m   1795\u001b[0m             self.__setattr__(\n\u001b[0;32m   1796\u001b[0m                 \u001b[1;34m'create_'\u001b[0m \u001b[1;33m+\u001b[0m \u001b[0mfrmt\u001b[0m\u001b[1;33m,\u001b[0m\u001b[1;33m\u001b[0m\u001b[0m\n\u001b[1;32m-> 1797\u001b[1;33m                 \u001b[1;32mlambda\u001b[0m \u001b[0mf\u001b[0m\u001b[1;33m=\u001b[0m\u001b[0mfrmt\u001b[0m\u001b[1;33m,\u001b[0m \u001b[0mprog\u001b[0m\u001b[1;33m=\u001b[0m\u001b[0mself\u001b[0m\u001b[1;33m.\u001b[0m\u001b[0mprog\u001b[0m\u001b[1;33m:\u001b[0m \u001b[0mself\u001b[0m\u001b[1;33m.\u001b[0m\u001b[0mcreate\u001b[0m\u001b[1;33m(\u001b[0m\u001b[0mformat\u001b[0m\u001b[1;33m=\u001b[0m\u001b[0mf\u001b[0m\u001b[1;33m,\u001b[0m \u001b[0mprog\u001b[0m\u001b[1;33m=\u001b[0m\u001b[0mprog\u001b[0m\u001b[1;33m)\u001b[0m\u001b[1;33m\u001b[0m\u001b[0m\n\u001b[0m\u001b[0;32m   1798\u001b[0m             )\n\u001b[0;32m   1799\u001b[0m             \u001b[0mf\u001b[0m \u001b[1;33m=\u001b[0m \u001b[0mself\u001b[0m\u001b[1;33m.\u001b[0m\u001b[0m__dict__\u001b[0m\u001b[1;33m[\u001b[0m\u001b[1;34m'create_'\u001b[0m \u001b[1;33m+\u001b[0m \u001b[0mfrmt\u001b[0m\u001b[1;33m]\u001b[0m\u001b[1;33m\u001b[0m\u001b[0m\n",
      "\u001b[1;32mE:\\Anacod\\lib\\site-packages\\pydotplus\\graphviz.pyc\u001b[0m in \u001b[0;36mcreate\u001b[1;34m(self, prog, format)\u001b[0m\n\u001b[0;32m   1958\u001b[0m             \u001b[1;32mif\u001b[0m \u001b[0mself\u001b[0m\u001b[1;33m.\u001b[0m\u001b[0mprogs\u001b[0m \u001b[1;32mis\u001b[0m \u001b[0mNone\u001b[0m\u001b[1;33m:\u001b[0m\u001b[1;33m\u001b[0m\u001b[0m\n\u001b[0;32m   1959\u001b[0m                 raise InvocationException(\n\u001b[1;32m-> 1960\u001b[1;33m                     'GraphViz\\'s executables not found')\n\u001b[0m\u001b[0;32m   1961\u001b[0m \u001b[1;33m\u001b[0m\u001b[0m\n\u001b[0;32m   1962\u001b[0m         \u001b[1;32mif\u001b[0m \u001b[0mprog\u001b[0m \u001b[1;32mnot\u001b[0m \u001b[1;32min\u001b[0m \u001b[0mself\u001b[0m\u001b[1;33m.\u001b[0m\u001b[0mprogs\u001b[0m\u001b[1;33m:\u001b[0m\u001b[1;33m\u001b[0m\u001b[0m\n",
      "\u001b[1;31mInvocationException\u001b[0m: GraphViz's executables not found"
     ]
    }
   ],
   "source": [
    "features = ['Buy/Sell']\n",
    "\n",
    "# import pydotplus\n",
    "# from sklearn.externals.six import StringIO  \n",
    "# from IPython.display import Image\n",
    "dot_data = StringIO()  \n",
    "tree.export_graphviz(dtc, out_file=dot_data,  \n",
    "                         feature_names=features)  \n",
    "graph = pydotplus.graph_from_dot_data(dot_data.getvalue())  \n",
    "Image(graph.create_png()) \n"
   ]
  },
  {
   "cell_type": "markdown",
   "metadata": {},
   "source": [
    "#### Accuracy after cross validation"
   ]
  },
  {
   "cell_type": "code",
   "execution_count": 52,
   "metadata": {},
   "outputs": [
    {
     "name": "stdout",
     "output_type": "stream",
     "text": [
      "0.7095238095238094\n",
      "0.48999999999999994\n"
     ]
    }
   ],
   "source": [
    "dtc_cv = cross_val_score(dtc, x_train, y_train, cv=10) \n",
    "print(dtc_cv.mean())\n",
    "\n",
    "dtc_cv_multiple_input = cross_val_score(dtc_multiple_input, x_train_multiple_input, y_train, cv=10) \n",
    "print(dtc_cv_multiple_input.mean())"
   ]
  },
  {
   "cell_type": "markdown",
   "metadata": {},
   "source": [
    "### Random Forest\n",
    "Accuracy from running only 20% Testing data against 80% Training data. Apparenlty same overfitting problem as with the Decision Tree above. Probably due to the limited amount of data!"
   ]
  },
  {
   "cell_type": "code",
   "execution_count": 53,
   "metadata": {},
   "outputs": [
    {
     "name": "stdout",
     "output_type": "stream",
     "text": [
      "0.7333333333333333\n",
      "0.6666666666666666\n"
     ]
    }
   ],
   "source": [
    "# from sklearn.ensemble import RandomForestClassifier \n",
    "\n",
    "forest_reg = RandomForestClassifier(random_state=42)\n",
    "forest_reg.fit(x_train, y_train)\n",
    "print forest_reg.score(x_test, y_test)\n",
    "\n",
    "forest_reg_multiple_input = RandomForestClassifier(random_state=42)\n",
    "forest_reg_multiple_input.fit(x_train_multiple_input, y_train)\n",
    "print forest_reg_multiple_input.score(x_test_multiple_input, y_test)"
   ]
  },
  {
   "cell_type": "markdown",
   "metadata": {},
   "source": [
    "#### Accuracy after cross validation"
   ]
  },
  {
   "cell_type": "code",
   "execution_count": 54,
   "metadata": {},
   "outputs": [
    {
     "name": "stdout",
     "output_type": "stream",
     "text": [
      "0.7128571428571429\n",
      "0.6595238095238095\n"
     ]
    }
   ],
   "source": [
    "forest_reg_cv = cross_val_score(forest_reg, x_train, y_train, cv=10) \n",
    "print(forest_reg_cv.mean()) \n",
    "\n",
    "forest_reg_cv_multiple_input = cross_val_score(forest_reg_multiple_input, x_train_multiple_input, y_train, cv=10) \n",
    "print(forest_reg_cv_multiple_input.mean())  "
   ]
  },
  {
   "cell_type": "markdown",
   "metadata": {
    "collapsed": true
   },
   "source": [
    "## Results Summary"
   ]
  },
  {
   "cell_type": "code",
   "execution_count": 56,
   "metadata": {},
   "outputs": [
    {
     "name": "stdout",
     "output_type": "stream",
     "text": [
      "('KNN: \\t\\t\\t', 0.5752380952380952)\n",
      "('Logistic Regression: \\t', 0.6276190476190475)\n",
      "('SVM linear: \\t\\t', 0.6276190476190475)\n",
      "('Naive Bayes: \\t\\t', 0.6276190476190475)\n",
      "('Decision Tree: \\t\\t', 0.7095238095238094)\n",
      "('Random Forest: \\t\\t', 0.7128571428571429)\n",
      "\n",
      "\n",
      "('KNN(Multiple Input): \\t\\t\\t', 0.43380952380952376)\n",
      "('Logistic Regression(Multiple Input): \\t', 0.6276190476190475)\n",
      "('SVM linear(Multiple Input): \\t\\t', 0.6276190476190475)\n",
      "('Decision Tree(Multiple Input): \\t\\t', 0.48999999999999994)\n",
      "('Random Forest(Multiple Input): \\t\\t', 0.6595238095238095)\n"
     ]
    }
   ],
   "source": [
    "print(\"KNN: \\t\\t\\t\", neigh_cv.mean())\n",
    "print(\"Logistic Regression: \\t\", logreg_cv.mean())\n",
    "print(\"SVM linear: \\t\\t\", svm_linear_cv.mean())\n",
    "print(\"Naive Bayes: \\t\\t\", mnb_cv.mean())\n",
    "print(\"Decision Tree: \\t\\t\", dtc_cv.mean())\n",
    "print(\"Random Forest: \\t\\t\", forest_reg_cv.mean())\n",
    "print(\"\\n\")\n",
    "print(\"KNN(Multiple Input): \\t\\t\\t\", neigh_cv_multiple_input.mean())\n",
    "print(\"Logistic Regression(Multiple Input): \\t\", logreg_cv_multiple_input.mean())\n",
    "print(\"SVM linear(Multiple Input): \\t\\t\", svm_linear_cv_multiple_input.mean())\n",
    "print(\"Decision Tree(Multiple Input): \\t\\t\", dtc_cv_multiple_input.mean())\n",
    "print(\"Random Forest(Multiple Input): \\t\\t\", forest_reg_cv_multiple_input.mean())"
   ]
  },
  {
   "cell_type": "code",
   "execution_count": 71,
   "metadata": {},
   "outputs": [
    {
     "name": "stdout",
     "output_type": "stream",
     "text": [
      "[0.5752380952380952, 0.6276190476190475, 0.6276190476190475, 0.6276190476190475, 0.7095238095238094, 0.7128571428571429, 0.43380952380952376, 0.6276190476190475, 0.6276190476190475, 0.48999999999999994, 0.6595238095238095]\n"
     ]
    }
   ],
   "source": [
    "mean_result = [neigh_cv.mean(), logreg_cv.mean(), svm_linear_cv.mean(),mnb_cv.mean(),dtc_cv.mean(), forest_reg_cv.mean(),neigh_cv_multiple_input.mean(), logreg_cv_multiple_input.mean(), svm_linear_cv_multiple_input.mean(),dtc_cv_multiple_input.mean(), forest_reg_cv_multiple_input.mean()]\n",
    "print mean_result"
   ]
  },
  {
   "cell_type": "code",
   "execution_count": 72,
   "metadata": {},
   "outputs": [
    {
     "name": "stdout",
     "output_type": "stream",
     "text": [
      "11\n",
      "11\n"
     ]
    }
   ],
   "source": [
    "results = {'0': ['KNN', 'LogReg', 'SVM linear', 'Naive Bayes', 'Decision Tree', 'Random Forest','KNN(Multiple Input)', 'LogReg(Multiple Input)', 'SVM linear(Multiple Input)','Decision Tree(Multiple Input)', 'Random Forest(Multiple Input)'],\n",
    "          '1':mean_result}\n",
    "print len(results['0'])\n",
    "print len(results['1'])\n"
   ]
  },
  {
   "cell_type": "code",
   "execution_count": 75,
   "metadata": {
    "scrolled": true
   },
   "outputs": [],
   "source": [
    "summary = pd.DataFrame.from_dict(results)\n",
    "summary = summary.transpose()\n",
    "summary = summary.rename(index = {'0':'Model', '1':'AAL'}) # Update cashtag!"
   ]
  },
  {
   "cell_type": "code",
   "execution_count": 76,
   "metadata": {},
   "outputs": [
    {
     "data": {
      "text/html": [
       "<div>\n",
       "<style scoped>\n",
       "    .dataframe tbody tr th:only-of-type {\n",
       "        vertical-align: middle;\n",
       "    }\n",
       "\n",
       "    .dataframe tbody tr th {\n",
       "        vertical-align: top;\n",
       "    }\n",
       "\n",
       "    .dataframe thead th {\n",
       "        text-align: right;\n",
       "    }\n",
       "</style>\n",
       "<table border=\"1\" class=\"dataframe\">\n",
       "  <thead>\n",
       "    <tr style=\"text-align: right;\">\n",
       "      <th></th>\n",
       "      <th>0</th>\n",
       "      <th>1</th>\n",
       "      <th>2</th>\n",
       "      <th>3</th>\n",
       "      <th>4</th>\n",
       "      <th>5</th>\n",
       "      <th>6</th>\n",
       "      <th>7</th>\n",
       "      <th>8</th>\n",
       "      <th>9</th>\n",
       "      <th>10</th>\n",
       "    </tr>\n",
       "  </thead>\n",
       "  <tbody>\n",
       "    <tr>\n",
       "      <th>Model</th>\n",
       "      <td>KNN</td>\n",
       "      <td>LogReg</td>\n",
       "      <td>SVM linear</td>\n",
       "      <td>Naive Bayes</td>\n",
       "      <td>Decision Tree</td>\n",
       "      <td>Random Forest</td>\n",
       "      <td>KNN(Multiple Input)</td>\n",
       "      <td>LogReg(Multiple Input)</td>\n",
       "      <td>SVM linear(Multiple Input)</td>\n",
       "      <td>Decision Tree(Multiple Input)</td>\n",
       "      <td>Random Forest(Multiple Input)</td>\n",
       "    </tr>\n",
       "    <tr>\n",
       "      <th>AAL</th>\n",
       "      <td>0.575238</td>\n",
       "      <td>0.627619</td>\n",
       "      <td>0.627619</td>\n",
       "      <td>0.627619</td>\n",
       "      <td>0.709524</td>\n",
       "      <td>0.712857</td>\n",
       "      <td>0.43381</td>\n",
       "      <td>0.627619</td>\n",
       "      <td>0.627619</td>\n",
       "      <td>0.49</td>\n",
       "      <td>0.659524</td>\n",
       "    </tr>\n",
       "  </tbody>\n",
       "</table>\n",
       "</div>"
      ],
      "text/plain": [
       "             0         1           2            3              4   \\\n",
       "Model       KNN    LogReg  SVM linear  Naive Bayes  Decision Tree   \n",
       "AAL    0.575238  0.627619    0.627619     0.627619       0.709524   \n",
       "\n",
       "                  5                    6                       7   \\\n",
       "Model  Random Forest  KNN(Multiple Input)  LogReg(Multiple Input)   \n",
       "AAL         0.712857              0.43381                0.627619   \n",
       "\n",
       "                               8                              9   \\\n",
       "Model  SVM linear(Multiple Input)  Decision Tree(Multiple Input)   \n",
       "AAL                      0.627619                           0.49   \n",
       "\n",
       "                                  10  \n",
       "Model  Random Forest(Multiple Input)  \n",
       "AAL                         0.659524  "
      ]
     },
     "execution_count": 76,
     "metadata": {},
     "output_type": "execute_result"
    }
   ],
   "source": [
    "summary"
   ]
  },
  {
   "cell_type": "markdown",
   "metadata": {},
   "source": [
    "### Save the result from each classifier for this cashtag  in an excel\n",
    "The results are used for creating an overall summary for each cashtag and classifier."
   ]
  },
  {
   "cell_type": "code",
   "execution_count": 77,
   "metadata": {},
   "outputs": [],
   "source": [
    "# import xlsxwriter\n",
    "# import os\n",
    "\n",
    "writer_df = pd.ExcelWriter('summary.xlsx', engine='xlsxwriter')\n",
    "summary.to_excel(writer_df)\n",
    "writer_df.save()\n",
    "\n",
    "os.rename('summary.xlsx', 'AAL_summary.xlsx') # Update cashtag!"
   ]
  },
  {
   "cell_type": "markdown",
   "metadata": {},
   "source": [
    "### Add Prediction"
   ]
  },
  {
   "cell_type": "code",
   "execution_count": 106,
   "metadata": {},
   "outputs": [
    {
     "data": {
      "text/html": [
       "<div>\n",
       "<style scoped>\n",
       "    .dataframe tbody tr th:only-of-type {\n",
       "        vertical-align: middle;\n",
       "    }\n",
       "\n",
       "    .dataframe tbody tr th {\n",
       "        vertical-align: top;\n",
       "    }\n",
       "\n",
       "    .dataframe thead th {\n",
       "        text-align: right;\n",
       "    }\n",
       "</style>\n",
       "<table border=\"1\" class=\"dataframe\">\n",
       "  <thead>\n",
       "    <tr style=\"text-align: right;\">\n",
       "      <th></th>\n",
       "      <th>Compound_multiplied_scaled</th>\n",
       "      <th>Buy/Sell</th>\n",
       "      <th>KNN</th>\n",
       "      <th>LogReg</th>\n",
       "      <th>SVM linear</th>\n",
       "      <th>Decision Tree</th>\n",
       "      <th>Random Forest</th>\n",
       "      <th>KNN(Multiple Input)</th>\n",
       "      <th>LogReg(Multiple Input)</th>\n",
       "      <th>SVM linear(Multiple Input)</th>\n",
       "      <th>Decision Tree(Multiple Input)</th>\n",
       "      <th>Random Forest(Multiple Input)</th>\n",
       "    </tr>\n",
       "  </thead>\n",
       "  <tbody>\n",
       "    <tr>\n",
       "      <th>2016-04-01</th>\n",
       "      <td>0.032614</td>\n",
       "      <td>-1.0</td>\n",
       "      <td>-1.0</td>\n",
       "      <td>-1.0</td>\n",
       "      <td>-1.0</td>\n",
       "      <td>-1.0</td>\n",
       "      <td>-1.0</td>\n",
       "      <td>-1.0</td>\n",
       "      <td>-1.0</td>\n",
       "      <td>-1.0</td>\n",
       "      <td>-1.0</td>\n",
       "      <td>-1.0</td>\n",
       "    </tr>\n",
       "    <tr>\n",
       "      <th>2016-04-02</th>\n",
       "      <td>0.072977</td>\n",
       "      <td>-1.0</td>\n",
       "      <td>-1.0</td>\n",
       "      <td>-1.0</td>\n",
       "      <td>-1.0</td>\n",
       "      <td>-1.0</td>\n",
       "      <td>-1.0</td>\n",
       "      <td>-1.0</td>\n",
       "      <td>-1.0</td>\n",
       "      <td>-1.0</td>\n",
       "      <td>-1.0</td>\n",
       "      <td>-1.0</td>\n",
       "    </tr>\n",
       "    <tr>\n",
       "      <th>2016-04-03</th>\n",
       "      <td>0.210830</td>\n",
       "      <td>-1.0</td>\n",
       "      <td>-1.0</td>\n",
       "      <td>-1.0</td>\n",
       "      <td>-1.0</td>\n",
       "      <td>-1.0</td>\n",
       "      <td>-1.0</td>\n",
       "      <td>-1.0</td>\n",
       "      <td>-1.0</td>\n",
       "      <td>-1.0</td>\n",
       "      <td>1.0</td>\n",
       "      <td>-1.0</td>\n",
       "    </tr>\n",
       "    <tr>\n",
       "      <th>2016-04-04</th>\n",
       "      <td>-0.009864</td>\n",
       "      <td>-1.0</td>\n",
       "      <td>-1.0</td>\n",
       "      <td>-1.0</td>\n",
       "      <td>-1.0</td>\n",
       "      <td>-1.0</td>\n",
       "      <td>-1.0</td>\n",
       "      <td>-1.0</td>\n",
       "      <td>-1.0</td>\n",
       "      <td>-1.0</td>\n",
       "      <td>-1.0</td>\n",
       "      <td>-1.0</td>\n",
       "    </tr>\n",
       "    <tr>\n",
       "      <th>2016-04-05</th>\n",
       "      <td>0.013709</td>\n",
       "      <td>-1.0</td>\n",
       "      <td>-1.0</td>\n",
       "      <td>-1.0</td>\n",
       "      <td>-1.0</td>\n",
       "      <td>-1.0</td>\n",
       "      <td>-1.0</td>\n",
       "      <td>1.0</td>\n",
       "      <td>-1.0</td>\n",
       "      <td>-1.0</td>\n",
       "      <td>-1.0</td>\n",
       "      <td>1.0</td>\n",
       "    </tr>\n",
       "    <tr>\n",
       "      <th>2016-04-06</th>\n",
       "      <td>0.012582</td>\n",
       "      <td>-1.0</td>\n",
       "      <td>-1.0</td>\n",
       "      <td>-1.0</td>\n",
       "      <td>-1.0</td>\n",
       "      <td>-1.0</td>\n",
       "      <td>-1.0</td>\n",
       "      <td>1.0</td>\n",
       "      <td>-1.0</td>\n",
       "      <td>-1.0</td>\n",
       "      <td>1.0</td>\n",
       "      <td>1.0</td>\n",
       "    </tr>\n",
       "    <tr>\n",
       "      <th>2016-04-07</th>\n",
       "      <td>0.024883</td>\n",
       "      <td>-1.0</td>\n",
       "      <td>1.0</td>\n",
       "      <td>-1.0</td>\n",
       "      <td>-1.0</td>\n",
       "      <td>-1.0</td>\n",
       "      <td>-1.0</td>\n",
       "      <td>-1.0</td>\n",
       "      <td>-1.0</td>\n",
       "      <td>-1.0</td>\n",
       "      <td>1.0</td>\n",
       "      <td>1.0</td>\n",
       "    </tr>\n",
       "    <tr>\n",
       "      <th>2016-04-08</th>\n",
       "      <td>0.013301</td>\n",
       "      <td>-1.0</td>\n",
       "      <td>-1.0</td>\n",
       "      <td>-1.0</td>\n",
       "      <td>-1.0</td>\n",
       "      <td>-1.0</td>\n",
       "      <td>-1.0</td>\n",
       "      <td>-1.0</td>\n",
       "      <td>-1.0</td>\n",
       "      <td>-1.0</td>\n",
       "      <td>1.0</td>\n",
       "      <td>-1.0</td>\n",
       "    </tr>\n",
       "    <tr>\n",
       "      <th>2016-04-09</th>\n",
       "      <td>0.033311</td>\n",
       "      <td>-1.0</td>\n",
       "      <td>-1.0</td>\n",
       "      <td>-1.0</td>\n",
       "      <td>-1.0</td>\n",
       "      <td>-1.0</td>\n",
       "      <td>-1.0</td>\n",
       "      <td>-1.0</td>\n",
       "      <td>-1.0</td>\n",
       "      <td>-1.0</td>\n",
       "      <td>1.0</td>\n",
       "      <td>-1.0</td>\n",
       "    </tr>\n",
       "    <tr>\n",
       "      <th>2016-04-10</th>\n",
       "      <td>0.039174</td>\n",
       "      <td>-1.0</td>\n",
       "      <td>-1.0</td>\n",
       "      <td>-1.0</td>\n",
       "      <td>-1.0</td>\n",
       "      <td>-1.0</td>\n",
       "      <td>-1.0</td>\n",
       "      <td>-1.0</td>\n",
       "      <td>-1.0</td>\n",
       "      <td>-1.0</td>\n",
       "      <td>1.0</td>\n",
       "      <td>-1.0</td>\n",
       "    </tr>\n",
       "    <tr>\n",
       "      <th>2016-04-11</th>\n",
       "      <td>0.015090</td>\n",
       "      <td>1.0</td>\n",
       "      <td>-1.0</td>\n",
       "      <td>-1.0</td>\n",
       "      <td>-1.0</td>\n",
       "      <td>-1.0</td>\n",
       "      <td>-1.0</td>\n",
       "      <td>-1.0</td>\n",
       "      <td>-1.0</td>\n",
       "      <td>-1.0</td>\n",
       "      <td>-1.0</td>\n",
       "      <td>-1.0</td>\n",
       "    </tr>\n",
       "    <tr>\n",
       "      <th>2016-04-12</th>\n",
       "      <td>0.017439</td>\n",
       "      <td>1.0</td>\n",
       "      <td>-1.0</td>\n",
       "      <td>-1.0</td>\n",
       "      <td>-1.0</td>\n",
       "      <td>1.0</td>\n",
       "      <td>1.0</td>\n",
       "      <td>1.0</td>\n",
       "      <td>-1.0</td>\n",
       "      <td>-1.0</td>\n",
       "      <td>1.0</td>\n",
       "      <td>1.0</td>\n",
       "    </tr>\n",
       "    <tr>\n",
       "      <th>2016-04-13</th>\n",
       "      <td>0.017247</td>\n",
       "      <td>1.0</td>\n",
       "      <td>-1.0</td>\n",
       "      <td>-1.0</td>\n",
       "      <td>-1.0</td>\n",
       "      <td>1.0</td>\n",
       "      <td>1.0</td>\n",
       "      <td>-1.0</td>\n",
       "      <td>-1.0</td>\n",
       "      <td>-1.0</td>\n",
       "      <td>1.0</td>\n",
       "      <td>1.0</td>\n",
       "    </tr>\n",
       "    <tr>\n",
       "      <th>2016-04-14</th>\n",
       "      <td>0.054940</td>\n",
       "      <td>-1.0</td>\n",
       "      <td>-1.0</td>\n",
       "      <td>-1.0</td>\n",
       "      <td>-1.0</td>\n",
       "      <td>-1.0</td>\n",
       "      <td>-1.0</td>\n",
       "      <td>-1.0</td>\n",
       "      <td>-1.0</td>\n",
       "      <td>-1.0</td>\n",
       "      <td>1.0</td>\n",
       "      <td>-1.0</td>\n",
       "    </tr>\n",
       "    <tr>\n",
       "      <th>2016-04-15</th>\n",
       "      <td>0.048806</td>\n",
       "      <td>-1.0</td>\n",
       "      <td>-1.0</td>\n",
       "      <td>-1.0</td>\n",
       "      <td>-1.0</td>\n",
       "      <td>-1.0</td>\n",
       "      <td>-1.0</td>\n",
       "      <td>-1.0</td>\n",
       "      <td>-1.0</td>\n",
       "      <td>-1.0</td>\n",
       "      <td>-1.0</td>\n",
       "      <td>-1.0</td>\n",
       "    </tr>\n",
       "    <tr>\n",
       "      <th>2016-04-16</th>\n",
       "      <td>0.015184</td>\n",
       "      <td>-1.0</td>\n",
       "      <td>-1.0</td>\n",
       "      <td>-1.0</td>\n",
       "      <td>-1.0</td>\n",
       "      <td>-1.0</td>\n",
       "      <td>-1.0</td>\n",
       "      <td>-1.0</td>\n",
       "      <td>-1.0</td>\n",
       "      <td>-1.0</td>\n",
       "      <td>-1.0</td>\n",
       "      <td>-1.0</td>\n",
       "    </tr>\n",
       "    <tr>\n",
       "      <th>2016-04-17</th>\n",
       "      <td>0.015520</td>\n",
       "      <td>-1.0</td>\n",
       "      <td>-1.0</td>\n",
       "      <td>-1.0</td>\n",
       "      <td>-1.0</td>\n",
       "      <td>-1.0</td>\n",
       "      <td>-1.0</td>\n",
       "      <td>-1.0</td>\n",
       "      <td>-1.0</td>\n",
       "      <td>-1.0</td>\n",
       "      <td>1.0</td>\n",
       "      <td>1.0</td>\n",
       "    </tr>\n",
       "    <tr>\n",
       "      <th>2016-04-18</th>\n",
       "      <td>0.021149</td>\n",
       "      <td>1.0</td>\n",
       "      <td>1.0</td>\n",
       "      <td>-1.0</td>\n",
       "      <td>-1.0</td>\n",
       "      <td>1.0</td>\n",
       "      <td>1.0</td>\n",
       "      <td>1.0</td>\n",
       "      <td>-1.0</td>\n",
       "      <td>-1.0</td>\n",
       "      <td>1.0</td>\n",
       "      <td>1.0</td>\n",
       "    </tr>\n",
       "    <tr>\n",
       "      <th>2016-04-19</th>\n",
       "      <td>0.023969</td>\n",
       "      <td>-1.0</td>\n",
       "      <td>1.0</td>\n",
       "      <td>-1.0</td>\n",
       "      <td>-1.0</td>\n",
       "      <td>1.0</td>\n",
       "      <td>1.0</td>\n",
       "      <td>-1.0</td>\n",
       "      <td>-1.0</td>\n",
       "      <td>-1.0</td>\n",
       "      <td>1.0</td>\n",
       "      <td>1.0</td>\n",
       "    </tr>\n",
       "    <tr>\n",
       "      <th>2016-04-20</th>\n",
       "      <td>0.017825</td>\n",
       "      <td>-1.0</td>\n",
       "      <td>-1.0</td>\n",
       "      <td>-1.0</td>\n",
       "      <td>-1.0</td>\n",
       "      <td>-1.0</td>\n",
       "      <td>-1.0</td>\n",
       "      <td>-1.0</td>\n",
       "      <td>-1.0</td>\n",
       "      <td>-1.0</td>\n",
       "      <td>-1.0</td>\n",
       "      <td>-1.0</td>\n",
       "    </tr>\n",
       "  </tbody>\n",
       "</table>\n",
       "</div>"
      ],
      "text/plain": [
       "            Compound_multiplied_scaled  Buy/Sell  KNN  LogReg  SVM linear  \\\n",
       "2016-04-01                    0.032614      -1.0 -1.0    -1.0        -1.0   \n",
       "2016-04-02                    0.072977      -1.0 -1.0    -1.0        -1.0   \n",
       "2016-04-03                    0.210830      -1.0 -1.0    -1.0        -1.0   \n",
       "2016-04-04                   -0.009864      -1.0 -1.0    -1.0        -1.0   \n",
       "2016-04-05                    0.013709      -1.0 -1.0    -1.0        -1.0   \n",
       "2016-04-06                    0.012582      -1.0 -1.0    -1.0        -1.0   \n",
       "2016-04-07                    0.024883      -1.0  1.0    -1.0        -1.0   \n",
       "2016-04-08                    0.013301      -1.0 -1.0    -1.0        -1.0   \n",
       "2016-04-09                    0.033311      -1.0 -1.0    -1.0        -1.0   \n",
       "2016-04-10                    0.039174      -1.0 -1.0    -1.0        -1.0   \n",
       "2016-04-11                    0.015090       1.0 -1.0    -1.0        -1.0   \n",
       "2016-04-12                    0.017439       1.0 -1.0    -1.0        -1.0   \n",
       "2016-04-13                    0.017247       1.0 -1.0    -1.0        -1.0   \n",
       "2016-04-14                    0.054940      -1.0 -1.0    -1.0        -1.0   \n",
       "2016-04-15                    0.048806      -1.0 -1.0    -1.0        -1.0   \n",
       "2016-04-16                    0.015184      -1.0 -1.0    -1.0        -1.0   \n",
       "2016-04-17                    0.015520      -1.0 -1.0    -1.0        -1.0   \n",
       "2016-04-18                    0.021149       1.0  1.0    -1.0        -1.0   \n",
       "2016-04-19                    0.023969      -1.0  1.0    -1.0        -1.0   \n",
       "2016-04-20                    0.017825      -1.0 -1.0    -1.0        -1.0   \n",
       "\n",
       "            Decision Tree  Random Forest  KNN(Multiple Input)  \\\n",
       "2016-04-01           -1.0           -1.0                 -1.0   \n",
       "2016-04-02           -1.0           -1.0                 -1.0   \n",
       "2016-04-03           -1.0           -1.0                 -1.0   \n",
       "2016-04-04           -1.0           -1.0                 -1.0   \n",
       "2016-04-05           -1.0           -1.0                  1.0   \n",
       "2016-04-06           -1.0           -1.0                  1.0   \n",
       "2016-04-07           -1.0           -1.0                 -1.0   \n",
       "2016-04-08           -1.0           -1.0                 -1.0   \n",
       "2016-04-09           -1.0           -1.0                 -1.0   \n",
       "2016-04-10           -1.0           -1.0                 -1.0   \n",
       "2016-04-11           -1.0           -1.0                 -1.0   \n",
       "2016-04-12            1.0            1.0                  1.0   \n",
       "2016-04-13            1.0            1.0                 -1.0   \n",
       "2016-04-14           -1.0           -1.0                 -1.0   \n",
       "2016-04-15           -1.0           -1.0                 -1.0   \n",
       "2016-04-16           -1.0           -1.0                 -1.0   \n",
       "2016-04-17           -1.0           -1.0                 -1.0   \n",
       "2016-04-18            1.0            1.0                  1.0   \n",
       "2016-04-19            1.0            1.0                 -1.0   \n",
       "2016-04-20           -1.0           -1.0                 -1.0   \n",
       "\n",
       "            LogReg(Multiple Input)  SVM linear(Multiple Input)  \\\n",
       "2016-04-01                    -1.0                        -1.0   \n",
       "2016-04-02                    -1.0                        -1.0   \n",
       "2016-04-03                    -1.0                        -1.0   \n",
       "2016-04-04                    -1.0                        -1.0   \n",
       "2016-04-05                    -1.0                        -1.0   \n",
       "2016-04-06                    -1.0                        -1.0   \n",
       "2016-04-07                    -1.0                        -1.0   \n",
       "2016-04-08                    -1.0                        -1.0   \n",
       "2016-04-09                    -1.0                        -1.0   \n",
       "2016-04-10                    -1.0                        -1.0   \n",
       "2016-04-11                    -1.0                        -1.0   \n",
       "2016-04-12                    -1.0                        -1.0   \n",
       "2016-04-13                    -1.0                        -1.0   \n",
       "2016-04-14                    -1.0                        -1.0   \n",
       "2016-04-15                    -1.0                        -1.0   \n",
       "2016-04-16                    -1.0                        -1.0   \n",
       "2016-04-17                    -1.0                        -1.0   \n",
       "2016-04-18                    -1.0                        -1.0   \n",
       "2016-04-19                    -1.0                        -1.0   \n",
       "2016-04-20                    -1.0                        -1.0   \n",
       "\n",
       "            Decision Tree(Multiple Input)  Random Forest(Multiple Input)  \n",
       "2016-04-01                           -1.0                           -1.0  \n",
       "2016-04-02                           -1.0                           -1.0  \n",
       "2016-04-03                            1.0                           -1.0  \n",
       "2016-04-04                           -1.0                           -1.0  \n",
       "2016-04-05                           -1.0                            1.0  \n",
       "2016-04-06                            1.0                            1.0  \n",
       "2016-04-07                            1.0                            1.0  \n",
       "2016-04-08                            1.0                           -1.0  \n",
       "2016-04-09                            1.0                           -1.0  \n",
       "2016-04-10                            1.0                           -1.0  \n",
       "2016-04-11                           -1.0                           -1.0  \n",
       "2016-04-12                            1.0                            1.0  \n",
       "2016-04-13                            1.0                            1.0  \n",
       "2016-04-14                            1.0                           -1.0  \n",
       "2016-04-15                           -1.0                           -1.0  \n",
       "2016-04-16                           -1.0                           -1.0  \n",
       "2016-04-17                            1.0                            1.0  \n",
       "2016-04-18                            1.0                            1.0  \n",
       "2016-04-19                            1.0                            1.0  \n",
       "2016-04-20                           -1.0                           -1.0  "
      ]
     },
     "execution_count": 106,
     "metadata": {},
     "output_type": "execute_result"
    }
   ],
   "source": [
    "all_data = pd.read_excel(xls, header = 0,encoding='latin-1')\n",
    "x1 = np.array(all_data['Compound_multiplied_scaled'])\n",
    "x = x1.reshape((len(x), 1))\n",
    "x_multiple_input = to_multiple_input_data_set(x1, 3)\n",
    "all_data['KNN'] = neigh.predict(x)\n",
    "all_data['LogReg'] = logreg.predict(x)\n",
    "all_data['SVM linear'] = svm_linear.predict(x)\n",
    "all_data['Decision Tree'] = dtc.predict(x)\n",
    "all_data['Random Forest'] = forest_reg.predict(x)\n",
    "all_data['KNN(Multiple Input)'] = neigh_multiple_input.predict(x_multiple_input)\n",
    "all_data['LogReg(Multiple Input)'] = logreg_multiple_input.predict(x_multiple_input)\n",
    "all_data['SVM linear(Multiple Input)'] = svm_linear_multiple_input.predict(x_multiple_input)\n",
    "all_data['Decision Tree(Multiple Input)'] = dtc_multiple_input.predict(x_multiple_input)\n",
    "all_data['Random Forest(Multiple Input)'] = forest_reg_multiple_input.predict(x_multiple_input)\n",
    "all_data = all_data[['Compound_multiplied_scaled', 'Buy/Sell', 'KNN', 'LogReg', 'SVM linear', 'Decision Tree','Random Forest', 'KNN(Multiple Input)', 'LogReg(Multiple Input)', 'SVM linear(Multiple Input)', 'Decision Tree(Multiple Input)','Random Forest(Multiple Input)' ]]\n",
    "all_data.head(20)"
   ]
  }
 ],
 "metadata": {
  "kernelspec": {
   "display_name": "Python 2",
   "language": "python",
   "name": "python2"
  },
  "language_info": {
   "codemirror_mode": {
    "name": "ipython",
    "version": 2
   },
   "file_extension": ".py",
   "mimetype": "text/x-python",
   "name": "python",
   "nbconvert_exporter": "python",
   "pygments_lexer": "ipython2",
   "version": "2.7.15"
  }
 },
 "nbformat": 4,
 "nbformat_minor": 2
}
