{
 "cells": [
  {
   "cell_type": "markdown",
   "metadata": {},
   "source": [
    "## Downloading and combining all data, applying various algorithms for predictions\n",
    "This notebook is used per cashtag to dowload its combined data of tweets and stock data, then applying each of the six binary classifiers to it. The result is an overview of the accuracy of the classifiers on each cashtag, using an 80/20 Train/Test split and 10-fold cross validation."
   ]
  },
  {
   "cell_type": "code",
   "execution_count": 1,
   "metadata": {
    "collapsed": true
   },
   "outputs": [],
   "source": [
    "%matplotlib inline\n",
    "import matplotlib as mpl\n",
    "import matplotlib.pyplot as plt\n",
    "import numpy as np\n",
    "import pandas as pd\n",
    "import seaborn as sns\n",
    "import os\n",
    "from sklearn.model_selection import train_test_split\n",
    "from sklearn.neighbors import KNeighborsClassifier\n",
    "from sklearn.linear_model import LogisticRegression\n",
    "from sklearn.svm import SVC\n",
    "from sklearn.naive_bayes import MultinomialNB\n",
    "from sklearn.preprocessing import MinMaxScaler\n",
    "from sklearn import tree\n",
    "import pydotplus\n",
    "from sklearn.externals.six import StringIO  \n",
    "from IPython.display import Image\n",
    "from sklearn.ensemble import RandomForestClassifier \n",
    "from sklearn.model_selection import cross_val_score\n",
    "import xlsxwriter\n",
    "import os"
   ]
  },
  {
   "cell_type": "markdown",
   "metadata": {},
   "source": [
    "### List all files in the folder"
   ]
  },
  {
   "cell_type": "code",
   "execution_count": 2,
   "metadata": {},
   "outputs": [],
   "source": [
    "# import glob\n",
    "\n",
    "# glob.glob(\"C:/Users/jangn/OneDrive/CODE/Stock_markets/Cashtags/*.xlsx\")"
   ]
  },
  {
   "cell_type": "markdown",
   "metadata": {
    "collapsed": true
   },
   "source": [
    "#### The code snippet below will initialize a blank DataFrame then append all of the individual files into the all_data DataFrame. The resulting dataframe contains all the combined data created with the first notebook (Part 1) for each cashtag;  c. 6800 rows = 74 days * 92 companies. \n",
    "https://pbpython.com/excel-file-combine.html"
   ]
  },
  {
   "cell_type": "code",
   "execution_count": 3,
   "metadata": {},
   "outputs": [],
   "source": [
    "# all_data = pd.DataFrame()\n",
    "# for f in glob.glob(\"C:/Users/jangn/OneDrive/CODE/Stock_markets/Cashtags/*.xlsx\"):\n",
    "#     df = pd.read_excel(f)\n",
    "#     all_data = all_data.append(df,ignore_index=True)"
   ]
  },
  {
   "cell_type": "markdown",
   "metadata": {},
   "source": [
    "### Reading only one excel at a time\n",
    "The binary classifiers are trained on each cashtag's twitter and stock data individually."
   ]
  },
  {
   "cell_type": "code",
   "execution_count": 4,
   "metadata": {},
   "outputs": [],
   "source": [
    "xls = pd.ExcelFile('C:/Users/jangn/OneDrive/CODE/Stock_markets/Cashtags/$AAL_minusones.xlsx') # Update cashtag; separate for each run.\n",
    "all_data = pd.read_excel(xls, header = 0,encoding='latin-1')"
   ]
  },
  {
   "cell_type": "markdown",
   "metadata": {},
   "source": [
    "### Remove the last row for each cashtag, since its 'Predicted_change' is  NaN"
   ]
  },
  {
   "cell_type": "code",
   "execution_count": 5,
   "metadata": {},
   "outputs": [],
   "source": [
    "all_data = all_data[np.isfinite(all_data['Predicted_change_stock'])]\n",
    "all_data = all_data[np.isfinite(all_data['Buy/Sell'])]"
   ]
  },
  {
   "cell_type": "code",
   "execution_count": 6,
   "metadata": {
    "scrolled": true
   },
   "outputs": [
    {
     "data": {
      "text/html": [
       "<div>\n",
       "<style scoped>\n",
       "    .dataframe tbody tr th:only-of-type {\n",
       "        vertical-align: middle;\n",
       "    }\n",
       "\n",
       "    .dataframe tbody tr th {\n",
       "        vertical-align: top;\n",
       "    }\n",
       "\n",
       "    .dataframe thead th {\n",
       "        text-align: right;\n",
       "    }\n",
       "</style>\n",
       "<table border=\"1\" class=\"dataframe\">\n",
       "  <thead>\n",
       "    <tr style=\"text-align: right;\">\n",
       "      <th></th>\n",
       "      <th>Volume_stock</th>\n",
       "      <th>Adj_Close_stock</th>\n",
       "      <th>HiLo_vola_stock</th>\n",
       "      <th>Pct_change_stock</th>\n",
       "      <th>Pct_change_stock_scaled</th>\n",
       "      <th>Favs</th>\n",
       "      <th>RTs</th>\n",
       "      <th>Followers</th>\n",
       "      <th>Following</th>\n",
       "      <th>Is a RT</th>\n",
       "      <th>compound</th>\n",
       "      <th>neg</th>\n",
       "      <th>neu</th>\n",
       "      <th>pos</th>\n",
       "      <th>Compound_multiplied</th>\n",
       "      <th>Compound_multiplied_scaled</th>\n",
       "      <th>Predicted_change_stock</th>\n",
       "      <th>Buy/Sell</th>\n",
       "    </tr>\n",
       "  </thead>\n",
       "  <tbody>\n",
       "  </tbody>\n",
       "</table>\n",
       "</div>"
      ],
      "text/plain": [
       "Empty DataFrame\n",
       "Columns: [Volume_stock, Adj_Close_stock, HiLo_vola_stock, Pct_change_stock, Pct_change_stock_scaled, Favs, RTs, Followers, Following, Is a RT, compound, neg, neu, pos, Compound_multiplied, Compound_multiplied_scaled, Predicted_change_stock, Buy/Sell]\n",
       "Index: []"
      ]
     },
     "execution_count": 6,
     "metadata": {},
     "output_type": "execute_result"
    }
   ],
   "source": [
    "nan_rows = all_data[all_data['Predicted_change_stock'].isnull()]\n",
    "nan_rows"
   ]
  },
  {
   "cell_type": "code",
   "execution_count": 7,
   "metadata": {},
   "outputs": [
    {
     "data": {
      "text/plain": [
       "74"
      ]
     },
     "execution_count": 7,
     "metadata": {},
     "output_type": "execute_result"
    }
   ],
   "source": [
    "len(all_data)"
   ]
  },
  {
   "cell_type": "code",
   "execution_count": 8,
   "metadata": {
    "scrolled": true
   },
   "outputs": [
    {
     "data": {
      "text/html": [
       "<div>\n",
       "<style scoped>\n",
       "    .dataframe tbody tr th:only-of-type {\n",
       "        vertical-align: middle;\n",
       "    }\n",
       "\n",
       "    .dataframe tbody tr th {\n",
       "        vertical-align: top;\n",
       "    }\n",
       "\n",
       "    .dataframe thead th {\n",
       "        text-align: right;\n",
       "    }\n",
       "</style>\n",
       "<table border=\"1\" class=\"dataframe\">\n",
       "  <thead>\n",
       "    <tr style=\"text-align: right;\">\n",
       "      <th></th>\n",
       "      <th>Volume_stock</th>\n",
       "      <th>Adj_Close_stock</th>\n",
       "      <th>HiLo_vola_stock</th>\n",
       "      <th>Pct_change_stock</th>\n",
       "      <th>Pct_change_stock_scaled</th>\n",
       "      <th>Favs</th>\n",
       "      <th>RTs</th>\n",
       "      <th>Followers</th>\n",
       "      <th>Following</th>\n",
       "      <th>Is a RT</th>\n",
       "      <th>compound</th>\n",
       "      <th>neg</th>\n",
       "      <th>neu</th>\n",
       "      <th>pos</th>\n",
       "      <th>Compound_multiplied</th>\n",
       "      <th>Compound_multiplied_scaled</th>\n",
       "      <th>Predicted_change_stock</th>\n",
       "      <th>Buy/Sell</th>\n",
       "    </tr>\n",
       "  </thead>\n",
       "  <tbody>\n",
       "    <tr>\n",
       "      <th>count</th>\n",
       "      <td>7.400000e+01</td>\n",
       "      <td>74.000000</td>\n",
       "      <td>74.000000</td>\n",
       "      <td>74.000000</td>\n",
       "      <td>74.000000</td>\n",
       "      <td>74.000000</td>\n",
       "      <td>74.000000</td>\n",
       "      <td>74.000000</td>\n",
       "      <td>74.000000</td>\n",
       "      <td>74.000000</td>\n",
       "      <td>74.000000</td>\n",
       "      <td>74.000000</td>\n",
       "      <td>74.000000</td>\n",
       "      <td>74.000000</td>\n",
       "      <td>74.000000</td>\n",
       "      <td>74.000000</td>\n",
       "      <td>74.000000</td>\n",
       "      <td>74.000000</td>\n",
       "    </tr>\n",
       "    <tr>\n",
       "      <th>mean</th>\n",
       "      <td>9.731227e+06</td>\n",
       "      <td>33.997063</td>\n",
       "      <td>2.866570</td>\n",
       "      <td>-0.447087</td>\n",
       "      <td>0.022178</td>\n",
       "      <td>1.873590</td>\n",
       "      <td>2.362778</td>\n",
       "      <td>4158.740790</td>\n",
       "      <td>1047.781398</td>\n",
       "      <td>0.136907</td>\n",
       "      <td>0.218461</td>\n",
       "      <td>0.055512</td>\n",
       "      <td>0.796866</td>\n",
       "      <td>0.147624</td>\n",
       "      <td>442.440350</td>\n",
       "      <td>0.022435</td>\n",
       "      <td>-0.488144</td>\n",
       "      <td>-0.243243</td>\n",
       "    </tr>\n",
       "    <tr>\n",
       "      <th>std</th>\n",
       "      <td>3.143877e+06</td>\n",
       "      <td>3.336924</td>\n",
       "      <td>0.999271</td>\n",
       "      <td>1.512450</td>\n",
       "      <td>0.860596</td>\n",
       "      <td>1.489856</td>\n",
       "      <td>1.779835</td>\n",
       "      <td>6194.575281</td>\n",
       "      <td>1178.949550</td>\n",
       "      <td>0.143181</td>\n",
       "      <td>0.130938</td>\n",
       "      <td>0.027647</td>\n",
       "      <td>0.036900</td>\n",
       "      <td>0.040814</td>\n",
       "      <td>3204.139740</td>\n",
       "      <td>0.091246</td>\n",
       "      <td>1.581633</td>\n",
       "      <td>0.976586</td>\n",
       "    </tr>\n",
       "    <tr>\n",
       "      <th>min</th>\n",
       "      <td>5.018200e+06</td>\n",
       "      <td>30.006098</td>\n",
       "      <td>1.373308</td>\n",
       "      <td>-5.089362</td>\n",
       "      <td>-2.619312</td>\n",
       "      <td>1.000000</td>\n",
       "      <td>1.000000</td>\n",
       "      <td>28.000000</td>\n",
       "      <td>11.000000</td>\n",
       "      <td>0.000000</td>\n",
       "      <td>-0.042245</td>\n",
       "      <td>0.000000</td>\n",
       "      <td>0.695500</td>\n",
       "      <td>0.063667</td>\n",
       "      <td>-24255.853656</td>\n",
       "      <td>-0.680912</td>\n",
       "      <td>-5.089362</td>\n",
       "      <td>-1.000000</td>\n",
       "    </tr>\n",
       "    <tr>\n",
       "      <th>25%</th>\n",
       "      <td>7.338450e+06</td>\n",
       "      <td>31.092009</td>\n",
       "      <td>2.060415</td>\n",
       "      <td>-1.211461</td>\n",
       "      <td>-0.412757</td>\n",
       "      <td>1.000000</td>\n",
       "      <td>1.000000</td>\n",
       "      <td>1367.875962</td>\n",
       "      <td>395.832358</td>\n",
       "      <td>0.034483</td>\n",
       "      <td>0.121496</td>\n",
       "      <td>0.038277</td>\n",
       "      <td>0.780541</td>\n",
       "      <td>0.126429</td>\n",
       "      <td>124.810639</td>\n",
       "      <td>0.013390</td>\n",
       "      <td>-1.211461</td>\n",
       "      <td>-1.000000</td>\n",
       "    </tr>\n",
       "    <tr>\n",
       "      <th>50%</th>\n",
       "      <td>9.032517e+06</td>\n",
       "      <td>32.221743</td>\n",
       "      <td>2.770293</td>\n",
       "      <td>-0.418915</td>\n",
       "      <td>0.038208</td>\n",
       "      <td>1.450000</td>\n",
       "      <td>2.305556</td>\n",
       "      <td>2583.105392</td>\n",
       "      <td>723.038462</td>\n",
       "      <td>0.099408</td>\n",
       "      <td>0.214772</td>\n",
       "      <td>0.056847</td>\n",
       "      <td>0.797208</td>\n",
       "      <td>0.137407</td>\n",
       "      <td>407.177512</td>\n",
       "      <td>0.021431</td>\n",
       "      <td>-0.418915</td>\n",
       "      <td>-1.000000</td>\n",
       "    </tr>\n",
       "    <tr>\n",
       "      <th>75%</th>\n",
       "      <td>1.160547e+07</td>\n",
       "      <td>37.443207</td>\n",
       "      <td>3.503908</td>\n",
       "      <td>0.482330</td>\n",
       "      <td>0.551023</td>\n",
       "      <td>1.968597</td>\n",
       "      <td>2.501522</td>\n",
       "      <td>4460.559091</td>\n",
       "      <td>1371.403125</td>\n",
       "      <td>0.200000</td>\n",
       "      <td>0.269424</td>\n",
       "      <td>0.073731</td>\n",
       "      <td>0.816801</td>\n",
       "      <td>0.161935</td>\n",
       "      <td>1124.456466</td>\n",
       "      <td>0.041857</td>\n",
       "      <td>0.482330</td>\n",
       "      <td>1.000000</td>\n",
       "    </tr>\n",
       "    <tr>\n",
       "      <th>max</th>\n",
       "      <td>2.093950e+07</td>\n",
       "      <td>40.145294</td>\n",
       "      <td>5.669799</td>\n",
       "      <td>3.565896</td>\n",
       "      <td>2.305596</td>\n",
       "      <td>10.666667</td>\n",
       "      <td>12.428571</td>\n",
       "      <td>37904.563380</td>\n",
       "      <td>8271.600000</td>\n",
       "      <td>0.600000</td>\n",
       "      <td>0.851300</td>\n",
       "      <td>0.139414</td>\n",
       "      <td>0.865750</td>\n",
       "      <td>0.304500</td>\n",
       "      <td>7057.999731</td>\n",
       "      <td>0.210830</td>\n",
       "      <td>3.565896</td>\n",
       "      <td>1.000000</td>\n",
       "    </tr>\n",
       "  </tbody>\n",
       "</table>\n",
       "</div>"
      ],
      "text/plain": [
       "       Volume_stock  Adj_Close_stock  HiLo_vola_stock  Pct_change_stock  \\\n",
       "count  7.400000e+01        74.000000        74.000000         74.000000   \n",
       "mean   9.731227e+06        33.997063         2.866570         -0.447087   \n",
       "std    3.143877e+06         3.336924         0.999271          1.512450   \n",
       "min    5.018200e+06        30.006098         1.373308         -5.089362   \n",
       "25%    7.338450e+06        31.092009         2.060415         -1.211461   \n",
       "50%    9.032517e+06        32.221743         2.770293         -0.418915   \n",
       "75%    1.160547e+07        37.443207         3.503908          0.482330   \n",
       "max    2.093950e+07        40.145294         5.669799          3.565896   \n",
       "\n",
       "       Pct_change_stock_scaled       Favs        RTs     Followers  \\\n",
       "count                74.000000  74.000000  74.000000     74.000000   \n",
       "mean                  0.022178   1.873590   2.362778   4158.740790   \n",
       "std                   0.860596   1.489856   1.779835   6194.575281   \n",
       "min                  -2.619312   1.000000   1.000000     28.000000   \n",
       "25%                  -0.412757   1.000000   1.000000   1367.875962   \n",
       "50%                   0.038208   1.450000   2.305556   2583.105392   \n",
       "75%                   0.551023   1.968597   2.501522   4460.559091   \n",
       "max                   2.305596  10.666667  12.428571  37904.563380   \n",
       "\n",
       "         Following    Is a RT   compound        neg        neu        pos  \\\n",
       "count    74.000000  74.000000  74.000000  74.000000  74.000000  74.000000   \n",
       "mean   1047.781398   0.136907   0.218461   0.055512   0.796866   0.147624   \n",
       "std    1178.949550   0.143181   0.130938   0.027647   0.036900   0.040814   \n",
       "min      11.000000   0.000000  -0.042245   0.000000   0.695500   0.063667   \n",
       "25%     395.832358   0.034483   0.121496   0.038277   0.780541   0.126429   \n",
       "50%     723.038462   0.099408   0.214772   0.056847   0.797208   0.137407   \n",
       "75%    1371.403125   0.200000   0.269424   0.073731   0.816801   0.161935   \n",
       "max    8271.600000   0.600000   0.851300   0.139414   0.865750   0.304500   \n",
       "\n",
       "       Compound_multiplied  Compound_multiplied_scaled  \\\n",
       "count            74.000000                   74.000000   \n",
       "mean            442.440350                    0.022435   \n",
       "std            3204.139740                    0.091246   \n",
       "min          -24255.853656                   -0.680912   \n",
       "25%             124.810639                    0.013390   \n",
       "50%             407.177512                    0.021431   \n",
       "75%            1124.456466                    0.041857   \n",
       "max            7057.999731                    0.210830   \n",
       "\n",
       "       Predicted_change_stock   Buy/Sell  \n",
       "count               74.000000  74.000000  \n",
       "mean                -0.488144  -0.243243  \n",
       "std                  1.581633   0.976586  \n",
       "min                 -5.089362  -1.000000  \n",
       "25%                 -1.211461  -1.000000  \n",
       "50%                 -0.418915  -1.000000  \n",
       "75%                  0.482330   1.000000  \n",
       "max                  3.565896   1.000000  "
      ]
     },
     "execution_count": 8,
     "metadata": {},
     "output_type": "execute_result"
    }
   ],
   "source": [
    "all_data.describe()"
   ]
  },
  {
   "cell_type": "code",
   "execution_count": 9,
   "metadata": {},
   "outputs": [
    {
     "name": "stdout",
     "output_type": "stream",
     "text": [
      "<class 'pandas.core.frame.DataFrame'>\n",
      "DatetimeIndex: 74 entries, 2016-04-01 to 2016-06-13\n",
      "Data columns (total 18 columns):\n",
      "Volume_stock                  74 non-null float64\n",
      "Adj_Close_stock               74 non-null float64\n",
      "HiLo_vola_stock               74 non-null float64\n",
      "Pct_change_stock              74 non-null float64\n",
      "Pct_change_stock_scaled       74 non-null float64\n",
      "Favs                          74 non-null float64\n",
      "RTs                           74 non-null float64\n",
      "Followers                     74 non-null float64\n",
      "Following                     74 non-null float64\n",
      "Is a RT                       74 non-null float64\n",
      "compound                      74 non-null float64\n",
      "neg                           74 non-null float64\n",
      "neu                           74 non-null float64\n",
      "pos                           74 non-null float64\n",
      "Compound_multiplied           74 non-null float64\n",
      "Compound_multiplied_scaled    74 non-null float64\n",
      "Predicted_change_stock        74 non-null float64\n",
      "Buy/Sell                      74 non-null float64\n",
      "dtypes: float64(18)\n",
      "memory usage: 11.0 KB\n"
     ]
    }
   ],
   "source": [
    "all_data.info()"
   ]
  },
  {
   "cell_type": "markdown",
   "metadata": {},
   "source": [
    "### How are the 'Compound_multiplied_scaled' -features distributed"
   ]
  },
  {
   "cell_type": "code",
   "execution_count": 10,
   "metadata": {},
   "outputs": [
    {
     "name": "stderr",
     "output_type": "stream",
     "text": [
      "C:\\Users\\jangn\\AppData\\Local\\Enthought\\Canopy\\edm\\envs\\Default_Python3\\lib\\site-packages\\matplotlib\\axes\\_axes.py:6510: MatplotlibDeprecationWarning: \n",
      "The 'normed' kwarg was deprecated in Matplotlib 2.1 and will be removed in 3.1. Use 'density' instead.\n",
      "  alternative=\"'density'\", removal=\"3.1\")\n"
     ]
    },
    {
     "data": {
      "image/png": "[encoded data removed]",
      "text/plain": [
       "<Figure size 1152x288 with 1 Axes>"
      ]
     },
     "metadata": {},
     "output_type": "display_data"
    }
   ],
   "source": [
    "fig_size = plt.rcParams[\"figure.figsize\"]\n",
    "fig_size[0] =16.0\n",
    "fig_size[1] = 4.0\n",
    "x = all_data['Compound_multiplied_scaled'] \n",
    "plt.hist(x, normed=True, bins=250)\n",
    "plt.ylabel('Compound_multiplied_scaled'); \n"
   ]
  },
  {
   "cell_type": "markdown",
   "metadata": {},
   "source": [
    "### Train - Test split"
   ]
  },
  {
   "cell_type": "code",
   "execution_count": 11,
   "metadata": {},
   "outputs": [],
   "source": [
    "x = np.array(all_data[['Compound_multiplied_scaled']]) #\n",
    "y = np.array(all_data['Buy/Sell'])\n",
    "\n",
    "# from sklearn.model_selection import train_test_split\n",
    "\n",
    "x_train, x_test, y_train, y_test = train_test_split(x, y, test_size = 0.2, random_state = 42)"
   ]
  },
  {
   "cell_type": "markdown",
   "metadata": {
    "collapsed": true
   },
   "source": [
    "### KNN - K-Nearest-Neighbors\n",
    "Accuracy from running only 20% Testing data against 80% Training data."
   ]
  },
  {
   "cell_type": "code",
   "execution_count": 12,
   "metadata": {},
   "outputs": [
    {
     "data": {
      "text/plain": [
       "0.59999999999999998"
      ]
     },
     "execution_count": 12,
     "metadata": {},
     "output_type": "execute_result"
    }
   ],
   "source": [
    "# from sklearn.neighbors import KNeighborsClassifier\n",
    "# from sklearn.model_selection import cross_val_score\n",
    "\n",
    "neigh = KNeighborsClassifier(n_neighbors=5)\n",
    "neigh.fit(x_train, y_train) \n",
    "neigh.score( x_test, y_test)"
   ]
  },
  {
   "cell_type": "markdown",
   "metadata": {
    "collapsed": true
   },
   "source": [
    "#### Accuracy after cross validation "
   ]
  },
  {
   "cell_type": "code",
   "execution_count": 13,
   "metadata": {},
   "outputs": [
    {
     "name": "stdout",
     "output_type": "stream",
     "text": [
      "0.575238095238\n"
     ]
    }
   ],
   "source": [
    "neigh_cv = cross_val_score(neigh, x_train, y_train, cv=10) \n",
    "print(neigh_cv.mean()) "
   ]
  },
  {
   "cell_type": "markdown",
   "metadata": {},
   "source": [
    "### Logistic Regression\n",
    "Accuracy from running only 20% Testing data against 80% Training data."
   ]
  },
  {
   "cell_type": "code",
   "execution_count": 14,
   "metadata": {},
   "outputs": [
    {
     "data": {
      "text/plain": [
       "0.59999999999999998"
      ]
     },
     "execution_count": 14,
     "metadata": {},
     "output_type": "execute_result"
    }
   ],
   "source": [
    "# from sklearn.linear_model import LogisticRegression\n",
    "\n",
    "logreg = LogisticRegression(random_state=42)\n",
    "logreg.fit(x_train, y_train)\n",
    "logreg.score( x_test, y_test)"
   ]
  },
  {
   "cell_type": "markdown",
   "metadata": {},
   "source": [
    "#### Accuracy after cross validation "
   ]
  },
  {
   "cell_type": "code",
   "execution_count": 15,
   "metadata": {},
   "outputs": [
    {
     "name": "stdout",
     "output_type": "stream",
     "text": [
      "0.627619047619\n"
     ]
    }
   ],
   "source": [
    "logreg_cv = cross_val_score(logreg, x_train, y_train, cv=10)\n",
    "print(logreg_cv.mean())"
   ]
  },
  {
   "cell_type": "markdown",
   "metadata": {},
   "source": [
    "### Support Vector Machines (SVM) with linear kernel\n",
    "Accuracy from running only 20% Testing data against 80% Training data.\n",
    "#### kernel = 'linear'"
   ]
  },
  {
   "cell_type": "code",
   "execution_count": 16,
   "metadata": {},
   "outputs": [
    {
     "data": {
      "text/plain": [
       "0.59999999999999998"
      ]
     },
     "execution_count": 16,
     "metadata": {},
     "output_type": "execute_result"
    }
   ],
   "source": [
    "# from sklearn.svm import SVC\n",
    "\n",
    "svm_linear = SVC( kernel = 'linear')\n",
    "svm_linear.fit(x_train, y_train)\n",
    "svm_linear.score(x_test, y_test)"
   ]
  },
  {
   "cell_type": "markdown",
   "metadata": {},
   "source": [
    "#### Accuracy for 'linear' after cross validation"
   ]
  },
  {
   "cell_type": "code",
   "execution_count": 17,
   "metadata": {},
   "outputs": [
    {
     "name": "stdout",
     "output_type": "stream",
     "text": [
      "0.627619047619\n"
     ]
    }
   ],
   "source": [
    "svm_linear_cv = cross_val_score(svm_linear, x_train, y_train, cv=10)\n",
    "print(svm_linear_cv.mean())"
   ]
  },
  {
   "cell_type": "markdown",
   "metadata": {},
   "source": [
    "#### kernel = 'rbf' - NOT USED"
   ]
  },
  {
   "cell_type": "code",
   "execution_count": 18,
   "metadata": {},
   "outputs": [],
   "source": [
    "# svm_rbf = SVC( kernel = 'rbf')\n",
    "# svm_rbf.fit(x_train, y_train) "
   ]
  },
  {
   "cell_type": "markdown",
   "metadata": {},
   "source": [
    "#### Accuracy for 'rbf' after cross validation"
   ]
  },
  {
   "cell_type": "code",
   "execution_count": 19,
   "metadata": {},
   "outputs": [],
   "source": [
    "# svm_rbf_cv = cross_val_score(svm_rbf, x_train, y_train, cv=10) \n",
    "# print(svm_rbf_cv.mean())"
   ]
  },
  {
   "cell_type": "markdown",
   "metadata": {},
   "source": [
    "### Naive Bayes\n",
    "\n",
    "Please note! A MinMaxScaler is needed to get the features in the range MultinomialNB requires. No 20/80 testing was done, only cross-validation."
   ]
  },
  {
   "cell_type": "code",
   "execution_count": 20,
   "metadata": {},
   "outputs": [],
   "source": [
    "# from sklearn.naive_bayes import MultinomialNB\n",
    "\n",
    "# from sklearn.preprocessing import MinMaxScaler\n",
    "scaler = MinMaxScaler() \n",
    "X_minmax = scaler.fit_transform(x_train)\n",
    "\n",
    "mnb = MultinomialNB()"
   ]
  },
  {
   "cell_type": "markdown",
   "metadata": {},
   "source": [
    "#### Accuracy after cross validation"
   ]
  },
  {
   "cell_type": "code",
   "execution_count": 21,
   "metadata": {},
   "outputs": [
    {
     "name": "stdout",
     "output_type": "stream",
     "text": [
      "0.627619047619\n"
     ]
    }
   ],
   "source": [
    "mnb_cv = cross_val_score(mnb, X_minmax, y_train, cv=10) # uscaled data accuracy same;  6588046192259676\n",
    "print(mnb_cv.mean())"
   ]
  },
  {
   "cell_type": "markdown",
   "metadata": {},
   "source": [
    "### Decision Tree\n",
    "Accuracy from running only 20% Testing data against 80% Training data. Probably overfitting, a typical problem with Decistion Trees."
   ]
  },
  {
   "cell_type": "code",
   "execution_count": 22,
   "metadata": {},
   "outputs": [
    {
     "data": {
      "text/plain": [
       "0.73333333333333328"
      ]
     },
     "execution_count": 22,
     "metadata": {},
     "output_type": "execute_result"
    }
   ],
   "source": [
    "# from sklearn import tree\n",
    "dtc = tree.DecisionTreeClassifier(random_state=42)\n",
    "dtc.fit(x_train, y_train) \n",
    "dtc.score(x_test, y_test)"
   ]
  },
  {
   "cell_type": "markdown",
   "metadata": {},
   "source": [
    "### Decision Tree as an image"
   ]
  },
  {
   "cell_type": "code",
   "execution_count": 23,
   "metadata": {},
   "outputs": [
    {
     "data": {
      "image/png": "[encoded data removed]",
      "text/plain": [
       "<IPython.core.display.Image object>"
      ]
     },
     "execution_count": 23,
     "metadata": {},
     "output_type": "execute_result"
    }
   ],
   "source": [
    "features = ['Buy/Sell']\n",
    "\n",
    "# import pydotplus\n",
    "# from sklearn.externals.six import StringIO  \n",
    "# from IPython.display import Image\n",
    "dot_data = StringIO()  \n",
    "tree.export_graphviz(dtc, out_file=dot_data,  \n",
    "                         feature_names=features)  \n",
    "graph = pydotplus.graph_from_dot_data(dot_data.getvalue())  \n",
    "Image(graph.create_png()) "
   ]
  },
  {
   "cell_type": "markdown",
   "metadata": {},
   "source": [
    "#### Accuracy after cross validation"
   ]
  },
  {
   "cell_type": "code",
   "execution_count": 24,
   "metadata": {},
   "outputs": [
    {
     "name": "stdout",
     "output_type": "stream",
     "text": [
      "0.709523809524\n"
     ]
    }
   ],
   "source": [
    "dtc_cv = cross_val_score(dtc, x_train, y_train, cv=10) \n",
    "print(dtc_cv.mean())"
   ]
  },
  {
   "cell_type": "markdown",
   "metadata": {},
   "source": [
    "### Random Forest\n",
    "Accuracy from running only 20% Testing data against 80% Training data. Apparenlty same overfitting problem as with the Decision Tree above. Probably due to the limited amount of data!"
   ]
  },
  {
   "cell_type": "code",
   "execution_count": 25,
   "metadata": {},
   "outputs": [
    {
     "data": {
      "text/plain": [
       "0.73333333333333328"
      ]
     },
     "execution_count": 25,
     "metadata": {},
     "output_type": "execute_result"
    }
   ],
   "source": [
    "# from sklearn.ensemble import RandomForestClassifier \n",
    "\n",
    "forest_reg = RandomForestClassifier(random_state=42)\n",
    "forest_reg.fit(x_train, y_train)\n",
    "forest_reg.score(x_test, y_test)"
   ]
  },
  {
   "cell_type": "markdown",
   "metadata": {},
   "source": [
    "#### Accuracy after cross validation"
   ]
  },
  {
   "cell_type": "code",
   "execution_count": 26,
   "metadata": {},
   "outputs": [
    {
     "name": "stdout",
     "output_type": "stream",
     "text": [
      "0.712857142857\n"
     ]
    }
   ],
   "source": [
    "forest_reg_cv = cross_val_score(forest_reg, x_train, y_train, cv=10) \n",
    "print(forest_reg_cv.mean())  "
   ]
  },
  {
   "cell_type": "markdown",
   "metadata": {
    "collapsed": true
   },
   "source": [
    "## Results Summary"
   ]
  },
  {
   "cell_type": "code",
   "execution_count": 27,
   "metadata": {},
   "outputs": [
    {
     "name": "stdout",
     "output_type": "stream",
     "text": [
      "KNN: \t\t\t 0.575238095238\n",
      "Logistic Regression: \t 0.627619047619\n",
      "SVM linear: \t\t 0.627619047619\n",
      "Naive Bayes: \t\t 0.627619047619\n",
      "Decision Tree: \t\t 0.709523809524\n",
      "Random Forest: \t\t 0.712857142857\n"
     ]
    }
   ],
   "source": [
    "print(\"KNN: \\t\\t\\t\", neigh_cv.mean())\n",
    "print(\"Logistic Regression: \\t\", logreg_cv.mean())\n",
    "print(\"SVM linear: \\t\\t\", svm_linear_cv.mean())\n",
    "print(\"Naive Bayes: \\t\\t\", mnb_cv.mean())\n",
    "print(\"Decision Tree: \\t\\t\", dtc_cv.mean())\n",
    "print(\"Random Forest: \\t\\t\", forest_reg_cv.mean())"
   ]
  },
  {
   "cell_type": "code",
   "execution_count": 28,
   "metadata": {},
   "outputs": [],
   "source": [
    "results = []\n",
    "cv = [neigh_cv.mean(), logreg_cv.mean(), svm_linear_cv.mean(),mnb_cv.mean(),dtc_cv.mean(), forest_reg_cv.mean()]\n",
    "results.append(cv)"
   ]
  },
  {
   "cell_type": "code",
   "execution_count": 29,
   "metadata": {},
   "outputs": [],
   "source": [
    "results = {'0': ['KNN', 'LogReg', 'SVM linear', 'Naive Bayes', 'Decision Tree', 'Random Forest'],\n",
    "          '1':[neigh_cv.mean(), logreg_cv.mean(), svm_linear_cv.mean(), mnb_cv.mean(),dtc_cv.mean(),forest_reg_cv.mean()]}"
   ]
  },
  {
   "cell_type": "code",
   "execution_count": 30,
   "metadata": {
    "scrolled": true
   },
   "outputs": [],
   "source": [
    "summary = pd.DataFrame.from_dict(results)\n",
    "summary = summary.transpose()\n",
    "summary = summary.rename(index = {'0':'Model', '1':'AAL'}) # Update cashtag!"
   ]
  },
  {
   "cell_type": "code",
   "execution_count": 31,
   "metadata": {},
   "outputs": [
    {
     "data": {
      "text/html": [
       "<div>\n",
       "<style scoped>\n",
       "    .dataframe tbody tr th:only-of-type {\n",
       "        vertical-align: middle;\n",
       "    }\n",
       "\n",
       "    .dataframe tbody tr th {\n",
       "        vertical-align: top;\n",
       "    }\n",
       "\n",
       "    .dataframe thead th {\n",
       "        text-align: right;\n",
       "    }\n",
       "</style>\n",
       "<table border=\"1\" class=\"dataframe\">\n",
       "  <thead>\n",
       "    <tr style=\"text-align: right;\">\n",
       "      <th></th>\n",
       "      <th>0</th>\n",
       "      <th>1</th>\n",
       "      <th>2</th>\n",
       "      <th>3</th>\n",
       "      <th>4</th>\n",
       "      <th>5</th>\n",
       "    </tr>\n",
       "  </thead>\n",
       "  <tbody>\n",
       "    <tr>\n",
       "      <th>Model</th>\n",
       "      <td>KNN</td>\n",
       "      <td>LogReg</td>\n",
       "      <td>SVM linear</td>\n",
       "      <td>Naive Bayes</td>\n",
       "      <td>Decision Tree</td>\n",
       "      <td>Random Forest</td>\n",
       "    </tr>\n",
       "    <tr>\n",
       "      <th>AAL</th>\n",
       "      <td>0.575238</td>\n",
       "      <td>0.627619</td>\n",
       "      <td>0.627619</td>\n",
       "      <td>0.627619</td>\n",
       "      <td>0.709524</td>\n",
       "      <td>0.712857</td>\n",
       "    </tr>\n",
       "  </tbody>\n",
       "</table>\n",
       "</div>"
      ],
      "text/plain": [
       "              0         1           2            3              4  \\\n",
       "Model       KNN    LogReg  SVM linear  Naive Bayes  Decision Tree   \n",
       "AAL    0.575238  0.627619    0.627619     0.627619       0.709524   \n",
       "\n",
       "                   5  \n",
       "Model  Random Forest  \n",
       "AAL         0.712857  "
      ]
     },
     "execution_count": 31,
     "metadata": {},
     "output_type": "execute_result"
    }
   ],
   "source": [
    "summary"
   ]
  },
  {
   "cell_type": "markdown",
   "metadata": {},
   "source": [
    "### Save the result from each classifier for this cashtag  in an excel\n",
    "The results are used for creating an overall summary for each cashtag and classifier."
   ]
  },
  {
   "cell_type": "code",
   "execution_count": 32,
   "metadata": {},
   "outputs": [],
   "source": [
    "# import xlsxwriter\n",
    "# import os\n",
    "\n",
    "writer_df = pd.ExcelWriter('summary.xlsx', engine='xlsxwriter')\n",
    "summary.to_excel(writer_df)\n",
    "writer_df.save()\n",
    "\n",
    "os.rename('summary.xlsx', 'AAL_summary.xlsx') # Update cashtag!"
   ]
  },
  {
   "cell_type": "code",
   "execution_count": null,
   "metadata": {
    "collapsed": true
   },
   "outputs": [],
   "source": []
  }
 ],
 "metadata": {
  "kernelspec": {
   "display_name": "Python 3",
   "language": "python",
   "name": "python3"
  },
  "language_info": {
   "codemirror_mode": {
    "name": "ipython",
    "version": 3
   },
   "file_extension": ".py",
   "mimetype": "text/x-python",
   "name": "python",
   "nbconvert_exporter": "python",
   "pygments_lexer": "ipython3",
   "version": "3.7.0"
  }
 },
 "nbformat": 4,
 "nbformat_minor": 2
}
